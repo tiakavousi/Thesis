{
 "cells": [
  {
   "cell_type": "code",
   "execution_count": 1,
   "id": "1044442e",
   "metadata": {},
   "outputs": [],
   "source": [
    "import os\n",
    "import sys\n",
    "import matplotlib.pyplot as plt\n",
    "import pandas as pd\n",
    "import numpy as np\n",
    "import seaborn as sns\n",
    "from IPython.display import display, HTML, clear_output"
   ]
  },
  {
   "cell_type": "code",
   "execution_count": 2,
   "id": "1e44ee5b",
   "metadata": {},
   "outputs": [
    {
     "name": "stdout",
     "output_type": "stream",
     "text": [
      "Environment setup complete!\n"
     ]
    }
   ],
   "source": [
    "project_root = \"/Users/tayebekavousi/Desktop/github_sa\"\n",
    "# Save the original directory to go back to it later if needed\n",
    "original_dir = os.getcwd()\n",
    "# Change to the project root directory\n",
    "os.chdir(project_root)\n",
    "# Ensure the project root is in the Python path\n",
    "if project_root not in sys.path:\n",
    "    sys.path.insert(0, project_root)\n",
    "sys.path.insert(0, '')  # Add current directory (empty string) to path\n",
    "\n",
    "\n",
    "print(\"Environment setup complete!\")"
   ]
  },
  {
   "cell_type": "code",
   "execution_count": 3,
   "id": "16d266d2",
   "metadata": {},
   "outputs": [],
   "source": [
    "from src.models.codebert.train_codebert import main\n",
    "from src.config import CONFIG"
   ]
  },
  {
   "cell_type": "code",
   "execution_count": 4,
   "id": "fa397fc3",
   "metadata": {},
   "outputs": [
    {
     "name": "stdout",
     "output_type": "stream",
     "text": [
      "Starting fine-tuning process...\n",
      "[INFO] Initializing CodeBERT fine-tuner with model: microsoft/codebert-base\n"
     ]
    },
    {
     "data": {
      "application/vnd.jupyter.widget-view+json": {
       "model_id": "9df32a4bb893418baa539a2219f515b5",
       "version_major": 2,
       "version_minor": 0
      },
      "text/plain": [
       "Downloading tokenizer_config.json:   0%|          | 0.00/25.0 [00:00<?, ?B/s]"
      ]
     },
     "metadata": {},
     "output_type": "display_data"
    },
    {
     "data": {
      "application/vnd.jupyter.widget-view+json": {
       "model_id": "0e33132366594f4dab99316cacc1b6d4",
       "version_major": 2,
       "version_minor": 0
      },
      "text/plain": [
       "Downloading vocab.json:   0%|          | 0.00/899k [00:00<?, ?B/s]"
      ]
     },
     "metadata": {},
     "output_type": "display_data"
    },
    {
     "data": {
      "application/vnd.jupyter.widget-view+json": {
       "model_id": "f5edb8129e90459e8c2c246d009ef119",
       "version_major": 2,
       "version_minor": 0
      },
      "text/plain": [
       "Downloading merges.txt:   0%|          | 0.00/456k [00:00<?, ?B/s]"
      ]
     },
     "metadata": {},
     "output_type": "display_data"
    },
    {
     "data": {
      "application/vnd.jupyter.widget-view+json": {
       "model_id": "46da15063eb44df388a9b871b1b8856e",
       "version_major": 2,
       "version_minor": 0
      },
      "text/plain": [
       "Downloading (…)cial_tokens_map.json:   0%|          | 0.00/150 [00:00<?, ?B/s]"
      ]
     },
     "metadata": {},
     "output_type": "display_data"
    },
    {
     "data": {
      "application/vnd.jupyter.widget-view+json": {
       "model_id": "a2a80f2e71ed42be8ae1d2027ae955f9",
       "version_major": 2,
       "version_minor": 0
      },
      "text/plain": [
       "Downloading config.json:   0%|          | 0.00/498 [00:00<?, ?B/s]"
      ]
     },
     "metadata": {},
     "output_type": "display_data"
    },
    {
     "name": "stdout",
     "output_type": "stream",
     "text": [
      "[INFO] Tokenizer loaded successfully.\n"
     ]
    },
    {
     "data": {
      "application/vnd.jupyter.widget-view+json": {
       "model_id": "fe9a1eb992d447d4bc22bcd3a4259e76",
       "version_major": 2,
       "version_minor": 0
      },
      "text/plain": [
       "Downloading pytorch_model.bin:   0%|          | 0.00/499M [00:00<?, ?B/s]"
      ]
     },
     "metadata": {},
     "output_type": "display_data"
    },
    {
     "name": "stderr",
     "output_type": "stream",
     "text": [
      "Some weights of the model checkpoint at microsoft/codebert-base were not used when initializing RobertaForSequenceClassification: ['pooler.dense.weight', 'pooler.dense.bias']\n",
      "- This IS expected if you are initializing RobertaForSequenceClassification from the checkpoint of a model trained on another task or with another architecture (e.g. initializing a BertForSequenceClassification model from a BertForPreTraining model).\n",
      "- This IS NOT expected if you are initializing RobertaForSequenceClassification from the checkpoint of a model that you expect to be exactly identical (initializing a BertForSequenceClassification model from a BertForSequenceClassification model).\n",
      "Some weights of RobertaForSequenceClassification were not initialized from the model checkpoint at microsoft/codebert-base and are newly initialized: ['classifier.out_proj.weight', 'classifier.dense.weight', 'classifier.dense.bias', 'classifier.out_proj.bias']\n",
      "You should probably TRAIN this model on a down-stream task to be able to use it for predictions and inference.\n",
      "/Library/Frameworks/Python.framework/Versions/3.7/lib/python3.7/site-packages/transformers/optimization.py:415: FutureWarning: This implementation of AdamW is deprecated and will be removed in a future version. Use the PyTorch implementation torch.optim.AdamW instead, or set `no_deprecation_warning=True` to disable this warning\n",
      "  FutureWarning,\n",
      "2025-03-17 15:30:42,567 - INFO - Initialized CodeBERTFineTuner with model 'microsoft/codebert-base'\n",
      "2025-03-17 15:30:42,568 - INFO - Starting CodeBERT fine-tuning process.\n",
      "2025-03-17 15:30:42,632 - INFO - Dataset loaded with 3238 samples.\n"
     ]
    },
    {
     "name": "stdout",
     "output_type": "stream",
     "text": [
      "[INFO] Model microsoft/codebert-base initialized with 2 labels.\n",
      "[INFO] Model moved to device: cpu\n",
      "[INFO] Data module initialized.\n",
      "[INFO] Model initialized on device: cpu\n",
      "[INFO] Optimizer: AdamW with learning rate 2e-05\n",
      "[INFO] ModelTrainer initialized.\n",
      "\n",
      "[INFO] Starting CodeBERT fine-tuning process.\n",
      "[INFO] Loading dataset...\n",
      "[INFO] Loaded dataset with 3238 samples.\n",
      "[INFO] Creating dataloaders...\n",
      "[INFO] Dataloaders created.\n",
      "\n",
      "[INFO] Starting training...\n",
      "[INFO] Training started for 3 epochs.\n",
      "Batch 0 - Input Shape: torch.Size([16, 128]), Labels Shape: torch.Size([16])\n",
      "Batch 1 - Input Shape: torch.Size([16, 128]), Labels Shape: torch.Size([16])\n",
      "Batch 2 - Input Shape: torch.Size([16, 128]), Labels Shape: torch.Size([16])\n",
      "Batch 3 - Input Shape: torch.Size([16, 128]), Labels Shape: torch.Size([16])\n",
      "Batch 4 - Input Shape: torch.Size([16, 128]), Labels Shape: torch.Size([16])\n",
      "Batch 5 - Input Shape: torch.Size([16, 128]), Labels Shape: torch.Size([16])\n"
     ]
    },
    {
     "data": {
      "application/vnd.jupyter.widget-view+json": {
       "model_id": "d6510ce112b14bbdaef8a897075be14a",
       "version_major": 2,
       "version_minor": 0
      },
      "text/plain": [
       "Epochs:   0%|          | 0/3 [00:00<?, ?it/s]"
      ]
     },
     "metadata": {},
     "output_type": "display_data"
    },
    {
     "name": "stderr",
     "output_type": "stream",
     "text": [
      "2025-03-17 15:30:42,748 - INFO - Epoch 1/3\n"
     ]
    },
    {
     "data": {
      "application/vnd.jupyter.widget-view+json": {
       "model_id": "",
       "version_major": 2,
       "version_minor": 0
      },
      "text/plain": [
       "Training Batches:   0%|          | 0/152 [00:00<?, ?it/s]"
      ]
     },
     "metadata": {},
     "output_type": "display_data"
    },
    {
     "data": {
      "application/vnd.jupyter.widget-view+json": {
       "model_id": "",
       "version_major": 2,
       "version_minor": 0
      },
      "text/plain": [
       "Evaluating:   0%|          | 0/31 [00:00<?, ?it/s]"
      ]
     },
     "metadata": {},
     "output_type": "display_data"
    },
    {
     "name": "stdout",
     "output_type": "stream",
     "text": [
      "\n",
      "================================================================================\n",
      "⏱️  Epoch: 1/3\n",
      "================================================================================\n",
      "📊 Training   | Loss: 0.5732\n",
      "📊 Validation | Loss: 0.2712 | Accuracy: 0.8971 | F1 Score: 0.8971\n",
      "================================================================================\n",
      "\n"
     ]
    },
    {
     "name": "stderr",
     "output_type": "stream",
     "text": [
      "2025-03-17 16:05:07,356 - INFO - Checkpoint saved to ./saved_models/model_best_f1_0.8971.pt\n",
      "2025-03-17 16:05:07,359 - INFO - Epoch 2/3\n"
     ]
    },
    {
     "name": "stdout",
     "output_type": "stream",
     "text": [
      "📈 New best model saved!\n"
     ]
    },
    {
     "data": {
      "application/vnd.jupyter.widget-view+json": {
       "model_id": "",
       "version_major": 2,
       "version_minor": 0
      },
      "text/plain": [
       "Training Batches:   0%|          | 0/152 [00:00<?, ?it/s]"
      ]
     },
     "metadata": {},
     "output_type": "display_data"
    },
    {
     "data": {
      "application/vnd.jupyter.widget-view+json": {
       "model_id": "",
       "version_major": 2,
       "version_minor": 0
      },
      "text/plain": [
       "Evaluating:   0%|          | 0/31 [00:00<?, ?it/s]"
      ]
     },
     "metadata": {},
     "output_type": "display_data"
    },
    {
     "name": "stdout",
     "output_type": "stream",
     "text": [
      "\n",
      "================================================================================\n",
      "⏱️  Epoch: 2/3\n",
      "================================================================================\n",
      "📊 Training   | Loss: 0.2731\n",
      "📊 Validation | Loss: 0.2264 | Accuracy: 0.9218 | F1 Score: 0.9218\n",
      "================================================================================\n",
      "\n"
     ]
    },
    {
     "name": "stderr",
     "output_type": "stream",
     "text": [
      "2025-03-17 16:40:18,700 - INFO - Checkpoint saved to ./saved_models/model_best_f1_0.9218.pt\n",
      "2025-03-17 16:40:18,702 - INFO - Epoch 3/3\n"
     ]
    },
    {
     "name": "stdout",
     "output_type": "stream",
     "text": [
      "📈 New best model saved!\n"
     ]
    },
    {
     "data": {
      "application/vnd.jupyter.widget-view+json": {
       "model_id": "",
       "version_major": 2,
       "version_minor": 0
      },
      "text/plain": [
       "Training Batches:   0%|          | 0/152 [00:00<?, ?it/s]"
      ]
     },
     "metadata": {},
     "output_type": "display_data"
    },
    {
     "data": {
      "application/vnd.jupyter.widget-view+json": {
       "model_id": "",
       "version_major": 2,
       "version_minor": 0
      },
      "text/plain": [
       "Evaluating:   0%|          | 0/31 [00:00<?, ?it/s]"
      ]
     },
     "metadata": {},
     "output_type": "display_data"
    },
    {
     "name": "stdout",
     "output_type": "stream",
     "text": [
      "\n",
      "================================================================================\n",
      "⏱️  Epoch: 3/3\n",
      "================================================================================\n",
      "📊 Training   | Loss: 0.1752\n",
      "📊 Validation | Loss: 0.2730 | Accuracy: 0.9198 | F1 Score: 0.9197\n",
      "================================================================================\n",
      "\n",
      "✅ Training complete!\n"
     ]
    },
    {
     "data": {
      "image/png": "[encoded data removed]",
      "text/plain": [
       "<Figure size 1500x1000 with 2 Axes>"
      ]
     },
     "metadata": {},
     "output_type": "display_data"
    },
    {
     "name": "stdout",
     "output_type": "stream",
     "text": [
      "[INFO] Training complete.\n",
      "[INFO] Evaluating model...\n",
      "[INFO] Initializing model evaluator...\n",
      "[INFO] Running evaluation...\n",
      "[INFO] Evaluating model on 21 batches...\n",
      "[INFO] Evaluation complete. Processed 324 samples.\n",
      "[INFO] Calculating metrics...\n",
      "[INFO] Metrics calculated. Overall accuracy: 0.9105\n",
      "[INFO] Generating evaluation report at evaluation_results/microsoft/codebert-base_evaluation_report.pdf...\n"
     ]
    },
    {
     "name": "stderr",
     "output_type": "stream",
     "text": [
      "2025-03-17 17:16:21,319 - INFO - Evaluation report saved as 'evaluation_results/microsoft/codebert-base_evaluation_report.pdf'\n",
      "2025-03-17 17:16:21,335 - INFO - Evaluation report generated at evaluation_results/microsoft/codebert-base_evaluation_report.pdf\n",
      "2025-03-17 17:16:21,345 - INFO - Completed CodeBERT fine-tuning process.\n"
     ]
    },
    {
     "name": "stdout",
     "output_type": "stream",
     "text": [
      "[INFO] Evaluation report saved as 'evaluation_results/microsoft/codebert-base_evaluation_report.pdf'\n",
      "[INFO] Calculating metrics...\n",
      "[INFO] Metrics calculated. Overall accuracy: 0.9105\n",
      "[INFO] Evaluation report generated at evaluation_results/microsoft/codebert-base_evaluation_report.pdf\n",
      "[INFO] Model evaluation metrics: {'accuracy': 0.9104938271604939, 'precision': 0.8888888888888888, 'recall': 0.9382716049382716, 'f1': 0.9129129129129129, 'per_class': {'Negative': {'precision': 0.934640522875817, 'recall': 0.8827160493827161, 'f1-score': 0.9079365079365078, 'support': 162}, 'Positive': {'precision': 0.8888888888888888, 'recall': 0.9382716049382716, 'f1-score': 0.9129129129129129, 'support': 162}}, 'confusion_matrix': array([[143,  19],\n",
      "       [ 10, 152]]), 'roc_auc': 0.9657445511354976, 'roc_curve': {'fpr': array([0.        , 0.        , 0.        , 0.        , 0.        ,\n",
      "       0.00617284, 0.00617284, 0.01234568, 0.01234568, 0.01851852,\n",
      "       0.01851852, 0.02469136, 0.02469136, 0.03703704, 0.03703704,\n",
      "       0.04938272, 0.04938272, 0.0617284 , 0.0617284 , 0.06790123,\n",
      "       0.06790123, 0.07407407, 0.07407407, 0.08024691, 0.08024691,\n",
      "       0.08641975, 0.08641975, 0.09259259, 0.09259259, 0.11111111,\n",
      "       0.11111111, 0.12962963, 0.12962963, 0.13580247, 0.13580247,\n",
      "       0.14814815, 0.14814815, 0.2037037 , 0.2037037 , 0.25925926,\n",
      "       0.25925926, 0.2654321 , 0.2654321 , 0.32716049, 0.32716049,\n",
      "       0.47530864, 0.47530864, 0.57407407, 0.57407407, 0.84567901,\n",
      "       0.84567901, 1.        ]), 'tpr': array([0.        , 0.00617284, 0.25308642, 0.2654321 , 0.62962963,\n",
      "       0.62962963, 0.64814815, 0.64814815, 0.65432099, 0.65432099,\n",
      "       0.70987654, 0.70987654, 0.77160494, 0.77160494, 0.82716049,\n",
      "       0.82716049, 0.83333333, 0.83333333, 0.83950617, 0.83950617,\n",
      "       0.84567901, 0.84567901, 0.89506173, 0.89506173, 0.90123457,\n",
      "       0.90123457, 0.91975309, 0.91975309, 0.93209877, 0.93209877,\n",
      "       0.9382716 , 0.9382716 , 0.94444444, 0.94444444, 0.95061728,\n",
      "       0.95061728, 0.95679012, 0.95679012, 0.96296296, 0.96296296,\n",
      "       0.9691358 , 0.9691358 , 0.97530864, 0.97530864, 0.98148148,\n",
      "       0.98148148, 0.98765432, 0.98765432, 0.99382716, 0.99382716,\n",
      "       1.        , 1.        ])}, 'average_precision': 0.9701617996413372, 'pr_curve': {'precision': array([0.54180602, 0.54026846, 0.54208754, 0.54391892, 0.54576271,\n",
      "       0.54761905, 0.54948805, 0.55136986, 0.5532646 , 0.55517241,\n",
      "       0.55709343, 0.55902778, 0.56097561, 0.56293706, 0.56491228,\n",
      "       0.56690141, 0.56890459, 0.57092199, 0.57295374, 0.575     ,\n",
      "       0.57706093, 0.57913669, 0.58122744, 0.58333333, 0.58545455,\n",
      "       0.58759124, 0.58974359, 0.59191176, 0.59409594, 0.5962963 ,\n",
      "       0.59851301, 0.60074627, 0.60299625, 0.60526316, 0.60754717,\n",
      "       0.60984848, 0.6121673 , 0.61450382, 0.61685824, 0.61923077,\n",
      "       0.62162162, 0.62403101, 0.62645914, 0.62890625, 0.63137255,\n",
      "       0.63385827, 0.63241107, 0.63492063, 0.6374502 , 0.64      ,\n",
      "       0.64257028, 0.64516129, 0.64777328, 0.6504065 , 0.65306122,\n",
      "       0.6557377 , 0.65843621, 0.66115702, 0.66390041, 0.66666667,\n",
      "       0.66945607, 0.67226891, 0.67510549, 0.67372881, 0.67659574,\n",
      "       0.67948718, 0.68240343, 0.68534483, 0.68831169, 0.69130435,\n",
      "       0.69432314, 0.69736842, 0.70044053, 0.70353982, 0.70666667,\n",
      "       0.70982143, 0.71300448, 0.71621622, 0.71945701, 0.72272727,\n",
      "       0.7260274 , 0.7293578 , 0.73271889, 0.73611111, 0.73953488,\n",
      "       0.74299065, 0.74647887, 0.75      , 0.74881517, 0.75238095,\n",
      "       0.75598086, 0.75961538, 0.76328502, 0.76699029, 0.77073171,\n",
      "       0.7745098 , 0.77832512, 0.78217822, 0.78606965, 0.785     ,\n",
      "       0.78894472, 0.78787879, 0.79187817, 0.79591837, 0.8       ,\n",
      "       0.80412371, 0.80829016, 0.8125    , 0.81675393, 0.82105263,\n",
      "       0.82539683, 0.82446809, 0.82887701, 0.83333333, 0.83783784,\n",
      "       0.8423913 , 0.84699454, 0.85164835, 0.85635359, 0.86111111,\n",
      "       0.86592179, 0.86516854, 0.8700565 , 0.875     , 0.87428571,\n",
      "       0.87931034, 0.87861272, 0.88372093, 0.88888889, 0.89411765,\n",
      "       0.89349112, 0.89880952, 0.90419162, 0.90963855, 0.90909091,\n",
      "       0.90853659, 0.91411043, 0.91358025, 0.91304348, 0.9125    ,\n",
      "       0.91823899, 0.91772152, 0.92356688, 0.92307692, 0.92258065,\n",
      "       0.92207792, 0.92156863, 0.92105263, 0.9205298 , 0.92      ,\n",
      "       0.91946309, 0.92567568, 0.92517007, 0.93150685, 0.93103448,\n",
      "       0.9375    , 0.94405594, 0.94366197, 0.95035461, 0.95714286,\n",
      "       0.95683453, 0.95652174, 0.95620438, 0.95588235, 0.95555556,\n",
      "       0.95522388, 0.95488722, 0.95454545, 0.95419847, 0.96153846,\n",
      "       0.96899225, 0.96875   , 0.96850394, 0.96825397, 0.968     ,\n",
      "       0.96774194, 0.96747967, 0.96721311, 0.96694215, 0.96666667,\n",
      "       0.96638655, 0.97457627, 0.97435897, 0.97413793, 0.97391304,\n",
      "       0.97368421, 0.97345133, 0.97321429, 0.97297297, 0.97272727,\n",
      "       0.97247706, 0.98148148, 0.98130841, 0.99056604, 0.99047619,\n",
      "       0.99038462, 0.99029126, 1.        , 1.        , 1.        ,\n",
      "       1.        , 1.        , 1.        , 1.        , 1.        ,\n",
      "       1.        , 1.        , 1.        , 1.        , 1.        ,\n",
      "       1.        , 1.        , 1.        , 1.        , 1.        ,\n",
      "       1.        , 1.        , 1.        , 1.        , 1.        ,\n",
      "       1.        , 1.        , 1.        , 1.        , 1.        ,\n",
      "       1.        , 1.        , 1.        , 1.        , 1.        ,\n",
      "       1.        , 1.        , 1.        , 1.        , 1.        ,\n",
      "       1.        , 1.        , 1.        , 1.        , 1.        ,\n",
      "       1.        , 1.        , 1.        , 1.        , 1.        ,\n",
      "       1.        , 1.        , 1.        , 1.        , 1.        ,\n",
      "       1.        , 1.        , 1.        , 1.        , 1.        ,\n",
      "       1.        , 1.        , 1.        , 1.        , 1.        ,\n",
      "       1.        , 1.        , 1.        , 1.        , 1.        ,\n",
      "       1.        , 1.        , 1.        , 1.        , 1.        ,\n",
      "       1.        , 1.        , 1.        , 1.        , 1.        ,\n",
      "       1.        , 1.        , 1.        , 1.        , 1.        ,\n",
      "       1.        , 1.        , 1.        , 1.        , 1.        ,\n",
      "       1.        , 1.        , 1.        , 1.        , 1.        ,\n",
      "       1.        , 1.        , 1.        , 1.        , 1.        ,\n",
      "       1.        , 1.        , 1.        , 1.        ]), 'recall': array([1.        , 0.99382716, 0.99382716, 0.99382716, 0.99382716,\n",
      "       0.99382716, 0.99382716, 0.99382716, 0.99382716, 0.99382716,\n",
      "       0.99382716, 0.99382716, 0.99382716, 0.99382716, 0.99382716,\n",
      "       0.99382716, 0.99382716, 0.99382716, 0.99382716, 0.99382716,\n",
      "       0.99382716, 0.99382716, 0.99382716, 0.99382716, 0.99382716,\n",
      "       0.99382716, 0.99382716, 0.99382716, 0.99382716, 0.99382716,\n",
      "       0.99382716, 0.99382716, 0.99382716, 0.99382716, 0.99382716,\n",
      "       0.99382716, 0.99382716, 0.99382716, 0.99382716, 0.99382716,\n",
      "       0.99382716, 0.99382716, 0.99382716, 0.99382716, 0.99382716,\n",
      "       0.99382716, 0.98765432, 0.98765432, 0.98765432, 0.98765432,\n",
      "       0.98765432, 0.98765432, 0.98765432, 0.98765432, 0.98765432,\n",
      "       0.98765432, 0.98765432, 0.98765432, 0.98765432, 0.98765432,\n",
      "       0.98765432, 0.98765432, 0.98765432, 0.98148148, 0.98148148,\n",
      "       0.98148148, 0.98148148, 0.98148148, 0.98148148, 0.98148148,\n",
      "       0.98148148, 0.98148148, 0.98148148, 0.98148148, 0.98148148,\n",
      "       0.98148148, 0.98148148, 0.98148148, 0.98148148, 0.98148148,\n",
      "       0.98148148, 0.98148148, 0.98148148, 0.98148148, 0.98148148,\n",
      "       0.98148148, 0.98148148, 0.98148148, 0.97530864, 0.97530864,\n",
      "       0.97530864, 0.97530864, 0.97530864, 0.97530864, 0.97530864,\n",
      "       0.97530864, 0.97530864, 0.97530864, 0.97530864, 0.9691358 ,\n",
      "       0.9691358 , 0.96296296, 0.96296296, 0.96296296, 0.96296296,\n",
      "       0.96296296, 0.96296296, 0.96296296, 0.96296296, 0.96296296,\n",
      "       0.96296296, 0.95679012, 0.95679012, 0.95679012, 0.95679012,\n",
      "       0.95679012, 0.95679012, 0.95679012, 0.95679012, 0.95679012,\n",
      "       0.95679012, 0.95061728, 0.95061728, 0.95061728, 0.94444444,\n",
      "       0.94444444, 0.9382716 , 0.9382716 , 0.9382716 , 0.9382716 ,\n",
      "       0.93209877, 0.93209877, 0.93209877, 0.93209877, 0.92592593,\n",
      "       0.91975309, 0.91975309, 0.91358025, 0.90740741, 0.90123457,\n",
      "       0.90123457, 0.89506173, 0.89506173, 0.88888889, 0.88271605,\n",
      "       0.87654321, 0.87037037, 0.86419753, 0.85802469, 0.85185185,\n",
      "       0.84567901, 0.84567901, 0.83950617, 0.83950617, 0.83333333,\n",
      "       0.83333333, 0.83333333, 0.82716049, 0.82716049, 0.82716049,\n",
      "       0.82098765, 0.81481481, 0.80864198, 0.80246914, 0.7962963 ,\n",
      "       0.79012346, 0.78395062, 0.77777778, 0.77160494, 0.77160494,\n",
      "       0.77160494, 0.7654321 , 0.75925926, 0.75308642, 0.74691358,\n",
      "       0.74074074, 0.7345679 , 0.72839506, 0.72222222, 0.71604938,\n",
      "       0.70987654, 0.70987654, 0.7037037 , 0.69753086, 0.69135802,\n",
      "       0.68518519, 0.67901235, 0.67283951, 0.66666667, 0.66049383,\n",
      "       0.65432099, 0.65432099, 0.64814815, 0.64814815, 0.64197531,\n",
      "       0.63580247, 0.62962963, 0.62962963, 0.62345679, 0.61728395,\n",
      "       0.61111111, 0.60493827, 0.59876543, 0.59259259, 0.58641975,\n",
      "       0.58024691, 0.57407407, 0.56790123, 0.5617284 , 0.55555556,\n",
      "       0.54938272, 0.54320988, 0.53703704, 0.5308642 , 0.52469136,\n",
      "       0.51851852, 0.51234568, 0.50617284, 0.5       , 0.49382716,\n",
      "       0.48765432, 0.48148148, 0.47530864, 0.4691358 , 0.46296296,\n",
      "       0.45679012, 0.45061728, 0.44444444, 0.4382716 , 0.43209877,\n",
      "       0.42592593, 0.41975309, 0.41358025, 0.40740741, 0.40123457,\n",
      "       0.39506173, 0.38888889, 0.38271605, 0.37654321, 0.37037037,\n",
      "       0.36419753, 0.35802469, 0.35185185, 0.34567901, 0.33950617,\n",
      "       0.33333333, 0.32716049, 0.32098765, 0.31481481, 0.30864198,\n",
      "       0.30246914, 0.2962963 , 0.29012346, 0.28395062, 0.27777778,\n",
      "       0.27160494, 0.2654321 , 0.25308642, 0.24691358, 0.24074074,\n",
      "       0.2345679 , 0.22839506, 0.22222222, 0.21604938, 0.20987654,\n",
      "       0.2037037 , 0.19753086, 0.19135802, 0.18518519, 0.17901235,\n",
      "       0.17283951, 0.16666667, 0.16049383, 0.15432099, 0.14814815,\n",
      "       0.14197531, 0.13580247, 0.12962963, 0.12345679, 0.11728395,\n",
      "       0.11111111, 0.10493827, 0.09876543, 0.09259259, 0.08641975,\n",
      "       0.08024691, 0.07407407, 0.06790123, 0.0617284 , 0.05555556,\n",
      "       0.04938272, 0.04320988, 0.03703704, 0.0308642 , 0.02469136,\n",
      "       0.01851852, 0.01234568, 0.00617284, 0.        ])}}\n",
      "[INFO] Fine-tuning process completed.\n",
      "\n",
      "Fine-tuning completed with metrics: {'accuracy': 0.9104938271604939, 'precision': 0.8888888888888888, 'recall': 0.9382716049382716, 'f1': 0.9129129129129129, 'per_class': {'Negative': {'precision': 0.934640522875817, 'recall': 0.8827160493827161, 'f1-score': 0.9079365079365078, 'support': 162}, 'Positive': {'precision': 0.8888888888888888, 'recall': 0.9382716049382716, 'f1-score': 0.9129129129129129, 'support': 162}}, 'confusion_matrix': array([[143,  19],\n",
      "       [ 10, 152]]), 'roc_auc': 0.9657445511354976, 'roc_curve': {'fpr': array([0.        , 0.        , 0.        , 0.        , 0.        ,\n",
      "       0.00617284, 0.00617284, 0.01234568, 0.01234568, 0.01851852,\n",
      "       0.01851852, 0.02469136, 0.02469136, 0.03703704, 0.03703704,\n",
      "       0.04938272, 0.04938272, 0.0617284 , 0.0617284 , 0.06790123,\n",
      "       0.06790123, 0.07407407, 0.07407407, 0.08024691, 0.08024691,\n",
      "       0.08641975, 0.08641975, 0.09259259, 0.09259259, 0.11111111,\n",
      "       0.11111111, 0.12962963, 0.12962963, 0.13580247, 0.13580247,\n",
      "       0.14814815, 0.14814815, 0.2037037 , 0.2037037 , 0.25925926,\n",
      "       0.25925926, 0.2654321 , 0.2654321 , 0.32716049, 0.32716049,\n",
      "       0.47530864, 0.47530864, 0.57407407, 0.57407407, 0.84567901,\n",
      "       0.84567901, 1.        ]), 'tpr': array([0.        , 0.00617284, 0.25308642, 0.2654321 , 0.62962963,\n",
      "       0.62962963, 0.64814815, 0.64814815, 0.65432099, 0.65432099,\n",
      "       0.70987654, 0.70987654, 0.77160494, 0.77160494, 0.82716049,\n",
      "       0.82716049, 0.83333333, 0.83333333, 0.83950617, 0.83950617,\n",
      "       0.84567901, 0.84567901, 0.89506173, 0.89506173, 0.90123457,\n",
      "       0.90123457, 0.91975309, 0.91975309, 0.93209877, 0.93209877,\n",
      "       0.9382716 , 0.9382716 , 0.94444444, 0.94444444, 0.95061728,\n",
      "       0.95061728, 0.95679012, 0.95679012, 0.96296296, 0.96296296,\n",
      "       0.9691358 , 0.9691358 , 0.97530864, 0.97530864, 0.98148148,\n",
      "       0.98148148, 0.98765432, 0.98765432, 0.99382716, 0.99382716,\n",
      "       1.        , 1.        ])}, 'average_precision': 0.9701617996413372, 'pr_curve': {'precision': array([0.54180602, 0.54026846, 0.54208754, 0.54391892, 0.54576271,\n",
      "       0.54761905, 0.54948805, 0.55136986, 0.5532646 , 0.55517241,\n",
      "       0.55709343, 0.55902778, 0.56097561, 0.56293706, 0.56491228,\n",
      "       0.56690141, 0.56890459, 0.57092199, 0.57295374, 0.575     ,\n",
      "       0.57706093, 0.57913669, 0.58122744, 0.58333333, 0.58545455,\n",
      "       0.58759124, 0.58974359, 0.59191176, 0.59409594, 0.5962963 ,\n",
      "       0.59851301, 0.60074627, 0.60299625, 0.60526316, 0.60754717,\n",
      "       0.60984848, 0.6121673 , 0.61450382, 0.61685824, 0.61923077,\n",
      "       0.62162162, 0.62403101, 0.62645914, 0.62890625, 0.63137255,\n",
      "       0.63385827, 0.63241107, 0.63492063, 0.6374502 , 0.64      ,\n",
      "       0.64257028, 0.64516129, 0.64777328, 0.6504065 , 0.65306122,\n",
      "       0.6557377 , 0.65843621, 0.66115702, 0.66390041, 0.66666667,\n",
      "       0.66945607, 0.67226891, 0.67510549, 0.67372881, 0.67659574,\n",
      "       0.67948718, 0.68240343, 0.68534483, 0.68831169, 0.69130435,\n",
      "       0.69432314, 0.69736842, 0.70044053, 0.70353982, 0.70666667,\n",
      "       0.70982143, 0.71300448, 0.71621622, 0.71945701, 0.72272727,\n",
      "       0.7260274 , 0.7293578 , 0.73271889, 0.73611111, 0.73953488,\n",
      "       0.74299065, 0.74647887, 0.75      , 0.74881517, 0.75238095,\n",
      "       0.75598086, 0.75961538, 0.76328502, 0.76699029, 0.77073171,\n",
      "       0.7745098 , 0.77832512, 0.78217822, 0.78606965, 0.785     ,\n",
      "       0.78894472, 0.78787879, 0.79187817, 0.79591837, 0.8       ,\n",
      "       0.80412371, 0.80829016, 0.8125    , 0.81675393, 0.82105263,\n",
      "       0.82539683, 0.82446809, 0.82887701, 0.83333333, 0.83783784,\n",
      "       0.8423913 , 0.84699454, 0.85164835, 0.85635359, 0.86111111,\n",
      "       0.86592179, 0.86516854, 0.8700565 , 0.875     , 0.87428571,\n",
      "       0.87931034, 0.87861272, 0.88372093, 0.88888889, 0.89411765,\n",
      "       0.89349112, 0.89880952, 0.90419162, 0.90963855, 0.90909091,\n",
      "       0.90853659, 0.91411043, 0.91358025, 0.91304348, 0.9125    ,\n",
      "       0.91823899, 0.91772152, 0.92356688, 0.92307692, 0.92258065,\n",
      "       0.92207792, 0.92156863, 0.92105263, 0.9205298 , 0.92      ,\n",
      "       0.91946309, 0.92567568, 0.92517007, 0.93150685, 0.93103448,\n",
      "       0.9375    , 0.94405594, 0.94366197, 0.95035461, 0.95714286,\n",
      "       0.95683453, 0.95652174, 0.95620438, 0.95588235, 0.95555556,\n",
      "       0.95522388, 0.95488722, 0.95454545, 0.95419847, 0.96153846,\n",
      "       0.96899225, 0.96875   , 0.96850394, 0.96825397, 0.968     ,\n",
      "       0.96774194, 0.96747967, 0.96721311, 0.96694215, 0.96666667,\n",
      "       0.96638655, 0.97457627, 0.97435897, 0.97413793, 0.97391304,\n",
      "       0.97368421, 0.97345133, 0.97321429, 0.97297297, 0.97272727,\n",
      "       0.97247706, 0.98148148, 0.98130841, 0.99056604, 0.99047619,\n",
      "       0.99038462, 0.99029126, 1.        , 1.        , 1.        ,\n",
      "       1.        , 1.        , 1.        , 1.        , 1.        ,\n",
      "       1.        , 1.        , 1.        , 1.        , 1.        ,\n",
      "       1.        , 1.        , 1.        , 1.        , 1.        ,\n",
      "       1.        , 1.        , 1.        , 1.        , 1.        ,\n",
      "       1.        , 1.        , 1.        , 1.        , 1.        ,\n",
      "       1.        , 1.        , 1.        , 1.        , 1.        ,\n",
      "       1.        , 1.        , 1.        , 1.        , 1.        ,\n",
      "       1.        , 1.        , 1.        , 1.        , 1.        ,\n",
      "       1.        , 1.        , 1.        , 1.        , 1.        ,\n",
      "       1.        , 1.        , 1.        , 1.        , 1.        ,\n",
      "       1.        , 1.        , 1.        , 1.        , 1.        ,\n",
      "       1.        , 1.        , 1.        , 1.        , 1.        ,\n",
      "       1.        , 1.        , 1.        , 1.        , 1.        ,\n",
      "       1.        , 1.        , 1.        , 1.        , 1.        ,\n",
      "       1.        , 1.        , 1.        , 1.        , 1.        ,\n",
      "       1.        , 1.        , 1.        , 1.        , 1.        ,\n",
      "       1.        , 1.        , 1.        , 1.        , 1.        ,\n",
      "       1.        , 1.        , 1.        , 1.        , 1.        ,\n",
      "       1.        , 1.        , 1.        , 1.        , 1.        ,\n",
      "       1.        , 1.        , 1.        , 1.        ]), 'recall': array([1.        , 0.99382716, 0.99382716, 0.99382716, 0.99382716,\n",
      "       0.99382716, 0.99382716, 0.99382716, 0.99382716, 0.99382716,\n",
      "       0.99382716, 0.99382716, 0.99382716, 0.99382716, 0.99382716,\n",
      "       0.99382716, 0.99382716, 0.99382716, 0.99382716, 0.99382716,\n",
      "       0.99382716, 0.99382716, 0.99382716, 0.99382716, 0.99382716,\n",
      "       0.99382716, 0.99382716, 0.99382716, 0.99382716, 0.99382716,\n",
      "       0.99382716, 0.99382716, 0.99382716, 0.99382716, 0.99382716,\n",
      "       0.99382716, 0.99382716, 0.99382716, 0.99382716, 0.99382716,\n",
      "       0.99382716, 0.99382716, 0.99382716, 0.99382716, 0.99382716,\n",
      "       0.99382716, 0.98765432, 0.98765432, 0.98765432, 0.98765432,\n",
      "       0.98765432, 0.98765432, 0.98765432, 0.98765432, 0.98765432,\n",
      "       0.98765432, 0.98765432, 0.98765432, 0.98765432, 0.98765432,\n",
      "       0.98765432, 0.98765432, 0.98765432, 0.98148148, 0.98148148,\n",
      "       0.98148148, 0.98148148, 0.98148148, 0.98148148, 0.98148148,\n",
      "       0.98148148, 0.98148148, 0.98148148, 0.98148148, 0.98148148,\n",
      "       0.98148148, 0.98148148, 0.98148148, 0.98148148, 0.98148148,\n",
      "       0.98148148, 0.98148148, 0.98148148, 0.98148148, 0.98148148,\n",
      "       0.98148148, 0.98148148, 0.98148148, 0.97530864, 0.97530864,\n",
      "       0.97530864, 0.97530864, 0.97530864, 0.97530864, 0.97530864,\n",
      "       0.97530864, 0.97530864, 0.97530864, 0.97530864, 0.9691358 ,\n",
      "       0.9691358 , 0.96296296, 0.96296296, 0.96296296, 0.96296296,\n",
      "       0.96296296, 0.96296296, 0.96296296, 0.96296296, 0.96296296,\n",
      "       0.96296296, 0.95679012, 0.95679012, 0.95679012, 0.95679012,\n",
      "       0.95679012, 0.95679012, 0.95679012, 0.95679012, 0.95679012,\n",
      "       0.95679012, 0.95061728, 0.95061728, 0.95061728, 0.94444444,\n",
      "       0.94444444, 0.9382716 , 0.9382716 , 0.9382716 , 0.9382716 ,\n",
      "       0.93209877, 0.93209877, 0.93209877, 0.93209877, 0.92592593,\n",
      "       0.91975309, 0.91975309, 0.91358025, 0.90740741, 0.90123457,\n",
      "       0.90123457, 0.89506173, 0.89506173, 0.88888889, 0.88271605,\n",
      "       0.87654321, 0.87037037, 0.86419753, 0.85802469, 0.85185185,\n",
      "       0.84567901, 0.84567901, 0.83950617, 0.83950617, 0.83333333,\n",
      "       0.83333333, 0.83333333, 0.82716049, 0.82716049, 0.82716049,\n",
      "       0.82098765, 0.81481481, 0.80864198, 0.80246914, 0.7962963 ,\n",
      "       0.79012346, 0.78395062, 0.77777778, 0.77160494, 0.77160494,\n",
      "       0.77160494, 0.7654321 , 0.75925926, 0.75308642, 0.74691358,\n",
      "       0.74074074, 0.7345679 , 0.72839506, 0.72222222, 0.71604938,\n",
      "       0.70987654, 0.70987654, 0.7037037 , 0.69753086, 0.69135802,\n",
      "       0.68518519, 0.67901235, 0.67283951, 0.66666667, 0.66049383,\n",
      "       0.65432099, 0.65432099, 0.64814815, 0.64814815, 0.64197531,\n",
      "       0.63580247, 0.62962963, 0.62962963, 0.62345679, 0.61728395,\n",
      "       0.61111111, 0.60493827, 0.59876543, 0.59259259, 0.58641975,\n",
      "       0.58024691, 0.57407407, 0.56790123, 0.5617284 , 0.55555556,\n",
      "       0.54938272, 0.54320988, 0.53703704, 0.5308642 , 0.52469136,\n",
      "       0.51851852, 0.51234568, 0.50617284, 0.5       , 0.49382716,\n",
      "       0.48765432, 0.48148148, 0.47530864, 0.4691358 , 0.46296296,\n",
      "       0.45679012, 0.45061728, 0.44444444, 0.4382716 , 0.43209877,\n",
      "       0.42592593, 0.41975309, 0.41358025, 0.40740741, 0.40123457,\n",
      "       0.39506173, 0.38888889, 0.38271605, 0.37654321, 0.37037037,\n",
      "       0.36419753, 0.35802469, 0.35185185, 0.34567901, 0.33950617,\n",
      "       0.33333333, 0.32716049, 0.32098765, 0.31481481, 0.30864198,\n",
      "       0.30246914, 0.2962963 , 0.29012346, 0.28395062, 0.27777778,\n",
      "       0.27160494, 0.2654321 , 0.25308642, 0.24691358, 0.24074074,\n",
      "       0.2345679 , 0.22839506, 0.22222222, 0.21604938, 0.20987654,\n",
      "       0.2037037 , 0.19753086, 0.19135802, 0.18518519, 0.17901235,\n",
      "       0.17283951, 0.16666667, 0.16049383, 0.15432099, 0.14814815,\n",
      "       0.14197531, 0.13580247, 0.12962963, 0.12345679, 0.11728395,\n",
      "       0.11111111, 0.10493827, 0.09876543, 0.09259259, 0.08641975,\n",
      "       0.08024691, 0.07407407, 0.06790123, 0.0617284 , 0.05555556,\n",
      "       0.04938272, 0.04320988, 0.03703704, 0.0308642 , 0.02469136,\n",
      "       0.01851852, 0.01234568, 0.00617284, 0.        ])}}\n",
      "Fine-tuning process completed!\n"
     ]
    }
   ],
   "source": [
    "# Run the main function and capture the returned fine_tuner instance\n",
    "print(\"Starting fine-tuning process...\")\n",
    "fine_tuner = main()\n",
    "print(\"Fine-tuning process completed!\")   "
   ]
  },
  {
   "cell_type": "code",
   "execution_count": 5,
   "id": "23d33f4b",
   "metadata": {},
   "outputs": [
    {
     "name": "stdout",
     "output_type": "stream",
     "text": [
      "Final Evaluation Metrics:\n"
     ]
    },
    {
     "data": {
      "text/html": [
       "<div>\n",
       "<style scoped>\n",
       "    .dataframe tbody tr th:only-of-type {\n",
       "        vertical-align: middle;\n",
       "    }\n",
       "\n",
       "    .dataframe tbody tr th {\n",
       "        vertical-align: top;\n",
       "    }\n",
       "\n",
       "    .dataframe thead th {\n",
       "        text-align: right;\n",
       "    }\n",
       "</style>\n",
       "<table border=\"1\" class=\"dataframe\">\n",
       "  <thead>\n",
       "    <tr style=\"text-align: right;\">\n",
       "      <th></th>\n",
       "      <th>Metric</th>\n",
       "      <th>Value</th>\n",
       "    </tr>\n",
       "  </thead>\n",
       "  <tbody>\n",
       "    <tr>\n",
       "      <th>0</th>\n",
       "      <td>accuracy</td>\n",
       "      <td>0.910494</td>\n",
       "    </tr>\n",
       "    <tr>\n",
       "      <th>1</th>\n",
       "      <td>precision</td>\n",
       "      <td>0.888889</td>\n",
       "    </tr>\n",
       "    <tr>\n",
       "      <th>2</th>\n",
       "      <td>recall</td>\n",
       "      <td>0.938272</td>\n",
       "    </tr>\n",
       "    <tr>\n",
       "      <th>3</th>\n",
       "      <td>f1</td>\n",
       "      <td>0.912913</td>\n",
       "    </tr>\n",
       "    <tr>\n",
       "      <th>4</th>\n",
       "      <td>per_class</td>\n",
       "      <td>{'Negative': {'precision': 0.934640522875817, ...</td>\n",
       "    </tr>\n",
       "    <tr>\n",
       "      <th>5</th>\n",
       "      <td>confusion_matrix</td>\n",
       "      <td>[[143, 19], [10, 152]]</td>\n",
       "    </tr>\n",
       "    <tr>\n",
       "      <th>6</th>\n",
       "      <td>roc_auc</td>\n",
       "      <td>0.965745</td>\n",
       "    </tr>\n",
       "    <tr>\n",
       "      <th>7</th>\n",
       "      <td>roc_curve</td>\n",
       "      <td>{'fpr': [0.0, 0.0, 0.0, 0.0, 0.0, 0.0061728395...</td>\n",
       "    </tr>\n",
       "    <tr>\n",
       "      <th>8</th>\n",
       "      <td>average_precision</td>\n",
       "      <td>0.970162</td>\n",
       "    </tr>\n",
       "    <tr>\n",
       "      <th>9</th>\n",
       "      <td>pr_curve</td>\n",
       "      <td>{'precision': [0.5418060200668896, 0.540268456...</td>\n",
       "    </tr>\n",
       "  </tbody>\n",
       "</table>\n",
       "</div>"
      ],
      "text/plain": [
       "              Metric                                              Value\n",
       "0           accuracy                                           0.910494\n",
       "1          precision                                           0.888889\n",
       "2             recall                                           0.938272\n",
       "3                 f1                                           0.912913\n",
       "4          per_class  {'Negative': {'precision': 0.934640522875817, ...\n",
       "5   confusion_matrix                             [[143, 19], [10, 152]]\n",
       "6            roc_auc                                           0.965745\n",
       "7          roc_curve  {'fpr': [0.0, 0.0, 0.0, 0.0, 0.0, 0.0061728395...\n",
       "8  average_precision                                           0.970162\n",
       "9           pr_curve  {'precision': [0.5418060200668896, 0.540268456..."
      ]
     },
     "metadata": {},
     "output_type": "display_data"
    },
    {
     "ename": "ValueError",
     "evalue": "Illegal format string \"p-o\"; two marker symbols",
     "output_type": "error",
     "traceback": [
      "\u001b[0;31m---------------------------------------------------------------------------\u001b[0m",
      "\u001b[0;31mValueError\u001b[0m                                Traceback (most recent call last)",
      "\u001b[0;32m/var/folders/xc/qkmv0r456dn4gsy6rfgnpns80000gn/T/ipykernel_37849/2139095021.py\u001b[0m in \u001b[0;36m<module>\u001b[0;34m\u001b[0m\n\u001b[1;32m     31\u001b[0m             \u001b[0mplt\u001b[0m\u001b[0;34m.\u001b[0m\u001b[0mplot\u001b[0m\u001b[0;34m(\u001b[0m\u001b[0mhistory\u001b[0m\u001b[0;34m[\u001b[0m\u001b[0;34m'val_accuracy'\u001b[0m\u001b[0;34m]\u001b[0m\u001b[0;34m,\u001b[0m \u001b[0;34m'g-o'\u001b[0m\u001b[0;34m,\u001b[0m \u001b[0mlabel\u001b[0m\u001b[0;34m=\u001b[0m\u001b[0;34m'Validation Accuracy'\u001b[0m\u001b[0;34m)\u001b[0m\u001b[0;34m\u001b[0m\u001b[0;34m\u001b[0m\u001b[0m\n\u001b[1;32m     32\u001b[0m         \u001b[0;32mif\u001b[0m \u001b[0;34m'val_f1'\u001b[0m \u001b[0;32min\u001b[0m \u001b[0mhistory\u001b[0m\u001b[0;34m:\u001b[0m\u001b[0;34m\u001b[0m\u001b[0;34m\u001b[0m\u001b[0m\n\u001b[0;32m---> 33\u001b[0;31m             \u001b[0mplt\u001b[0m\u001b[0;34m.\u001b[0m\u001b[0mplot\u001b[0m\u001b[0;34m(\u001b[0m\u001b[0mhistory\u001b[0m\u001b[0;34m[\u001b[0m\u001b[0;34m'val_f1'\u001b[0m\u001b[0;34m]\u001b[0m\u001b[0;34m,\u001b[0m \u001b[0;34m'p-o'\u001b[0m\u001b[0;34m,\u001b[0m \u001b[0mlabel\u001b[0m\u001b[0;34m=\u001b[0m\u001b[0;34m'Validation F1'\u001b[0m\u001b[0;34m)\u001b[0m\u001b[0;34m\u001b[0m\u001b[0;34m\u001b[0m\u001b[0m\n\u001b[0m\u001b[1;32m     34\u001b[0m         \u001b[0mplt\u001b[0m\u001b[0;34m.\u001b[0m\u001b[0mtitle\u001b[0m\u001b[0;34m(\u001b[0m\u001b[0;34m'Metrics During Training'\u001b[0m\u001b[0;34m)\u001b[0m\u001b[0;34m\u001b[0m\u001b[0;34m\u001b[0m\u001b[0m\n\u001b[1;32m     35\u001b[0m         \u001b[0mplt\u001b[0m\u001b[0;34m.\u001b[0m\u001b[0mxlabel\u001b[0m\u001b[0;34m(\u001b[0m\u001b[0;34m'Epoch'\u001b[0m\u001b[0;34m)\u001b[0m\u001b[0;34m\u001b[0m\u001b[0;34m\u001b[0m\u001b[0m\n",
      "\u001b[0;32m/Library/Frameworks/Python.framework/Versions/3.7/lib/python3.7/site-packages/matplotlib/pyplot.py\u001b[0m in \u001b[0;36mplot\u001b[0;34m(scalex, scaley, data, *args, **kwargs)\u001b[0m\n\u001b[1;32m   2767\u001b[0m     return gca().plot(\n\u001b[1;32m   2768\u001b[0m         \u001b[0;34m*\u001b[0m\u001b[0margs\u001b[0m\u001b[0;34m,\u001b[0m \u001b[0mscalex\u001b[0m\u001b[0;34m=\u001b[0m\u001b[0mscalex\u001b[0m\u001b[0;34m,\u001b[0m \u001b[0mscaley\u001b[0m\u001b[0;34m=\u001b[0m\u001b[0mscaley\u001b[0m\u001b[0;34m,\u001b[0m\u001b[0;34m\u001b[0m\u001b[0;34m\u001b[0m\u001b[0m\n\u001b[0;32m-> 2769\u001b[0;31m         **({\"data\": data} if data is not None else {}), **kwargs)\n\u001b[0m\u001b[1;32m   2770\u001b[0m \u001b[0;34m\u001b[0m\u001b[0m\n\u001b[1;32m   2771\u001b[0m \u001b[0;34m\u001b[0m\u001b[0m\n",
      "\u001b[0;32m/Library/Frameworks/Python.framework/Versions/3.7/lib/python3.7/site-packages/matplotlib/axes/_axes.py\u001b[0m in \u001b[0;36mplot\u001b[0;34m(self, scalex, scaley, data, *args, **kwargs)\u001b[0m\n\u001b[1;32m   1633\u001b[0m         \"\"\"\n\u001b[1;32m   1634\u001b[0m         \u001b[0mkwargs\u001b[0m \u001b[0;34m=\u001b[0m \u001b[0mcbook\u001b[0m\u001b[0;34m.\u001b[0m\u001b[0mnormalize_kwargs\u001b[0m\u001b[0;34m(\u001b[0m\u001b[0mkwargs\u001b[0m\u001b[0;34m,\u001b[0m \u001b[0mmlines\u001b[0m\u001b[0;34m.\u001b[0m\u001b[0mLine2D\u001b[0m\u001b[0;34m)\u001b[0m\u001b[0;34m\u001b[0m\u001b[0;34m\u001b[0m\u001b[0m\n\u001b[0;32m-> 1635\u001b[0;31m         \u001b[0mlines\u001b[0m \u001b[0;34m=\u001b[0m \u001b[0;34m[\u001b[0m\u001b[0;34m*\u001b[0m\u001b[0mself\u001b[0m\u001b[0;34m.\u001b[0m\u001b[0m_get_lines\u001b[0m\u001b[0;34m(\u001b[0m\u001b[0;34m*\u001b[0m\u001b[0margs\u001b[0m\u001b[0;34m,\u001b[0m \u001b[0mdata\u001b[0m\u001b[0;34m=\u001b[0m\u001b[0mdata\u001b[0m\u001b[0;34m,\u001b[0m \u001b[0;34m**\u001b[0m\u001b[0mkwargs\u001b[0m\u001b[0;34m)\u001b[0m\u001b[0;34m]\u001b[0m\u001b[0;34m\u001b[0m\u001b[0;34m\u001b[0m\u001b[0m\n\u001b[0m\u001b[1;32m   1636\u001b[0m         \u001b[0;32mfor\u001b[0m \u001b[0mline\u001b[0m \u001b[0;32min\u001b[0m \u001b[0mlines\u001b[0m\u001b[0;34m:\u001b[0m\u001b[0;34m\u001b[0m\u001b[0;34m\u001b[0m\u001b[0m\n\u001b[1;32m   1637\u001b[0m             \u001b[0mself\u001b[0m\u001b[0;34m.\u001b[0m\u001b[0madd_line\u001b[0m\u001b[0;34m(\u001b[0m\u001b[0mline\u001b[0m\u001b[0;34m)\u001b[0m\u001b[0;34m\u001b[0m\u001b[0;34m\u001b[0m\u001b[0m\n",
      "\u001b[0;32m/Library/Frameworks/Python.framework/Versions/3.7/lib/python3.7/site-packages/matplotlib/axes/_base.py\u001b[0m in \u001b[0;36m__call__\u001b[0;34m(self, data, *args, **kwargs)\u001b[0m\n\u001b[1;32m    310\u001b[0m                 \u001b[0mthis\u001b[0m \u001b[0;34m+=\u001b[0m \u001b[0margs\u001b[0m\u001b[0;34m[\u001b[0m\u001b[0;36m0\u001b[0m\u001b[0;34m]\u001b[0m\u001b[0;34m,\u001b[0m\u001b[0;34m\u001b[0m\u001b[0;34m\u001b[0m\u001b[0m\n\u001b[1;32m    311\u001b[0m                 \u001b[0margs\u001b[0m \u001b[0;34m=\u001b[0m \u001b[0margs\u001b[0m\u001b[0;34m[\u001b[0m\u001b[0;36m1\u001b[0m\u001b[0;34m:\u001b[0m\u001b[0;34m]\u001b[0m\u001b[0;34m\u001b[0m\u001b[0;34m\u001b[0m\u001b[0m\n\u001b[0;32m--> 312\u001b[0;31m             \u001b[0;32myield\u001b[0m \u001b[0;32mfrom\u001b[0m \u001b[0mself\u001b[0m\u001b[0;34m.\u001b[0m\u001b[0m_plot_args\u001b[0m\u001b[0;34m(\u001b[0m\u001b[0mthis\u001b[0m\u001b[0;34m,\u001b[0m \u001b[0mkwargs\u001b[0m\u001b[0;34m)\u001b[0m\u001b[0;34m\u001b[0m\u001b[0;34m\u001b[0m\u001b[0m\n\u001b[0m\u001b[1;32m    313\u001b[0m \u001b[0;34m\u001b[0m\u001b[0m\n\u001b[1;32m    314\u001b[0m     \u001b[0;32mdef\u001b[0m \u001b[0mget_next_color\u001b[0m\u001b[0;34m(\u001b[0m\u001b[0mself\u001b[0m\u001b[0;34m)\u001b[0m\u001b[0;34m:\u001b[0m\u001b[0;34m\u001b[0m\u001b[0;34m\u001b[0m\u001b[0m\n",
      "\u001b[0;32m/Library/Frameworks/Python.framework/Versions/3.7/lib/python3.7/site-packages/matplotlib/axes/_base.py\u001b[0m in \u001b[0;36m_plot_args\u001b[0;34m(self, tup, kwargs, return_kwargs)\u001b[0m\n\u001b[1;32m    447\u001b[0m             \u001b[0;31m# xy is tup with fmt stripped (could still be (y,) only)\u001b[0m\u001b[0;34m\u001b[0m\u001b[0;34m\u001b[0m\u001b[0;34m\u001b[0m\u001b[0m\n\u001b[1;32m    448\u001b[0m             \u001b[0;34m*\u001b[0m\u001b[0mxy\u001b[0m\u001b[0;34m,\u001b[0m \u001b[0mfmt\u001b[0m \u001b[0;34m=\u001b[0m \u001b[0mtup\u001b[0m\u001b[0;34m\u001b[0m\u001b[0;34m\u001b[0m\u001b[0m\n\u001b[0;32m--> 449\u001b[0;31m             \u001b[0mlinestyle\u001b[0m\u001b[0;34m,\u001b[0m \u001b[0mmarker\u001b[0m\u001b[0;34m,\u001b[0m \u001b[0mcolor\u001b[0m \u001b[0;34m=\u001b[0m \u001b[0m_process_plot_format\u001b[0m\u001b[0;34m(\u001b[0m\u001b[0mfmt\u001b[0m\u001b[0;34m)\u001b[0m\u001b[0;34m\u001b[0m\u001b[0;34m\u001b[0m\u001b[0m\n\u001b[0m\u001b[1;32m    450\u001b[0m         \u001b[0;32melif\u001b[0m \u001b[0mlen\u001b[0m\u001b[0;34m(\u001b[0m\u001b[0mtup\u001b[0m\u001b[0;34m)\u001b[0m \u001b[0;34m==\u001b[0m \u001b[0;36m3\u001b[0m\u001b[0;34m:\u001b[0m\u001b[0;34m\u001b[0m\u001b[0;34m\u001b[0m\u001b[0m\n\u001b[1;32m    451\u001b[0m             \u001b[0;32mraise\u001b[0m \u001b[0mValueError\u001b[0m\u001b[0;34m(\u001b[0m\u001b[0;34m'third arg must be a format string'\u001b[0m\u001b[0;34m)\u001b[0m\u001b[0;34m\u001b[0m\u001b[0;34m\u001b[0m\u001b[0m\n",
      "\u001b[0;32m/Library/Frameworks/Python.framework/Versions/3.7/lib/python3.7/site-packages/matplotlib/axes/_base.py\u001b[0m in \u001b[0;36m_process_plot_format\u001b[0;34m(fmt)\u001b[0m\n\u001b[1;32m    183\u001b[0m             \u001b[0;32mif\u001b[0m \u001b[0mmarker\u001b[0m \u001b[0;32mis\u001b[0m \u001b[0;32mnot\u001b[0m \u001b[0;32mNone\u001b[0m\u001b[0;34m:\u001b[0m\u001b[0;34m\u001b[0m\u001b[0;34m\u001b[0m\u001b[0m\n\u001b[1;32m    184\u001b[0m                 raise ValueError(\n\u001b[0;32m--> 185\u001b[0;31m                     'Illegal format string \"%s\"; two marker symbols' % fmt)\n\u001b[0m\u001b[1;32m    186\u001b[0m             \u001b[0mmarker\u001b[0m \u001b[0;34m=\u001b[0m \u001b[0mc\u001b[0m\u001b[0;34m\u001b[0m\u001b[0;34m\u001b[0m\u001b[0m\n\u001b[1;32m    187\u001b[0m             \u001b[0mi\u001b[0m \u001b[0;34m+=\u001b[0m \u001b[0;36m1\u001b[0m\u001b[0;34m\u001b[0m\u001b[0;34m\u001b[0m\u001b[0m\n",
      "\u001b[0;31mValueError\u001b[0m: Illegal format string \"p-o\"; two marker symbols"
     ]
    },
    {
     "data": {
      "image/png": "[encoded data removed]",
      "text/plain": [
       "<Figure size 1400x600 with 2 Axes>"
      ]
     },
     "metadata": {},
     "output_type": "display_data"
    }
   ],
   "source": [
    "# Cell 4: View Training Results\n",
    "\n",
    "    \n",
    "# Display metrics if available\n",
    "if hasattr(fine_tuner, 'metrics'):\n",
    "    print(\"Final Evaluation Metrics:\")\n",
    "    metrics_df = pd.DataFrame([fine_tuner.metrics])\n",
    "    display(metrics_df.T.reset_index().rename(columns={'index': 'Metric', 0: 'Value'}))\n",
    "\n",
    "# Visualize training history if available\n",
    "if hasattr(fine_tuner.trainer, 'history') and fine_tuner.trainer.history:\n",
    "    history = fine_tuner.trainer.history\n",
    "\n",
    "    if history.get('train_loss') and history.get('val_loss'):\n",
    "        # Create figure\n",
    "        plt.figure(figsize=(14, 6))\n",
    "\n",
    "        # Plot training and validation loss\n",
    "        plt.subplot(1, 2, 1)\n",
    "        plt.plot(history['train_loss'], 'b-o', label='Training Loss')\n",
    "        plt.plot(history['val_loss'], 'r-o', label='Validation Loss')\n",
    "        plt.title('Loss During Training')\n",
    "        plt.xlabel('Epoch')\n",
    "        plt.ylabel('Loss')\n",
    "        plt.legend()\n",
    "        plt.grid(True, alpha=0.3)\n",
    "\n",
    "        # Plot performance metrics\n",
    "        plt.subplot(1, 2, 2)\n",
    "        if 'val_accuracy' in history:\n",
    "            plt.plot(history['val_accuracy'], 'g-o', label='Validation Accuracy')\n",
    "        if 'val_f1' in history:\n",
    "            plt.plot(history['val_f1'], 'p-o', label='Validation F1')\n",
    "        plt.title('Metrics During Training')\n",
    "        plt.xlabel('Epoch')\n",
    "        plt.ylabel('Score')\n",
    "        plt.legend()\n",
    "        plt.grid(True, alpha=0.3)\n",
    "\n",
    "        plt.tight_layout()\n",
    "        plt.show()\n",
    "else:\n",
    "    print(\"No training history available.\")\n",
    "    \n"
   ]
  },
  {
   "cell_type": "code",
   "execution_count": 6,
   "id": "8c7cc08c",
   "metadata": {},
   "outputs": [
    {
     "data": {
      "text/html": [
       "<div class='section-header'>Model Evaluation</div>"
      ],
      "text/plain": [
       "<IPython.core.display.HTML object>"
      ]
     },
     "metadata": {},
     "output_type": "display_data"
    },
    {
     "name": "stderr",
     "output_type": "stream",
     "text": [
      "2025-03-17 17:49:15,775 - INFO - Dataset loaded with 3238 samples.\n"
     ]
    },
    {
     "name": "stdout",
     "output_type": "stream",
     "text": [
      "Loading test dataset...\n",
      "Test dataset loaded with 324 samples.\n",
      "Running comprehensive evaluation...\n",
      "[INFO] Evaluating model on 21 batches...\n",
      "[INFO] Evaluation complete. Processed 324 samples.\n",
      "[INFO] Calculating metrics...\n",
      "[INFO] Metrics calculated. Overall accuracy: 0.9105\n"
     ]
    },
    {
     "data": {
      "image/png": "[encoded data removed]",
      "text/plain": [
       "<Figure size 1000x800 with 2 Axes>"
      ]
     },
     "metadata": {},
     "output_type": "display_data"
    },
    {
     "name": "stdout",
     "output_type": "stream",
     "text": [
      "\n",
      "Classification Report:\n"
     ]
    },
    {
     "data": {
      "text/html": [
       "<div>\n",
       "<style scoped>\n",
       "    .dataframe tbody tr th:only-of-type {\n",
       "        vertical-align: middle;\n",
       "    }\n",
       "\n",
       "    .dataframe tbody tr th {\n",
       "        vertical-align: top;\n",
       "    }\n",
       "\n",
       "    .dataframe thead th {\n",
       "        text-align: right;\n",
       "    }\n",
       "</style>\n",
       "<table border=\"1\" class=\"dataframe\">\n",
       "  <thead>\n",
       "    <tr style=\"text-align: right;\">\n",
       "      <th></th>\n",
       "      <th>Precision</th>\n",
       "      <th>Recall</th>\n",
       "      <th>F1 Score</th>\n",
       "      <th>Accuracy</th>\n",
       "    </tr>\n",
       "  </thead>\n",
       "  <tbody>\n",
       "    <tr>\n",
       "      <th>0</th>\n",
       "      <td>0.888889</td>\n",
       "      <td>0.938272</td>\n",
       "      <td>0.912913</td>\n",
       "      <td>0.910494</td>\n",
       "    </tr>\n",
       "  </tbody>\n",
       "</table>\n",
       "</div>"
      ],
      "text/plain": [
       "   Precision    Recall  F1 Score  Accuracy\n",
       "0   0.888889  0.938272  0.912913  0.910494"
      ]
     },
     "metadata": {},
     "output_type": "display_data"
    },
    {
     "name": "stdout",
     "output_type": "stream",
     "text": [
      "\n",
      "Per-Class Performance:\n"
     ]
    },
    {
     "data": {
      "text/html": [
       "<div>\n",
       "<style scoped>\n",
       "    .dataframe tbody tr th:only-of-type {\n",
       "        vertical-align: middle;\n",
       "    }\n",
       "\n",
       "    .dataframe tbody tr th {\n",
       "        vertical-align: top;\n",
       "    }\n",
       "\n",
       "    .dataframe thead th {\n",
       "        text-align: right;\n",
       "    }\n",
       "</style>\n",
       "<table border=\"1\" class=\"dataframe\">\n",
       "  <thead>\n",
       "    <tr style=\"text-align: right;\">\n",
       "      <th></th>\n",
       "      <th>precision</th>\n",
       "      <th>recall</th>\n",
       "      <th>f1-score</th>\n",
       "      <th>support</th>\n",
       "    </tr>\n",
       "  </thead>\n",
       "  <tbody>\n",
       "    <tr>\n",
       "      <th>Negative</th>\n",
       "      <td>0.934641</td>\n",
       "      <td>0.882716</td>\n",
       "      <td>0.907937</td>\n",
       "      <td>162.0</td>\n",
       "    </tr>\n",
       "    <tr>\n",
       "      <th>Positive</th>\n",
       "      <td>0.888889</td>\n",
       "      <td>0.938272</td>\n",
       "      <td>0.912913</td>\n",
       "      <td>162.0</td>\n",
       "    </tr>\n",
       "  </tbody>\n",
       "</table>\n",
       "</div>"
      ],
      "text/plain": [
       "          precision    recall  f1-score  support\n",
       "Negative   0.934641  0.882716  0.907937    162.0\n",
       "Positive   0.888889  0.938272  0.912913    162.0"
      ]
     },
     "metadata": {},
     "output_type": "display_data"
    }
   ],
   "source": [
    "# Cell 5: Run Comprehensive Evaluation\n",
    "try:\n",
    "    # Display header\n",
    "    display(HTML(\"<div class='section-header'>Model Evaluation</div>\"))\n",
    "    \n",
    "    # Import evaluator\n",
    "    from src.training.model_evaluator import ModelEvaluator\n",
    "    \n",
    "    # Get test data\n",
    "    print(\"Loading test dataset...\")\n",
    "    texts, labels = fine_tuner.data_module.load_dataset()\n",
    "    _, _, test_loader = fine_tuner.data_module.create_dataloaders(texts, labels)\n",
    "    print(f\"Test dataset loaded with {len(test_loader.dataset)} samples.\")\n",
    "    \n",
    "    # Create evaluator and run evaluation\n",
    "    print(\"Running comprehensive evaluation...\")\n",
    "    evaluator = ModelEvaluator(\n",
    "        model=fine_tuner.model,\n",
    "        device=fine_tuner.device,\n",
    "        model_name=\"CodeBERT Sentiment Classifier\",\n",
    "        class_names=fine_tuner.class_names\n",
    "    )\n",
    "    \n",
    "    # Evaluate model (get raw results for custom visualizations)\n",
    "    all_labels, all_preds, all_probs = evaluator.evaluate(test_loader)\n",
    "    metrics = evaluator.calculate_metrics(all_labels, all_preds, all_probs)\n",
    "    \n",
    "    # Display confusion matrix\n",
    "    plt.figure(figsize=(10, 8))\n",
    "    cm = metrics[\"confusion_matrix\"]\n",
    "    sns.heatmap(cm, annot=True, fmt=\"d\", cmap=\"Blues\", \n",
    "               xticklabels=fine_tuner.class_names, \n",
    "               yticklabels=fine_tuner.class_names)\n",
    "    plt.title(\"Confusion Matrix\")\n",
    "    plt.ylabel(\"True Label\")\n",
    "    plt.xlabel(\"Predicted Label\")\n",
    "    plt.tight_layout()\n",
    "    plt.show()\n",
    "    \n",
    "    # Display classification metrics\n",
    "    print(\"\\nClassification Report:\")\n",
    "    metrics_df = pd.DataFrame({\n",
    "        'Precision': [metrics['precision']],\n",
    "        'Recall': [metrics['recall']],\n",
    "        'F1 Score': [metrics['f1']],\n",
    "        'Accuracy': [metrics['accuracy']]\n",
    "    })\n",
    "    display(metrics_df)\n",
    "    \n",
    "    # Display per-class metrics if available\n",
    "    if 'per_class' in metrics:\n",
    "        print(\"\\nPer-Class Performance:\")\n",
    "        per_class_df = pd.DataFrame(metrics['per_class']).T\n",
    "        display(per_class_df)\n",
    "    \n",
    "except Exception as e:\n",
    "    print(f\"An error occurred: {e}\")\n",
    "    import traceback\n",
    "    traceback.print_exc()"
   ]
  },
  {
   "cell_type": "code",
   "execution_count": 7,
   "id": "3b15284e",
   "metadata": {},
   "outputs": [
    {
     "data": {
      "text/html": [
       "<div class='section-header'>Generate Evaluation Report</div>"
      ],
      "text/plain": [
       "<IPython.core.display.HTML object>"
      ]
     },
     "metadata": {},
     "output_type": "display_data"
    },
    {
     "name": "stdout",
     "output_type": "stream",
     "text": [
      "Generating comprehensive PDF report at evaluation_results/microsoft/codebert-base_evaluation_report.pdf...\n",
      "[INFO] Calculating metrics...\n",
      "[INFO] Metrics calculated. Overall accuracy: 0.9105\n",
      "[INFO] Generating evaluation report at evaluation_results/microsoft/codebert-base_evaluation_report.pdf...\n"
     ]
    },
    {
     "name": "stderr",
     "output_type": "stream",
     "text": [
      "2025-03-17 17:51:03,483 - INFO - Evaluation report saved as 'evaluation_results/microsoft/codebert-base_evaluation_report.pdf'\n"
     ]
    },
    {
     "name": "stdout",
     "output_type": "stream",
     "text": [
      "[INFO] Evaluation report saved as 'evaluation_results/microsoft/codebert-base_evaluation_report.pdf'\n",
      "PDF report generated successfully at: evaluation_results/microsoft/codebert-base_evaluation_report.pdf\n"
     ]
    }
   ],
   "source": [
    "# Cell 6: Generate PDF Report (Optional)\n",
    "try:\n",
    "    # Display header\n",
    "    display(HTML(\"<div class='section-header'>Generate Evaluation Report</div>\"))\n",
    "    \n",
    "    # Generate PDF report\n",
    "    report_path = f\"evaluation_results/{CONFIG['models']['codebert']['pretrained_model_name']}_evaluation_report.pdf\"\n",
    "    os.makedirs(os.path.dirname(report_path), exist_ok=True)\n",
    "    \n",
    "    print(f\"Generating comprehensive PDF report at {report_path}...\")\n",
    "    evaluator.generate_pdf_report(all_labels, all_preds, all_probs, output_path=report_path)\n",
    "    print(f\"PDF report generated successfully at: {report_path}\")\n",
    "    \n",
    "except Exception as e:\n",
    "    print(f\"An error occurred: {e}\")\n",
    "    import traceback\n",
    "    traceback.print_exc()\n"
   ]
  },
  {
   "cell_type": "code",
   "execution_count": 8,
   "id": "f426ff25",
   "metadata": {},
   "outputs": [
    {
     "data": {
      "text/html": [
       "<div class='section-header'>Test with Custom Inputs</div>"
      ],
      "text/plain": [
       "<IPython.core.display.HTML object>"
      ]
     },
     "metadata": {},
     "output_type": "display_data"
    },
    {
     "name": "stdout",
     "output_type": "stream",
     "text": [
      "Try your own examples:\n"
     ]
    },
    {
     "data": {
      "application/vnd.jupyter.widget-view+json": {
       "model_id": "40270af972af47d1a99b27db3d2bf22b",
       "version_major": 2,
       "version_minor": 0
      },
      "text/plain": [
       "Textarea(value='', layout=Layout(height='100px', width='100%'), placeholder='Enter text to analyze...')"
      ]
     },
     "metadata": {},
     "output_type": "display_data"
    },
    {
     "data": {
      "application/vnd.jupyter.widget-view+json": {
       "model_id": "4a44f1226abf42bfb539786cd34261ac",
       "version_major": 2,
       "version_minor": 0
      },
      "text/plain": [
       "Button(button_style='primary', description='Analyze Sentiment', layout=Layout(width='200px'), style=ButtonStyl…"
      ]
     },
     "metadata": {},
     "output_type": "display_data"
    },
    {
     "data": {
      "application/vnd.jupyter.widget-view+json": {
       "model_id": "f1c19abab6464683be5847fb8aa7d986",
       "version_major": 2,
       "version_minor": 0
      },
      "text/plain": [
       "Output()"
      ]
     },
     "metadata": {},
     "output_type": "display_data"
    }
   ],
   "source": [
    "import torch\n",
    "\n",
    "# Cell 7: Test with Custom Inputs (Optional)\n",
    "try:\n",
    "    # Display header\n",
    "    display(HTML(\"<div class='section-header'>Test with Custom Inputs</div>\"))\n",
    "    \n",
    "    def predict_sentiment(text):\n",
    "        \"\"\"Function to predict sentiment of a given text\"\"\"\n",
    "        # Tokenize input\n",
    "        inputs = fine_tuner.tokenizer(\n",
    "            text,\n",
    "            return_tensors=\"pt\",\n",
    "            truncation=True,\n",
    "            padding=\"max_length\",\n",
    "            max_length=CONFIG[\"training\"][\"max_length\"]\n",
    "        )\n",
    "        \n",
    "        # Move inputs to device\n",
    "        inputs = {key: val.to(fine_tuner.device) for key, val in inputs.items()}\n",
    "        \n",
    "        # Set model to evaluation mode\n",
    "        fine_tuner.model.eval()\n",
    "        \n",
    "        # Get prediction\n",
    "        with torch.no_grad():\n",
    "            outputs = fine_tuner.model(**inputs)\n",
    "            logits = outputs.logits\n",
    "            probabilities = torch.nn.functional.softmax(logits, dim=1)\n",
    "            prediction = torch.argmax(logits, dim=1)\n",
    "        \n",
    "        # Get predicted class\n",
    "        predicted_class = fine_tuner.class_names[prediction.item()]\n",
    "        confidence = probabilities[0][prediction.item()].item() * 100\n",
    "        \n",
    "        # Get probabilities for all classes\n",
    "        class_probs = {\n",
    "            fine_tuner.class_names[i]: prob.item() * 100 \n",
    "            for i, prob in enumerate(probabilities[0])\n",
    "        }\n",
    "        \n",
    "        return predicted_class, confidence, class_probs\n",
    "    \n",
    "    # Create a simple UI for testing\n",
    "    from ipywidgets import widgets, Layout\n",
    "    from IPython.display import display, clear_output\n",
    "    \n",
    "    # Create text input\n",
    "    text_input = widgets.Textarea(\n",
    "        placeholder='Enter text to analyze...',\n",
    "        layout=Layout(width='100%', height='100px')\n",
    "    )\n",
    "    \n",
    "    # Create button\n",
    "    button = widgets.Button(\n",
    "        description='Analyze Sentiment',\n",
    "        button_style='primary',\n",
    "        layout=Layout(width='200px')\n",
    "    )\n",
    "    \n",
    "    # Create output area\n",
    "    output = widgets.Output()\n",
    "    \n",
    "    # Define button click event\n",
    "    def on_button_click(b):\n",
    "        with output:\n",
    "            clear_output()\n",
    "            if not text_input.value.strip():\n",
    "                print(\"Please enter some text to analyze.\")\n",
    "                return\n",
    "            \n",
    "            print(f\"Analyzing: \\\"{text_input.value}\\\"\")\n",
    "            predicted_class, confidence, class_probs = predict_sentiment(text_input.value)\n",
    "            \n",
    "            print(f\"\\nPredicted sentiment: {predicted_class} (Confidence: {confidence:.2f}%)\")\n",
    "            print(\"\\nProbabilities for all classes:\")\n",
    "            for cls, prob in class_probs.items():\n",
    "                print(f\"  - {cls}: {prob:.2f}%\")\n",
    "    \n",
    "    button.on_click(on_button_click)\n",
    "    \n",
    "    # Display widgets\n",
    "    print(\"Try your own examples:\")\n",
    "    display(text_input)\n",
    "    display(button)\n",
    "    display(output)\n",
    "    \n",
    "except Exception as e:\n",
    "    print(f\"An error occurred: {e}\")\n",
    "    import traceback\n",
    "    traceback.print_exc()"
   ]
  },
  {
   "cell_type": "code",
   "execution_count": 9,
   "id": "dde176d6",
   "metadata": {},
   "outputs": [],
   "source": [
    "import torch\n",
    "import os\n",
    "import json\n",
    "\n",
    "\n",
    "def save_model(fine_tuner, save_dir=\"saved_model\"):\n",
    "    \"\"\"\n",
    "    Save the model architecture, tokenizer, weights, and related configurations.\n",
    "    \"\"\"\n",
    "    os.makedirs(save_dir, exist_ok=True)\n",
    "    \n",
    "    # Save model weights\n",
    "    model_path = os.path.join(save_dir, \"model.pth\")\n",
    "    torch.save(fine_tuner.model.state_dict(), model_path)\n",
    "    print(f\"Model weights saved at: {model_path}\")\n",
    "    \n",
    "    # Save tokenizer\n",
    "    tokenizer_path = os.path.join(save_dir, \"tokenizer\")\n",
    "    fine_tuner.tokenizer.save_pretrained(tokenizer_path)\n",
    "    print(f\"Tokenizer saved at: {tokenizer_path}\")\n",
    "    \n",
    "    # Save training history if available\n",
    "    history_path = os.path.join(save_dir, \"history.json\")\n",
    "    if hasattr(fine_tuner.trainer, 'history') and fine_tuner.trainer.history:\n",
    "        with open(history_path, \"w\") as f:\n",
    "            json.dump(fine_tuner.trainer.history, f, indent=4)\n",
    "        print(f\"Training history saved at: {history_path}\")\n",
    "    \n",
    "    # Save model configuration\n",
    "    config_path = os.path.join(save_dir, \"config.json\")\n",
    "    config_data = {\n",
    "        \"model_name\": \"CodeBERT Sentiment Classifier\",\n",
    "        \"class_names\": fine_tuner.class_names,\n",
    "        \"device\": fine_tuner.device,\n",
    "        \"pretrained_model\": CONFIG[\"models\"][\"codebert\"][\"pretrained_model_name\"],\n",
    "        \"max_length\": CONFIG[\"training\"][\"max_length\"]\n",
    "    }\n",
    "    \n",
    "    with open(config_path, \"w\") as f:\n",
    "        json.dump(config_data, f, indent=4)\n",
    "    print(f\"Model configuration saved at: {config_path}\")\n",
    "    \n",
    "    print(\"Model save process completed!\")\n"
   ]
  },
  {
   "cell_type": "code",
   "execution_count": 10,
   "id": "b5d52df8",
   "metadata": {},
   "outputs": [
    {
     "name": "stdout",
     "output_type": "stream",
     "text": [
      "Model weights saved at: saved_model/model.pth\n",
      "Tokenizer saved at: saved_model/tokenizer\n",
      "Training history saved at: saved_model/history.json\n",
      "Model configuration saved at: saved_model/config.json\n",
      "Model save process completed!\n"
     ]
    }
   ],
   "source": [
    "save_model(fine_tuner)\n"
   ]
  },
  {
   "cell_type": "code",
   "execution_count": null,
   "id": "3d07a6d7",
   "metadata": {},
   "outputs": [],
   "source": []
  }
 ],
 "metadata": {
  "kernelspec": {
   "display_name": "Python 3 (ipykernel)",
   "language": "python",
   "name": "python3"
  },
  "language_info": {
   "codemirror_mode": {
    "name": "ipython",
    "version": 3
   },
   "file_extension": ".py",
   "mimetype": "text/x-python",
   "name": "python",
   "nbconvert_exporter": "python",
   "pygments_lexer": "ipython3",
   "version": "3.12.9"
  }
 },
 "nbformat": 4,
 "nbformat_minor": 5
}
