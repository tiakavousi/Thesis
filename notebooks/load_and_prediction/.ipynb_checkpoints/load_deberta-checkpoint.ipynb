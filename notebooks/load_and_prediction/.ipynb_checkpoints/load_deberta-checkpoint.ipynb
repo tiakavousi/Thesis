{
 "cells": [
  {
   "cell_type": "code",
   "execution_count": 1,
   "id": "a847ecc9",
   "metadata": {},
   "outputs": [],
   "source": [
    "# Cell 1: Import necessary libraries\n",
    "import os\n",
    "import sys\n",
    "import torch\n",
    "from transformers import AutoTokenizer, AutoConfig, DebertaForSequenceClassification"
   ]
  },
  {
   "cell_type": "code",
   "execution_count": 2,
   "id": "73f81a70",
   "metadata": {},
   "outputs": [
    {
     "name": "stdout",
     "output_type": "stream",
     "text": [
      "Environment setup complete!\n"
     ]
    }
   ],
   "source": [
    "project_root = \"/Users/tayebekavousi/Desktop/github_sa\"\n",
    "# Save the original directory to go back to it later if needed\n",
    "original_dir = os.getcwd()\n",
    "# Change to the project root directory\n",
    "os.chdir(project_root)\n",
    "# Ensure the project root is in the Python path\n",
    "if project_root not in sys.path:\n",
    "    sys.path.insert(0, project_root)\n",
    "sys.path.insert(0, '')  # Add current directory (empty string) to path\n",
    "\n",
    "\n",
    "print(\"Environment setup complete!\")"
   ]
  },
  {
   "cell_type": "code",
   "execution_count": 19,
   "id": "4e84eab9",
   "metadata": {},
   "outputs": [
    {
     "name": "stderr",
     "output_type": "stream",
     "text": [
      "Some weights of the model checkpoint at microsoft/deberta-base were not used when initializing DebertaForSequenceClassification: ['lm_predictions.lm_head.dense.weight', 'lm_predictions.lm_head.dense.bias', 'lm_predictions.lm_head.bias', 'lm_predictions.lm_head.LayerNorm.weight', 'lm_predictions.lm_head.LayerNorm.bias']\n",
      "- This IS expected if you are initializing DebertaForSequenceClassification from the checkpoint of a model trained on another task or with another architecture (e.g. initializing a BertForSequenceClassification model from a BertForPreTraining model).\n",
      "- This IS NOT expected if you are initializing DebertaForSequenceClassification from the checkpoint of a model that you expect to be exactly identical (initializing a BertForSequenceClassification model from a BertForSequenceClassification model).\n",
      "Some weights of DebertaForSequenceClassification were not initialized from the model checkpoint at microsoft/deberta-base and are newly initialized: ['classifier.bias', 'pooler.dense.weight', 'classifier.weight', 'pooler.dense.bias']\n",
      "You should probably TRAIN this model on a down-stream task to be able to use it for predictions and inference.\n"
     ]
    }
   ],
   "source": [
    "# import torch\n",
    "# from transformers import AutoTokenizer, AutoModelForSequenceClassification\n",
    "\n",
    "# # Define paths to your saved weights and tokenizer directory\n",
    "# weights_path = \"saved_models/deberta_epoch2/best_weights_20250322_143118.pt\"\n",
    "# tokenizer_path = \"saved_models/deberta_epoch2/tokenizer\"\n",
    "\n",
    "# # Instantiate the model architecture (use the same model as during training)\n",
    "# model = AutoModelForSequenceClassification.from_pretrained(\"microsoft/deberta-base\", num_labels=2)\n",
    "\n",
    "# # Load the saved weights\n",
    "# model.load_state_dict(torch.load(weights_path, map_location=torch.device('cpu')))\n",
    "\n",
    "# # Load the tokenizer\n",
    "# tokenizer = AutoTokenizer.from_pretrained(tokenizer_path)"
   ]
  },
  {
   "cell_type": "code",
   "execution_count": 30,
   "id": "797335b9",
   "metadata": {},
   "outputs": [
    {
     "name": "stdout",
     "output_type": "stream",
     "text": [
      "Loading model from: saved_models/deberta_best_model_epoch2\n",
      "Using model type from config: microsoft/deberta-base\n",
      "Best performing epoch according to config: 2\n",
      "train_loss: 0.2213\n",
      "val_loss: 0.1828\n",
      "val_accuracy: 0.9342\n",
      "val_f1: 0.9341\n",
      "\n",
      "Model info from best_model_info.txt:\n",
      "Best Model Information\n",
      "====================\n",
      "Epoch: 2\n",
      "Validation Accuracy: 0.9342\n",
      "Validation F1 Score: 0.9341\n",
      "Validation Loss: 0.1828\n",
      "Timestamp: 20250322_150352\n",
      "Weights file: best_weights_epoch2.pt\n",
      "\n",
      "\n",
      "Loading model architecture: microsoft/deberta-base\n"
     ]
    },
    {
     "name": "stderr",
     "output_type": "stream",
     "text": [
      "Some weights of the model checkpoint at microsoft/deberta-base were not used when initializing DebertaForSequenceClassification: ['lm_predictions.lm_head.dense.weight', 'lm_predictions.lm_head.dense.bias', 'lm_predictions.lm_head.bias', 'lm_predictions.lm_head.LayerNorm.weight', 'lm_predictions.lm_head.LayerNorm.bias']\n",
      "- This IS expected if you are initializing DebertaForSequenceClassification from the checkpoint of a model trained on another task or with another architecture (e.g. initializing a BertForSequenceClassification model from a BertForPreTraining model).\n",
      "- This IS NOT expected if you are initializing DebertaForSequenceClassification from the checkpoint of a model that you expect to be exactly identical (initializing a BertForSequenceClassification model from a BertForSequenceClassification model).\n",
      "Some weights of DebertaForSequenceClassification were not initialized from the model checkpoint at microsoft/deberta-base and are newly initialized: ['classifier.bias', 'pooler.dense.weight', 'classifier.weight', 'pooler.dense.bias']\n",
      "You should probably TRAIN this model on a down-stream task to be able to use it for predictions and inference.\n"
     ]
    },
    {
     "name": "stdout",
     "output_type": "stream",
     "text": [
      "Loading weights from: saved_models/deberta_best_model_epoch2/best_weights_epoch2.pt\n",
      "Loading tokenizer from: saved_models/deberta_best_model_epoch2/tokenizer\n",
      "Model loaded successfully and set to evaluation mode\n"
     ]
    }
   ],
   "source": [
    "# Replace cell 3 in load_deberta.ipynb with this code:\n",
    "\n",
    "import torch\n",
    "from transformers import AutoTokenizer, AutoModelForSequenceClassification\n",
    "import json\n",
    "import os\n",
    "\n",
    "# We'll either use a specific best model directory or create a path to one\n",
    "def load_best_model(specific_epoch=2, base_dir=\"saved_models\"):\n",
    "    \"\"\"\n",
    "    Load model weights from a specific epoch or the best model directory.\n",
    "    \n",
    "    Args:\n",
    "        specific_epoch: The epoch number to load (if available)\n",
    "        base_dir: Base directory for saved models\n",
    "    \n",
    "    Returns:\n",
    "        model, tokenizer\n",
    "    \"\"\"\n",
    "    # First try to find a directory specific to the best epoch\n",
    "    best_model_path = os.path.join(base_dir, f\"deberta_best_model_epoch{specific_epoch}\")\n",
    "    \n",
    "    # If that doesn't exist, try looking for an epoch directory\n",
    "    if not os.path.exists(best_model_path):\n",
    "        epoch_path = os.path.join(base_dir, f\"deberta_epoch{specific_epoch}\")\n",
    "        if os.path.exists(epoch_path):\n",
    "            best_model_path = epoch_path\n",
    "            print(f\"Loading from epoch directory: {best_model_path}\")\n",
    "        else:\n",
    "            # Try to find any best_model directory\n",
    "            candidates = [d for d in os.listdir(base_dir) if 'best_model' in d]\n",
    "            if candidates:\n",
    "                # Sort by modification time (most recent first)\n",
    "                candidates.sort(key=lambda x: os.path.getmtime(os.path.join(base_dir, x)), reverse=True)\n",
    "                best_model_path = os.path.join(base_dir, candidates[0])\n",
    "                print(f\"Falling back to most recent best model directory: {best_model_path}\")\n",
    "            else:\n",
    "                raise FileNotFoundError(f\"No best model directory found for epoch {specific_epoch}\")\n",
    "    \n",
    "    print(f\"Loading model from: {best_model_path}\")\n",
    "    \n",
    "    # Find the weights file\n",
    "    weights_files = [f for f in os.listdir(best_model_path) \n",
    "                    if (f.startswith('best_weights_epoch') or f.startswith('weights_epoch')) and f.endswith('.pt')]\n",
    "    \n",
    "    if not weights_files:\n",
    "        raise FileNotFoundError(\"No weights file found in the best model directory\")\n",
    "    \n",
    "    # If multiple weight files, prioritize one with the specific epoch number\n",
    "    target_weight = None\n",
    "    for wf in weights_files:\n",
    "        if f\"epoch{specific_epoch}\" in wf:\n",
    "            target_weight = wf\n",
    "            break\n",
    "    \n",
    "    # If no specific match, take the most recent\n",
    "    if not target_weight:\n",
    "        weights_files.sort(key=lambda x: os.path.getmtime(os.path.join(best_model_path, x)), reverse=True)\n",
    "        target_weight = weights_files[0]\n",
    "    \n",
    "    weights_path = os.path.join(best_model_path, target_weight)\n",
    "    \n",
    "    # Path to the tokenizer\n",
    "    tokenizer_path = os.path.join(best_model_path, \"tokenizer\")\n",
    "    if not os.path.exists(tokenizer_path):\n",
    "        # Try to find tokenizer in the parent directory\n",
    "        tokenizer_path = os.path.join(base_dir, \"tokenizer\")\n",
    "        if not os.path.exists(tokenizer_path):\n",
    "            raise FileNotFoundError(\"Tokenizer directory not found\")\n",
    "    \n",
    "    # Default model settings\n",
    "    model_type = \"microsoft/deberta-base\"\n",
    "    num_labels = 2\n",
    "    \n",
    "    # Load config if available\n",
    "    config_files = [f for f in os.listdir(best_model_path) if f.startswith('config_') and f.endswith('.json')]\n",
    "    \n",
    "    if config_files:\n",
    "        config_files.sort(key=lambda x: os.path.getmtime(os.path.join(best_model_path, x)), reverse=True)\n",
    "        config_path = os.path.join(best_model_path, config_files[0])\n",
    "        \n",
    "        try:\n",
    "            with open(config_path, 'r') as f:\n",
    "                config = json.load(f)\n",
    "                if 'pretrained_model' in config:\n",
    "                    model_type = config['pretrained_model']\n",
    "                print(f\"Using model type from config: {model_type}\")\n",
    "                \n",
    "                # Get best epoch information if available\n",
    "                if 'best_epoch' in config:\n",
    "                    print(f\"Best performing epoch according to config: {config['best_epoch']}\")\n",
    "                \n",
    "                # Get performance metrics if available\n",
    "                if 'metrics' in config:\n",
    "                    for metric, value in config['metrics'].items():\n",
    "                        print(f\"{metric}: {value:.4f}\")\n",
    "        except Exception as e:\n",
    "            print(f\"Could not load config file: {e}\")\n",
    "    \n",
    "    # Check for the info file as a fallback\n",
    "    info_path = os.path.join(best_model_path, \"best_model_info.txt\")\n",
    "    if os.path.exists(info_path):\n",
    "        try:\n",
    "            with open(info_path, 'r') as f:\n",
    "                print(\"\\nModel info from best_model_info.txt:\")\n",
    "                print(f.read())\n",
    "        except Exception as e:\n",
    "            print(f\"Could not read info file: {e}\")\n",
    "    \n",
    "    print(f\"\\nLoading model architecture: {model_type}\")\n",
    "    model = AutoModelForSequenceClassification.from_pretrained(model_type, num_labels=num_labels)\n",
    "    \n",
    "    print(f\"Loading weights from: {weights_path}\")\n",
    "    model.load_state_dict(torch.load(weights_path, map_location=torch.device('cpu')))\n",
    "    \n",
    "    print(f\"Loading tokenizer from: {tokenizer_path}\")\n",
    "    tokenizer = AutoTokenizer.from_pretrained(tokenizer_path)\n",
    "    \n",
    "    model.eval()\n",
    "    print(\"Model loaded successfully and set to evaluation mode\")\n",
    "    \n",
    "    return model, tokenizer\n",
    "\n",
    "# Load the best performing model (Epoch 2)\n",
    "model, tokenizer = load_best_model(specific_epoch=2)"
   ]
  },
  {
   "cell_type": "code",
   "execution_count": 31,
   "id": "b5e81fde",
   "metadata": {},
   "outputs": [
    {
     "name": "stdout",
     "output_type": "stream",
     "text": [
      "Predicted class: 0\n"
     ]
    }
   ],
   "source": [
    "# Example prediction code\n",
    "sample_text = \" I hated it!\"\n",
    "inputs = tokenizer(sample_text, return_tensors=\"pt\", padding=True, truncation=True)\n",
    "model.eval()\n",
    "with torch.no_grad():\n",
    "    outputs = model(**inputs)\n",
    "    \n",
    "logits = outputs.logits\n",
    "predicted_class = torch.argmax(logits, dim=1).item()\n",
    "\n",
    "print(\"Predicted class:\", predicted_class)"
   ]
  },
  {
   "cell_type": "code",
   "execution_count": 32,
   "id": "04bb70f2",
   "metadata": {},
   "outputs": [
    {
     "data": {
      "text/html": [
       "<div class='section-header'>Model Evaluation</div>"
      ],
      "text/plain": [
       "<IPython.core.display.HTML object>"
      ]
     },
     "metadata": {},
     "output_type": "display_data"
    },
    {
     "name": "stdout",
     "output_type": "stream",
     "text": [
      "Loading test dataset...\n",
      "Test dataset loaded with 324 samples.\n",
      "Running comprehensive evaluation...\n",
      "[INFO] Evaluating model on 21 batches...\n",
      "[INFO] Evaluation complete. Processed 324 samples.\n",
      "[INFO] Calculating metrics...\n",
      "[INFO] Metrics calculated. Overall accuracy: 0.9198\n"
     ]
    },
    {
     "data": {
      "image/png": "[encoded data removed]",
      "text/plain": [
       "<Figure size 1000x800 with 2 Axes>"
      ]
     },
     "metadata": {},
     "output_type": "display_data"
    },
    {
     "name": "stdout",
     "output_type": "stream",
     "text": [
      "\n",
      "Classification Report:\n"
     ]
    },
    {
     "data": {
      "text/html": [
       "<div>\n",
       "<style scoped>\n",
       "    .dataframe tbody tr th:only-of-type {\n",
       "        vertical-align: middle;\n",
       "    }\n",
       "\n",
       "    .dataframe tbody tr th {\n",
       "        vertical-align: top;\n",
       "    }\n",
       "\n",
       "    .dataframe thead th {\n",
       "        text-align: right;\n",
       "    }\n",
       "</style>\n",
       "<table border=\"1\" class=\"dataframe\">\n",
       "  <thead>\n",
       "    <tr style=\"text-align: right;\">\n",
       "      <th></th>\n",
       "      <th>Precision</th>\n",
       "      <th>Recall</th>\n",
       "      <th>F1 Score</th>\n",
       "      <th>Accuracy</th>\n",
       "    </tr>\n",
       "  </thead>\n",
       "  <tbody>\n",
       "    <tr>\n",
       "      <th>0</th>\n",
       "      <td>0.919753</td>\n",
       "      <td>0.919753</td>\n",
       "      <td>0.919753</td>\n",
       "      <td>0.919753</td>\n",
       "    </tr>\n",
       "  </tbody>\n",
       "</table>\n",
       "</div>"
      ],
      "text/plain": [
       "   Precision    Recall  F1 Score  Accuracy\n",
       "0   0.919753  0.919753  0.919753  0.919753"
      ]
     },
     "metadata": {},
     "output_type": "display_data"
    },
    {
     "name": "stdout",
     "output_type": "stream",
     "text": [
      "\n",
      "Per-Class Performance:\n"
     ]
    },
    {
     "data": {
      "text/html": [
       "<div>\n",
       "<style scoped>\n",
       "    .dataframe tbody tr th:only-of-type {\n",
       "        vertical-align: middle;\n",
       "    }\n",
       "\n",
       "    .dataframe tbody tr th {\n",
       "        vertical-align: top;\n",
       "    }\n",
       "\n",
       "    .dataframe thead th {\n",
       "        text-align: right;\n",
       "    }\n",
       "</style>\n",
       "<table border=\"1\" class=\"dataframe\">\n",
       "  <thead>\n",
       "    <tr style=\"text-align: right;\">\n",
       "      <th></th>\n",
       "      <th>precision</th>\n",
       "      <th>recall</th>\n",
       "      <th>f1-score</th>\n",
       "      <th>support</th>\n",
       "    </tr>\n",
       "  </thead>\n",
       "  <tbody>\n",
       "    <tr>\n",
       "      <th>0</th>\n",
       "      <td>0.919753</td>\n",
       "      <td>0.919753</td>\n",
       "      <td>0.919753</td>\n",
       "      <td>162.0</td>\n",
       "    </tr>\n",
       "    <tr>\n",
       "      <th>1</th>\n",
       "      <td>0.919753</td>\n",
       "      <td>0.919753</td>\n",
       "      <td>0.919753</td>\n",
       "      <td>162.0</td>\n",
       "    </tr>\n",
       "  </tbody>\n",
       "</table>\n",
       "</div>"
      ],
      "text/plain": [
       "   precision    recall  f1-score  support\n",
       "0   0.919753  0.919753  0.919753    162.0\n",
       "1   0.919753  0.919753  0.919753    162.0"
      ]
     },
     "metadata": {},
     "output_type": "display_data"
    }
   ],
   "source": [
    "# Comprehensive Evaluation with Loaded Model\n",
    "\n",
    "import torch\n",
    "import matplotlib.pyplot as plt\n",
    "import seaborn as sns\n",
    "import pandas as pd\n",
    "from IPython.display import display, HTML\n",
    "from src.training.model_evaluator import ModelEvaluator\n",
    "from src.data_pipeline.data_loader import DataModule  # Adjust if necessary\n",
    "\n",
    "# Set device and class names mapping\n",
    "device = torch.device(\"cpu\")\n",
    "class_names = {0: \"Negative\", 1: \"Positive\"}\n",
    "\n",
    "# Display header\n",
    "display(HTML(\"<div class='section-header'>Model Evaluation</div>\"))\n",
    "\n",
    "# Load test dataset using your data module, passing the loaded tokenizer.\n",
    "print(\"Loading test dataset...\")\n",
    "data_module = DataModule(tokenizer)  # Pass the loaded tokenizer to the data module\n",
    "# Removed the 'split' argument since load_dataset() doesn't accept it.\n",
    "texts, labels = data_module.load_dataset()\n",
    "_, _, test_loader = data_module.create_dataloaders(texts, labels)\n",
    "print(f\"Test dataset loaded with {len(test_loader.dataset)} samples.\")\n",
    "\n",
    "# Create evaluator using the loaded model and run evaluation\n",
    "print(\"Running comprehensive evaluation...\")\n",
    "evaluator = ModelEvaluator(\n",
    "    model=model,        # 'model' should be the model loaded from your best weights checkpoint\n",
    "    device=device,\n",
    "    model_name=\"Deberta Sentiment Classifier\",\n",
    "    class_names=class_names\n",
    ")\n",
    "\n",
    "# Evaluate the model and compute metrics\n",
    "all_labels, all_preds, all_probs = evaluator.evaluate(test_loader)\n",
    "metrics = evaluator.calculate_metrics(all_labels, all_preds, all_probs)\n",
    "\n",
    "# Display confusion matrix\n",
    "plt.figure(figsize=(10, 8))\n",
    "cm = metrics[\"confusion_matrix\"]\n",
    "sns.heatmap(cm, annot=True, fmt=\"d\", cmap=\"Blues\",\n",
    "            xticklabels=list(class_names.values()),\n",
    "            yticklabels=list(class_names.values()))\n",
    "plt.title(\"Confusion Matrix\")\n",
    "plt.ylabel(\"True Label\")\n",
    "plt.xlabel(\"Predicted Label\")\n",
    "plt.tight_layout()\n",
    "plt.show()\n",
    "\n",
    "# Display classification metrics\n",
    "print(\"\\nClassification Report:\")\n",
    "metrics_df = pd.DataFrame({\n",
    "    'Precision': [metrics['precision']],\n",
    "    'Recall': [metrics['recall']],\n",
    "    'F1 Score': [metrics['f1']],\n",
    "    'Accuracy': [metrics['accuracy']]\n",
    "})\n",
    "display(metrics_df)\n",
    "\n",
    "# Display per-class performance if available\n",
    "if 'per_class' in metrics:\n",
    "    print(\"\\nPer-Class Performance:\")\n",
    "    per_class_df = pd.DataFrame(metrics['per_class']).T\n",
    "    display(per_class_df)\n"
   ]
  },
  {
   "cell_type": "code",
   "execution_count": null,
   "id": "2d2ee0e0",
   "metadata": {},
   "outputs": [],
   "source": []
  }
 ],
 "metadata": {
  "kernelspec": {
   "display_name": "Python 3 (ipykernel)",
   "language": "python",
   "name": "python3"
  },
  "language_info": {
   "codemirror_mode": {
    "name": "ipython",
    "version": 3
   },
   "file_extension": ".py",
   "mimetype": "text/x-python",
   "name": "python",
   "nbconvert_exporter": "python",
   "pygments_lexer": "ipython3",
   "version": "3.7.9"
  }
 },
 "nbformat": 4,
 "nbformat_minor": 5
}
