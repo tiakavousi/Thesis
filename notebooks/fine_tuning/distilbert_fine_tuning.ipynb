{
 "cells": [
  {
   "cell_type": "markdown",
   "metadata": {},
   "source": [
    "# DistilBERT Fine-Tuning for Comment Sentiment Classification\n",
    "\n",
    "This notebook demonstrates how to fine-tune a DistilBERT model for sentiment classification of software engineering specific text using publiclly available datasets"
   ]
  },
  {
   "cell_type": "markdown",
   "metadata": {},
   "source": [
    "# Cell 1: Setup Environment and Imports"
   ]
  },
  {
   "cell_type": "code",
   "execution_count": 1,
   "metadata": {},
   "outputs": [],
   "source": [
    "import os\n",
    "import sys\n",
    "import matplotlib.pyplot as plt\n",
    "import pandas as pd\n",
    "import numpy as np\n",
    "import seaborn as sns\n",
    "from IPython.display import display, HTML, clear_output"
   ]
  },
  {
   "cell_type": "markdown",
   "metadata": {},
   "source": [
    "# Define project root path"
   ]
  },
  {
   "cell_type": "code",
   "execution_count": 2,
   "metadata": {},
   "outputs": [
    {
     "name": "stdout",
     "output_type": "stream",
     "text": [
      "Environment setup complete!\n"
     ]
    }
   ],
   "source": [
    "project_root = \"/Users/tayebekavousi/Desktop/github_sa\"\n",
    "# Save the original directory to go back to it later if needed\n",
    "original_dir = os.getcwd()\n",
    "# Change to the project root directory\n",
    "os.chdir(project_root)\n",
    "# Ensure the project root is in the Python path\n",
    "if project_root not in sys.path:\n",
    "    sys.path.insert(0, project_root)\n",
    "sys.path.insert(0, '')  # Add current directory (empty string) to path\n",
    "\n",
    "\n",
    "print(\"Environment setup complete!\")"
   ]
  },
  {
   "cell_type": "markdown",
   "metadata": {},
   "source": [
    "# Cell 2: Import Model Classes and Functions"
   ]
  },
  {
   "cell_type": "code",
   "execution_count": 3,
   "metadata": {},
   "outputs": [],
   "source": [
    "from src.models.distilbert.train_distilbert import main\n",
    "from src.config import CONFIG"
   ]
  },
  {
   "cell_type": "markdown",
   "metadata": {},
   "source": [
    "# Cell 3: Run Fine-tuning Process"
   ]
  },
  {
   "cell_type": "code",
   "execution_count": 4,
   "metadata": {},
   "outputs": [
    {
     "name": "stdout",
     "output_type": "stream",
     "text": [
      "Starting fine-tuning process...\n",
      "[INFO] Initializing DistilBERT fine-tuner with model: distilbert-base-uncased\n",
      "[INFO] Tokenizer loaded successfully.\n"
     ]
    },
    {
     "name": "stderr",
     "output_type": "stream",
     "text": [
      "Some weights of the model checkpoint at distilbert-base-uncased were not used when initializing DistilBertForSequenceClassification: ['vocab_layer_norm.bias', 'vocab_layer_norm.weight', 'vocab_transform.weight', 'vocab_transform.bias', 'vocab_projector.bias']\n",
      "- This IS expected if you are initializing DistilBertForSequenceClassification from the checkpoint of a model trained on another task or with another architecture (e.g. initializing a BertForSequenceClassification model from a BertForPreTraining model).\n",
      "- This IS NOT expected if you are initializing DistilBertForSequenceClassification from the checkpoint of a model that you expect to be exactly identical (initializing a BertForSequenceClassification model from a BertForSequenceClassification model).\n",
      "Some weights of DistilBertForSequenceClassification were not initialized from the model checkpoint at distilbert-base-uncased and are newly initialized: ['classifier.bias', 'classifier.weight', 'pre_classifier.bias', 'pre_classifier.weight']\n",
      "You should probably TRAIN this model on a down-stream task to be able to use it for predictions and inference.\n",
      "/Library/Frameworks/Python.framework/Versions/3.7/lib/python3.7/site-packages/transformers/optimization.py:415: FutureWarning: This implementation of AdamW is deprecated and will be removed in a future version. Use the PyTorch implementation torch.optim.AdamW instead, or set `no_deprecation_warning=True` to disable this warning\n",
      "  FutureWarning,\n",
      "2025-03-13 09:43:04,817 - INFO - Initialized DistilBERTFineTuner with model 'distilbert-base-uncased'\n",
      "2025-03-13 09:43:04,818 - INFO - Starting DistilBERT fine-tuning process.\n",
      "2025-03-13 09:43:04,874 - INFO - Dataset loaded with 3238 samples.\n"
     ]
    },
    {
     "name": "stdout",
     "output_type": "stream",
     "text": [
      "[INFO] Model distilbert-base-uncased initialized with 2 labels.\n",
      "[INFO] Model moved to device: cpu\n",
      "[INFO] Data module initialized.\n",
      "[INFO] Model initialized on device: cpu\n",
      "[INFO] Optimizer: AdamW with learning rate 2e-05\n",
      "[INFO] ModelTrainer initialized.\n",
      "\n",
      "[INFO] Starting DistilBERT fine-tuning process.\n",
      "[INFO] Loading dataset...\n",
      "[INFO] Loaded dataset with 3238 samples.\n",
      "[INFO] Creating dataloaders...\n",
      "[INFO] Dataloaders created.\n",
      "\n",
      "[INFO] Starting training...\n",
      "[INFO] Training started for 3 epochs.\n",
      "Batch 0 - Input Shape: torch.Size([16, 128]), Labels Shape: torch.Size([16])\n",
      "Batch 1 - Input Shape: torch.Size([16, 128]), Labels Shape: torch.Size([16])\n",
      "Batch 2 - Input Shape: torch.Size([16, 128]), Labels Shape: torch.Size([16])\n",
      "Batch 3 - Input Shape: torch.Size([16, 128]), Labels Shape: torch.Size([16])\n",
      "Batch 4 - Input Shape: torch.Size([16, 128]), Labels Shape: torch.Size([16])\n",
      "Batch 5 - Input Shape: torch.Size([16, 128]), Labels Shape: torch.Size([16])\n"
     ]
    },
    {
     "data": {
      "application/vnd.jupyter.widget-view+json": {
       "model_id": "792933d7bef1425fb6e07cb10bd10547",
       "version_major": 2,
       "version_minor": 0
      },
      "text/plain": [
       "Epochs:   0%|          | 0/3 [00:00<?, ?it/s]"
      ]
     },
     "metadata": {},
     "output_type": "display_data"
    },
    {
     "name": "stderr",
     "output_type": "stream",
     "text": [
      "2025-03-13 09:43:04,979 - INFO - Epoch 1/3\n"
     ]
    },
    {
     "data": {
      "application/vnd.jupyter.widget-view+json": {
       "model_id": "",
       "version_major": 2,
       "version_minor": 0
      },
      "text/plain": [
       "Training Batches:   0%|          | 0/152 [00:00<?, ?it/s]"
      ]
     },
     "metadata": {},
     "output_type": "display_data"
    },
    {
     "data": {
      "application/vnd.jupyter.widget-view+json": {
       "model_id": "",
       "version_major": 2,
       "version_minor": 0
      },
      "text/plain": [
       "Evaluating:   0%|          | 0/31 [00:00<?, ?it/s]"
      ]
     },
     "metadata": {},
     "output_type": "display_data"
    },
    {
     "name": "stdout",
     "output_type": "stream",
     "text": [
      "\n",
      "================================================================================\n",
      "⏱️  Epoch: 1/3\n",
      "================================================================================\n",
      "📊 Training   | Loss: 0.4249\n",
      "📊 Validation | Loss: 0.2296 | Accuracy: 0.9074 | F1 Score: 0.9074\n",
      "================================================================================\n",
      "\n"
     ]
    },
    {
     "name": "stderr",
     "output_type": "stream",
     "text": [
      "2025-03-13 10:02:08,289 - INFO - Checkpoint saved to ./models/model_best_f1_0.9074.pt\n",
      "2025-03-13 10:02:08,291 - INFO - Epoch 2/3\n"
     ]
    },
    {
     "name": "stdout",
     "output_type": "stream",
     "text": [
      "📈 New best model saved!\n"
     ]
    },
    {
     "data": {
      "application/vnd.jupyter.widget-view+json": {
       "model_id": "",
       "version_major": 2,
       "version_minor": 0
      },
      "text/plain": [
       "Training Batches:   0%|          | 0/152 [00:00<?, ?it/s]"
      ]
     },
     "metadata": {},
     "output_type": "display_data"
    },
    {
     "data": {
      "application/vnd.jupyter.widget-view+json": {
       "model_id": "",
       "version_major": 2,
       "version_minor": 0
      },
      "text/plain": [
       "Evaluating:   0%|          | 0/31 [00:00<?, ?it/s]"
      ]
     },
     "metadata": {},
     "output_type": "display_data"
    },
    {
     "name": "stdout",
     "output_type": "stream",
     "text": [
      "\n",
      "================================================================================\n",
      "⏱️  Epoch: 2/3\n",
      "================================================================================\n",
      "📊 Training   | Loss: 0.2019\n",
      "📊 Validation | Loss: 0.2154 | Accuracy: 0.9239 | F1 Score: 0.9238\n",
      "================================================================================\n",
      "\n"
     ]
    },
    {
     "name": "stderr",
     "output_type": "stream",
     "text": [
      "2025-03-13 10:19:49,531 - INFO - Checkpoint saved to ./models/model_best_f1_0.9238.pt\n",
      "2025-03-13 10:19:49,538 - INFO - Epoch 3/3\n"
     ]
    },
    {
     "name": "stdout",
     "output_type": "stream",
     "text": [
      "📈 New best model saved!\n"
     ]
    },
    {
     "data": {
      "application/vnd.jupyter.widget-view+json": {
       "model_id": "",
       "version_major": 2,
       "version_minor": 0
      },
      "text/plain": [
       "Training Batches:   0%|          | 0/152 [00:00<?, ?it/s]"
      ]
     },
     "metadata": {},
     "output_type": "display_data"
    },
    {
     "data": {
      "application/vnd.jupyter.widget-view+json": {
       "model_id": "",
       "version_major": 2,
       "version_minor": 0
      },
      "text/plain": [
       "Evaluating:   0%|          | 0/31 [00:00<?, ?it/s]"
      ]
     },
     "metadata": {},
     "output_type": "display_data"
    },
    {
     "name": "stdout",
     "output_type": "stream",
     "text": [
      "\n",
      "================================================================================\n",
      "⏱️  Epoch: 3/3\n",
      "================================================================================\n",
      "📊 Training   | Loss: 0.1282\n",
      "📊 Validation | Loss: 0.2349 | Accuracy: 0.9239 | F1 Score: 0.9239\n",
      "================================================================================\n",
      "\n"
     ]
    },
    {
     "name": "stderr",
     "output_type": "stream",
     "text": [
      "2025-03-13 10:37:09,590 - INFO - Checkpoint saved to ./models/model_best_f1_0.9239.pt\n"
     ]
    },
    {
     "name": "stdout",
     "output_type": "stream",
     "text": [
      "📈 New best model saved!\n",
      "✅ Training complete!\n"
     ]
    },
    {
     "data": {
      "image/png": "[encoded data removed]",
      "text/plain": [
       "<Figure size 1500x1000 with 2 Axes>"
      ]
     },
     "metadata": {},
     "output_type": "display_data"
    },
    {
     "name": "stdout",
     "output_type": "stream",
     "text": [
      "[INFO] Training complete.\n",
      "[INFO] Evaluating model...\n",
      "[INFO] Initializing model evaluator...\n",
      "[INFO] Running evaluation...\n",
      "[INFO] Evaluating model on 21 batches...\n",
      "[INFO] Evaluation complete. Processed 324 samples.\n",
      "[INFO] Calculating metrics...\n",
      "[INFO] Metrics calculated. Overall accuracy: 0.9012\n",
      "[INFO] Generating evaluation report at evaluation_results/distilbert-base-uncased_evaluation_report.pdf...\n"
     ]
    },
    {
     "name": "stderr",
     "output_type": "stream",
     "text": [
      "2025-03-13 10:37:49,531 - INFO - Evaluation report saved as 'evaluation_results/distilbert-base-uncased_evaluation_report.pdf'\n",
      "2025-03-13 10:37:49,543 - INFO - Evaluation report generated at evaluation_results/distilbert-base-uncased_evaluation_report.pdf\n",
      "2025-03-13 10:37:49,549 - INFO - Completed DistilBERT fine-tuning process.\n"
     ]
    },
    {
     "name": "stdout",
     "output_type": "stream",
     "text": [
      "[INFO] Evaluation report saved as 'evaluation_results/distilbert-base-uncased_evaluation_report.pdf'\n",
      "[INFO] Calculating metrics...\n",
      "[INFO] Metrics calculated. Overall accuracy: 0.9012\n",
      "[INFO] Evaluation report generated at evaluation_results/distilbert-base-uncased_evaluation_report.pdf\n",
      "[INFO] Model evaluation metrics: {'accuracy': 0.9012345679012346, 'precision': 0.9113924050632911, 'recall': 0.8888888888888888, 'f1': 0.8999999999999999, 'per_class': {'Negative': {'precision': 0.891566265060241, 'recall': 0.9135802469135802, 'f1-score': 0.9024390243902438, 'support': 162}, 'Positive': {'precision': 0.9113924050632911, 'recall': 0.8888888888888888, 'f1-score': 0.8999999999999999, 'support': 162}}, 'confusion_matrix': array([[148,  14],\n",
      "       [ 18, 144]]), 'roc_auc': 0.973670172229843, 'roc_curve': {'fpr': array([0.        , 0.        , 0.        , 0.00617284, 0.00617284,\n",
      "       0.01234568, 0.01234568, 0.02469136, 0.02469136, 0.0308642 ,\n",
      "       0.0308642 , 0.04320988, 0.04320988, 0.04938272, 0.04938272,\n",
      "       0.07407407, 0.07407407, 0.08641975, 0.08641975, 0.09259259,\n",
      "       0.09259259, 0.11111111, 0.11111111, 0.11728395, 0.11728395,\n",
      "       0.12345679, 0.12345679, 0.12962963, 0.12962963, 0.21604938,\n",
      "       0.21604938, 0.27777778, 0.27777778, 0.28395062, 0.28395062,\n",
      "       0.32098765, 0.32098765, 0.58024691, 0.58024691, 0.60493827,\n",
      "       0.60493827, 1.        ]), 'tpr': array([0.        , 0.00617284, 0.68518519, 0.68518519, 0.80246914,\n",
      "       0.80246914, 0.82098765, 0.82098765, 0.83333333, 0.83333333,\n",
      "       0.84567901, 0.84567901, 0.85185185, 0.85185185, 0.86419753,\n",
      "       0.86419753, 0.88271605, 0.88271605, 0.90740741, 0.90740741,\n",
      "       0.92592593, 0.92592593, 0.93209877, 0.93209877, 0.94444444,\n",
      "       0.94444444, 0.95061728, 0.95061728, 0.96296296, 0.96296296,\n",
      "       0.9691358 , 0.9691358 , 0.97530864, 0.97530864, 0.98148148,\n",
      "       0.98148148, 0.98765432, 0.98765432, 0.99382716, 0.99382716,\n",
      "       1.        , 1.        ])}, 'average_precision': 0.9774970280379507, 'pr_curve': {'precision': array([0.62307692, 0.62162162, 0.62403101, 0.62645914, 0.62890625,\n",
      "       0.63137255, 0.62992126, 0.63241107, 0.63492063, 0.6374502 ,\n",
      "       0.64      , 0.64257028, 0.64516129, 0.64777328, 0.6504065 ,\n",
      "       0.65306122, 0.6557377 , 0.65843621, 0.66115702, 0.66390041,\n",
      "       0.66666667, 0.66945607, 0.67226891, 0.67510549, 0.6779661 ,\n",
      "       0.68085106, 0.68376068, 0.68669528, 0.68965517, 0.69264069,\n",
      "       0.69565217, 0.69868996, 0.70175439, 0.70484581, 0.7079646 ,\n",
      "       0.71111111, 0.71428571, 0.71748879, 0.72072072, 0.7239819 ,\n",
      "       0.72727273, 0.73059361, 0.73394495, 0.73732719, 0.74074074,\n",
      "       0.74418605, 0.74766355, 0.75117371, 0.75471698, 0.7535545 ,\n",
      "       0.75714286, 0.76076555, 0.76442308, 0.76811594, 0.77184466,\n",
      "       0.77560976, 0.7745098 , 0.77832512, 0.77722772, 0.78109453,\n",
      "       0.785     , 0.78894472, 0.79292929, 0.79695431, 0.80102041,\n",
      "       0.80512821, 0.80927835, 0.8134715 , 0.81770833, 0.81675393,\n",
      "       0.82105263, 0.82539683, 0.82978723, 0.8342246 , 0.83870968,\n",
      "       0.84324324, 0.84782609, 0.85245902, 0.85714286, 0.86187845,\n",
      "       0.86666667, 0.87150838, 0.87640449, 0.88135593, 0.88068182,\n",
      "       0.88      , 0.88505747, 0.88439306, 0.88953488, 0.88888889,\n",
      "       0.88823529, 0.89349112, 0.89285714, 0.89820359, 0.90361446,\n",
      "       0.90909091, 0.90853659, 0.90797546, 0.90740741, 0.91304348,\n",
      "       0.9125    , 0.91194969, 0.91139241, 0.91082803, 0.91666667,\n",
      "       0.92258065, 0.92207792, 0.92156863, 0.92105263, 0.92715232,\n",
      "       0.93333333, 0.93959732, 0.94594595, 0.94557823, 0.94520548,\n",
      "       0.95172414, 0.95138889, 0.95804196, 0.96478873, 0.96453901,\n",
      "       0.96428571, 0.97122302, 0.97101449, 0.97080292, 0.97794118,\n",
      "       0.98518519, 0.98507463, 0.98496241, 0.98484848, 0.99236641,\n",
      "       0.99230769, 0.99224806, 0.9921875 , 0.99212598, 0.99206349,\n",
      "       0.992     , 0.99193548, 0.99186992, 0.99180328, 0.99173554,\n",
      "       0.99166667, 0.99159664, 0.99152542, 0.99145299, 0.99137931,\n",
      "       0.99130435, 0.99122807, 0.99115044, 0.99107143, 1.        ,\n",
      "       1.        , 1.        , 1.        , 1.        , 1.        ,\n",
      "       1.        , 1.        , 1.        , 1.        , 1.        ,\n",
      "       1.        , 1.        , 1.        , 1.        , 1.        ,\n",
      "       1.        , 1.        , 1.        , 1.        , 1.        ,\n",
      "       1.        , 1.        , 1.        , 1.        , 1.        ,\n",
      "       1.        , 1.        , 1.        , 1.        , 1.        ,\n",
      "       1.        , 1.        , 1.        , 1.        , 1.        ,\n",
      "       1.        , 1.        , 1.        , 1.        , 1.        ,\n",
      "       1.        , 1.        , 1.        , 1.        , 1.        ,\n",
      "       1.        , 1.        , 1.        , 1.        , 1.        ,\n",
      "       1.        , 1.        , 1.        , 1.        , 1.        ,\n",
      "       1.        , 1.        , 1.        , 1.        , 1.        ,\n",
      "       1.        , 1.        , 1.        , 1.        , 1.        ,\n",
      "       1.        , 1.        , 1.        , 1.        , 1.        ,\n",
      "       1.        , 1.        , 1.        , 1.        , 1.        ,\n",
      "       1.        , 1.        , 1.        , 1.        , 1.        ,\n",
      "       1.        , 1.        , 1.        , 1.        , 1.        ,\n",
      "       1.        , 1.        , 1.        , 1.        , 1.        ,\n",
      "       1.        , 1.        , 1.        , 1.        , 1.        ,\n",
      "       1.        , 1.        , 1.        , 1.        , 1.        ,\n",
      "       1.        , 1.        , 1.        , 1.        , 1.        ,\n",
      "       1.        , 1.        , 1.        , 1.        , 1.        ,\n",
      "       1.        ]), 'recall': array([1.        , 0.99382716, 0.99382716, 0.99382716, 0.99382716,\n",
      "       0.99382716, 0.98765432, 0.98765432, 0.98765432, 0.98765432,\n",
      "       0.98765432, 0.98765432, 0.98765432, 0.98765432, 0.98765432,\n",
      "       0.98765432, 0.98765432, 0.98765432, 0.98765432, 0.98765432,\n",
      "       0.98765432, 0.98765432, 0.98765432, 0.98765432, 0.98765432,\n",
      "       0.98765432, 0.98765432, 0.98765432, 0.98765432, 0.98765432,\n",
      "       0.98765432, 0.98765432, 0.98765432, 0.98765432, 0.98765432,\n",
      "       0.98765432, 0.98765432, 0.98765432, 0.98765432, 0.98765432,\n",
      "       0.98765432, 0.98765432, 0.98765432, 0.98765432, 0.98765432,\n",
      "       0.98765432, 0.98765432, 0.98765432, 0.98765432, 0.98148148,\n",
      "       0.98148148, 0.98148148, 0.98148148, 0.98148148, 0.98148148,\n",
      "       0.98148148, 0.97530864, 0.97530864, 0.9691358 , 0.9691358 ,\n",
      "       0.9691358 , 0.9691358 , 0.9691358 , 0.9691358 , 0.9691358 ,\n",
      "       0.9691358 , 0.9691358 , 0.9691358 , 0.9691358 , 0.96296296,\n",
      "       0.96296296, 0.96296296, 0.96296296, 0.96296296, 0.96296296,\n",
      "       0.96296296, 0.96296296, 0.96296296, 0.96296296, 0.96296296,\n",
      "       0.96296296, 0.96296296, 0.96296296, 0.96296296, 0.95679012,\n",
      "       0.95061728, 0.95061728, 0.94444444, 0.94444444, 0.9382716 ,\n",
      "       0.93209877, 0.93209877, 0.92592593, 0.92592593, 0.92592593,\n",
      "       0.92592593, 0.91975309, 0.91358025, 0.90740741, 0.90740741,\n",
      "       0.90123457, 0.89506173, 0.88888889, 0.88271605, 0.88271605,\n",
      "       0.88271605, 0.87654321, 0.87037037, 0.86419753, 0.86419753,\n",
      "       0.86419753, 0.86419753, 0.86419753, 0.85802469, 0.85185185,\n",
      "       0.85185185, 0.84567901, 0.84567901, 0.84567901, 0.83950617,\n",
      "       0.83333333, 0.83333333, 0.82716049, 0.82098765, 0.82098765,\n",
      "       0.82098765, 0.81481481, 0.80864198, 0.80246914, 0.80246914,\n",
      "       0.7962963 , 0.79012346, 0.78395062, 0.77777778, 0.77160494,\n",
      "       0.7654321 , 0.75925926, 0.75308642, 0.74691358, 0.74074074,\n",
      "       0.7345679 , 0.72839506, 0.72222222, 0.71604938, 0.70987654,\n",
      "       0.7037037 , 0.69753086, 0.69135802, 0.68518519, 0.68518519,\n",
      "       0.67901235, 0.67283951, 0.66666667, 0.66049383, 0.65432099,\n",
      "       0.64814815, 0.64197531, 0.63580247, 0.62962963, 0.62345679,\n",
      "       0.61728395, 0.61111111, 0.60493827, 0.59876543, 0.59259259,\n",
      "       0.58641975, 0.58024691, 0.57407407, 0.56790123, 0.5617284 ,\n",
      "       0.55555556, 0.54938272, 0.54320988, 0.53703704, 0.5308642 ,\n",
      "       0.52469136, 0.51851852, 0.51234568, 0.50617284, 0.5       ,\n",
      "       0.49382716, 0.48765432, 0.48148148, 0.47530864, 0.4691358 ,\n",
      "       0.46296296, 0.45679012, 0.45061728, 0.44444444, 0.4382716 ,\n",
      "       0.43209877, 0.42592593, 0.41975309, 0.41358025, 0.40740741,\n",
      "       0.40123457, 0.39506173, 0.38888889, 0.38271605, 0.37654321,\n",
      "       0.37037037, 0.36419753, 0.35802469, 0.35185185, 0.34567901,\n",
      "       0.33950617, 0.33333333, 0.32716049, 0.32098765, 0.31481481,\n",
      "       0.30864198, 0.30246914, 0.2962963 , 0.29012346, 0.28395062,\n",
      "       0.27777778, 0.27160494, 0.2654321 , 0.25925926, 0.25308642,\n",
      "       0.24691358, 0.24074074, 0.2345679 , 0.22839506, 0.22222222,\n",
      "       0.21604938, 0.20987654, 0.2037037 , 0.19753086, 0.19135802,\n",
      "       0.18518519, 0.17901235, 0.17283951, 0.16666667, 0.16049383,\n",
      "       0.15432099, 0.14814815, 0.14197531, 0.13580247, 0.12962963,\n",
      "       0.12345679, 0.11728395, 0.11111111, 0.10493827, 0.09876543,\n",
      "       0.09259259, 0.08641975, 0.08024691, 0.07407407, 0.06790123,\n",
      "       0.0617284 , 0.05555556, 0.04938272, 0.04320988, 0.03703704,\n",
      "       0.0308642 , 0.02469136, 0.01851852, 0.01234568, 0.00617284,\n",
      "       0.        ])}}\n",
      "[INFO] Fine-tuning process completed.\n",
      "\n",
      "Fine-tuning completed with metrics: {'accuracy': 0.9012345679012346, 'precision': 0.9113924050632911, 'recall': 0.8888888888888888, 'f1': 0.8999999999999999, 'per_class': {'Negative': {'precision': 0.891566265060241, 'recall': 0.9135802469135802, 'f1-score': 0.9024390243902438, 'support': 162}, 'Positive': {'precision': 0.9113924050632911, 'recall': 0.8888888888888888, 'f1-score': 0.8999999999999999, 'support': 162}}, 'confusion_matrix': array([[148,  14],\n",
      "       [ 18, 144]]), 'roc_auc': 0.973670172229843, 'roc_curve': {'fpr': array([0.        , 0.        , 0.        , 0.00617284, 0.00617284,\n",
      "       0.01234568, 0.01234568, 0.02469136, 0.02469136, 0.0308642 ,\n",
      "       0.0308642 , 0.04320988, 0.04320988, 0.04938272, 0.04938272,\n",
      "       0.07407407, 0.07407407, 0.08641975, 0.08641975, 0.09259259,\n",
      "       0.09259259, 0.11111111, 0.11111111, 0.11728395, 0.11728395,\n",
      "       0.12345679, 0.12345679, 0.12962963, 0.12962963, 0.21604938,\n",
      "       0.21604938, 0.27777778, 0.27777778, 0.28395062, 0.28395062,\n",
      "       0.32098765, 0.32098765, 0.58024691, 0.58024691, 0.60493827,\n",
      "       0.60493827, 1.        ]), 'tpr': array([0.        , 0.00617284, 0.68518519, 0.68518519, 0.80246914,\n",
      "       0.80246914, 0.82098765, 0.82098765, 0.83333333, 0.83333333,\n",
      "       0.84567901, 0.84567901, 0.85185185, 0.85185185, 0.86419753,\n",
      "       0.86419753, 0.88271605, 0.88271605, 0.90740741, 0.90740741,\n",
      "       0.92592593, 0.92592593, 0.93209877, 0.93209877, 0.94444444,\n",
      "       0.94444444, 0.95061728, 0.95061728, 0.96296296, 0.96296296,\n",
      "       0.9691358 , 0.9691358 , 0.97530864, 0.97530864, 0.98148148,\n",
      "       0.98148148, 0.98765432, 0.98765432, 0.99382716, 0.99382716,\n",
      "       1.        , 1.        ])}, 'average_precision': 0.9774970280379507, 'pr_curve': {'precision': array([0.62307692, 0.62162162, 0.62403101, 0.62645914, 0.62890625,\n",
      "       0.63137255, 0.62992126, 0.63241107, 0.63492063, 0.6374502 ,\n",
      "       0.64      , 0.64257028, 0.64516129, 0.64777328, 0.6504065 ,\n",
      "       0.65306122, 0.6557377 , 0.65843621, 0.66115702, 0.66390041,\n",
      "       0.66666667, 0.66945607, 0.67226891, 0.67510549, 0.6779661 ,\n",
      "       0.68085106, 0.68376068, 0.68669528, 0.68965517, 0.69264069,\n",
      "       0.69565217, 0.69868996, 0.70175439, 0.70484581, 0.7079646 ,\n",
      "       0.71111111, 0.71428571, 0.71748879, 0.72072072, 0.7239819 ,\n",
      "       0.72727273, 0.73059361, 0.73394495, 0.73732719, 0.74074074,\n",
      "       0.74418605, 0.74766355, 0.75117371, 0.75471698, 0.7535545 ,\n",
      "       0.75714286, 0.76076555, 0.76442308, 0.76811594, 0.77184466,\n",
      "       0.77560976, 0.7745098 , 0.77832512, 0.77722772, 0.78109453,\n",
      "       0.785     , 0.78894472, 0.79292929, 0.79695431, 0.80102041,\n",
      "       0.80512821, 0.80927835, 0.8134715 , 0.81770833, 0.81675393,\n",
      "       0.82105263, 0.82539683, 0.82978723, 0.8342246 , 0.83870968,\n",
      "       0.84324324, 0.84782609, 0.85245902, 0.85714286, 0.86187845,\n",
      "       0.86666667, 0.87150838, 0.87640449, 0.88135593, 0.88068182,\n",
      "       0.88      , 0.88505747, 0.88439306, 0.88953488, 0.88888889,\n",
      "       0.88823529, 0.89349112, 0.89285714, 0.89820359, 0.90361446,\n",
      "       0.90909091, 0.90853659, 0.90797546, 0.90740741, 0.91304348,\n",
      "       0.9125    , 0.91194969, 0.91139241, 0.91082803, 0.91666667,\n",
      "       0.92258065, 0.92207792, 0.92156863, 0.92105263, 0.92715232,\n",
      "       0.93333333, 0.93959732, 0.94594595, 0.94557823, 0.94520548,\n",
      "       0.95172414, 0.95138889, 0.95804196, 0.96478873, 0.96453901,\n",
      "       0.96428571, 0.97122302, 0.97101449, 0.97080292, 0.97794118,\n",
      "       0.98518519, 0.98507463, 0.98496241, 0.98484848, 0.99236641,\n",
      "       0.99230769, 0.99224806, 0.9921875 , 0.99212598, 0.99206349,\n",
      "       0.992     , 0.99193548, 0.99186992, 0.99180328, 0.99173554,\n",
      "       0.99166667, 0.99159664, 0.99152542, 0.99145299, 0.99137931,\n",
      "       0.99130435, 0.99122807, 0.99115044, 0.99107143, 1.        ,\n",
      "       1.        , 1.        , 1.        , 1.        , 1.        ,\n",
      "       1.        , 1.        , 1.        , 1.        , 1.        ,\n",
      "       1.        , 1.        , 1.        , 1.        , 1.        ,\n",
      "       1.        , 1.        , 1.        , 1.        , 1.        ,\n",
      "       1.        , 1.        , 1.        , 1.        , 1.        ,\n",
      "       1.        , 1.        , 1.        , 1.        , 1.        ,\n",
      "       1.        , 1.        , 1.        , 1.        , 1.        ,\n",
      "       1.        , 1.        , 1.        , 1.        , 1.        ,\n",
      "       1.        , 1.        , 1.        , 1.        , 1.        ,\n",
      "       1.        , 1.        , 1.        , 1.        , 1.        ,\n",
      "       1.        , 1.        , 1.        , 1.        , 1.        ,\n",
      "       1.        , 1.        , 1.        , 1.        , 1.        ,\n",
      "       1.        , 1.        , 1.        , 1.        , 1.        ,\n",
      "       1.        , 1.        , 1.        , 1.        , 1.        ,\n",
      "       1.        , 1.        , 1.        , 1.        , 1.        ,\n",
      "       1.        , 1.        , 1.        , 1.        , 1.        ,\n",
      "       1.        , 1.        , 1.        , 1.        , 1.        ,\n",
      "       1.        , 1.        , 1.        , 1.        , 1.        ,\n",
      "       1.        , 1.        , 1.        , 1.        , 1.        ,\n",
      "       1.        , 1.        , 1.        , 1.        , 1.        ,\n",
      "       1.        , 1.        , 1.        , 1.        , 1.        ,\n",
      "       1.        , 1.        , 1.        , 1.        , 1.        ,\n",
      "       1.        ]), 'recall': array([1.        , 0.99382716, 0.99382716, 0.99382716, 0.99382716,\n",
      "       0.99382716, 0.98765432, 0.98765432, 0.98765432, 0.98765432,\n",
      "       0.98765432, 0.98765432, 0.98765432, 0.98765432, 0.98765432,\n",
      "       0.98765432, 0.98765432, 0.98765432, 0.98765432, 0.98765432,\n",
      "       0.98765432, 0.98765432, 0.98765432, 0.98765432, 0.98765432,\n",
      "       0.98765432, 0.98765432, 0.98765432, 0.98765432, 0.98765432,\n",
      "       0.98765432, 0.98765432, 0.98765432, 0.98765432, 0.98765432,\n",
      "       0.98765432, 0.98765432, 0.98765432, 0.98765432, 0.98765432,\n",
      "       0.98765432, 0.98765432, 0.98765432, 0.98765432, 0.98765432,\n",
      "       0.98765432, 0.98765432, 0.98765432, 0.98765432, 0.98148148,\n",
      "       0.98148148, 0.98148148, 0.98148148, 0.98148148, 0.98148148,\n",
      "       0.98148148, 0.97530864, 0.97530864, 0.9691358 , 0.9691358 ,\n",
      "       0.9691358 , 0.9691358 , 0.9691358 , 0.9691358 , 0.9691358 ,\n",
      "       0.9691358 , 0.9691358 , 0.9691358 , 0.9691358 , 0.96296296,\n",
      "       0.96296296, 0.96296296, 0.96296296, 0.96296296, 0.96296296,\n",
      "       0.96296296, 0.96296296, 0.96296296, 0.96296296, 0.96296296,\n",
      "       0.96296296, 0.96296296, 0.96296296, 0.96296296, 0.95679012,\n",
      "       0.95061728, 0.95061728, 0.94444444, 0.94444444, 0.9382716 ,\n",
      "       0.93209877, 0.93209877, 0.92592593, 0.92592593, 0.92592593,\n",
      "       0.92592593, 0.91975309, 0.91358025, 0.90740741, 0.90740741,\n",
      "       0.90123457, 0.89506173, 0.88888889, 0.88271605, 0.88271605,\n",
      "       0.88271605, 0.87654321, 0.87037037, 0.86419753, 0.86419753,\n",
      "       0.86419753, 0.86419753, 0.86419753, 0.85802469, 0.85185185,\n",
      "       0.85185185, 0.84567901, 0.84567901, 0.84567901, 0.83950617,\n",
      "       0.83333333, 0.83333333, 0.82716049, 0.82098765, 0.82098765,\n",
      "       0.82098765, 0.81481481, 0.80864198, 0.80246914, 0.80246914,\n",
      "       0.7962963 , 0.79012346, 0.78395062, 0.77777778, 0.77160494,\n",
      "       0.7654321 , 0.75925926, 0.75308642, 0.74691358, 0.74074074,\n",
      "       0.7345679 , 0.72839506, 0.72222222, 0.71604938, 0.70987654,\n",
      "       0.7037037 , 0.69753086, 0.69135802, 0.68518519, 0.68518519,\n",
      "       0.67901235, 0.67283951, 0.66666667, 0.66049383, 0.65432099,\n",
      "       0.64814815, 0.64197531, 0.63580247, 0.62962963, 0.62345679,\n",
      "       0.61728395, 0.61111111, 0.60493827, 0.59876543, 0.59259259,\n",
      "       0.58641975, 0.58024691, 0.57407407, 0.56790123, 0.5617284 ,\n",
      "       0.55555556, 0.54938272, 0.54320988, 0.53703704, 0.5308642 ,\n",
      "       0.52469136, 0.51851852, 0.51234568, 0.50617284, 0.5       ,\n",
      "       0.49382716, 0.48765432, 0.48148148, 0.47530864, 0.4691358 ,\n",
      "       0.46296296, 0.45679012, 0.45061728, 0.44444444, 0.4382716 ,\n",
      "       0.43209877, 0.42592593, 0.41975309, 0.41358025, 0.40740741,\n",
      "       0.40123457, 0.39506173, 0.38888889, 0.38271605, 0.37654321,\n",
      "       0.37037037, 0.36419753, 0.35802469, 0.35185185, 0.34567901,\n",
      "       0.33950617, 0.33333333, 0.32716049, 0.32098765, 0.31481481,\n",
      "       0.30864198, 0.30246914, 0.2962963 , 0.29012346, 0.28395062,\n",
      "       0.27777778, 0.27160494, 0.2654321 , 0.25925926, 0.25308642,\n",
      "       0.24691358, 0.24074074, 0.2345679 , 0.22839506, 0.22222222,\n",
      "       0.21604938, 0.20987654, 0.2037037 , 0.19753086, 0.19135802,\n",
      "       0.18518519, 0.17901235, 0.17283951, 0.16666667, 0.16049383,\n",
      "       0.15432099, 0.14814815, 0.14197531, 0.13580247, 0.12962963,\n",
      "       0.12345679, 0.11728395, 0.11111111, 0.10493827, 0.09876543,\n",
      "       0.09259259, 0.08641975, 0.08024691, 0.07407407, 0.06790123,\n",
      "       0.0617284 , 0.05555556, 0.04938272, 0.04320988, 0.03703704,\n",
      "       0.0308642 , 0.02469136, 0.01851852, 0.01234568, 0.00617284,\n",
      "       0.        ])}}\n",
      "Fine-tuning process completed!\n"
     ]
    }
   ],
   "source": [
    "# Run the main function and capture the returned fine_tuner instance\n",
    "print(\"Starting fine-tuning process...\")\n",
    "fine_tuner = main()\n",
    "print(\"Fine-tuning process completed!\")   "
   ]
  },
  {
   "cell_type": "code",
   "execution_count": 5,
   "metadata": {},
   "outputs": [
    {
     "name": "stdout",
     "output_type": "stream",
     "text": [
      "Final Evaluation Metrics:\n"
     ]
    },
    {
     "data": {
      "text/html": [
       "<div>\n",
       "<style scoped>\n",
       "    .dataframe tbody tr th:only-of-type {\n",
       "        vertical-align: middle;\n",
       "    }\n",
       "\n",
       "    .dataframe tbody tr th {\n",
       "        vertical-align: top;\n",
       "    }\n",
       "\n",
       "    .dataframe thead th {\n",
       "        text-align: right;\n",
       "    }\n",
       "</style>\n",
       "<table border=\"1\" class=\"dataframe\">\n",
       "  <thead>\n",
       "    <tr style=\"text-align: right;\">\n",
       "      <th></th>\n",
       "      <th>Metric</th>\n",
       "      <th>Value</th>\n",
       "    </tr>\n",
       "  </thead>\n",
       "  <tbody>\n",
       "    <tr>\n",
       "      <th>0</th>\n",
       "      <td>accuracy</td>\n",
       "      <td>0.901235</td>\n",
       "    </tr>\n",
       "    <tr>\n",
       "      <th>1</th>\n",
       "      <td>precision</td>\n",
       "      <td>0.911392</td>\n",
       "    </tr>\n",
       "    <tr>\n",
       "      <th>2</th>\n",
       "      <td>recall</td>\n",
       "      <td>0.888889</td>\n",
       "    </tr>\n",
       "    <tr>\n",
       "      <th>3</th>\n",
       "      <td>f1</td>\n",
       "      <td>0.9</td>\n",
       "    </tr>\n",
       "    <tr>\n",
       "      <th>4</th>\n",
       "      <td>per_class</td>\n",
       "      <td>{'Negative': {'precision': 0.891566265060241, ...</td>\n",
       "    </tr>\n",
       "    <tr>\n",
       "      <th>5</th>\n",
       "      <td>confusion_matrix</td>\n",
       "      <td>[[148, 14], [18, 144]]</td>\n",
       "    </tr>\n",
       "    <tr>\n",
       "      <th>6</th>\n",
       "      <td>roc_auc</td>\n",
       "      <td>0.97367</td>\n",
       "    </tr>\n",
       "    <tr>\n",
       "      <th>7</th>\n",
       "      <td>roc_curve</td>\n",
       "      <td>{'fpr': [0.0, 0.0, 0.0, 0.006172839506172839, ...</td>\n",
       "    </tr>\n",
       "    <tr>\n",
       "      <th>8</th>\n",
       "      <td>average_precision</td>\n",
       "      <td>0.977497</td>\n",
       "    </tr>\n",
       "    <tr>\n",
       "      <th>9</th>\n",
       "      <td>pr_curve</td>\n",
       "      <td>{'precision': [0.6230769230769231, 0.621621621...</td>\n",
       "    </tr>\n",
       "  </tbody>\n",
       "</table>\n",
       "</div>"
      ],
      "text/plain": [
       "              Metric                                              Value\n",
       "0           accuracy                                           0.901235\n",
       "1          precision                                           0.911392\n",
       "2             recall                                           0.888889\n",
       "3                 f1                                                0.9\n",
       "4          per_class  {'Negative': {'precision': 0.891566265060241, ...\n",
       "5   confusion_matrix                             [[148, 14], [18, 144]]\n",
       "6            roc_auc                                            0.97367\n",
       "7          roc_curve  {'fpr': [0.0, 0.0, 0.0, 0.006172839506172839, ...\n",
       "8  average_precision                                           0.977497\n",
       "9           pr_curve  {'precision': [0.6230769230769231, 0.621621621..."
      ]
     },
     "metadata": {},
     "output_type": "display_data"
    },
    {
     "ename": "ValueError",
     "evalue": "Illegal format string \"p-o\"; two marker symbols",
     "output_type": "error",
     "traceback": [
      "\u001b[0;31m---------------------------------------------------------------------------\u001b[0m",
      "\u001b[0;31mValueError\u001b[0m                                Traceback (most recent call last)",
      "\u001b[0;32m/var/folders/xc/qkmv0r456dn4gsy6rfgnpns80000gn/T/ipykernel_8728/2139095021.py\u001b[0m in \u001b[0;36m<module>\u001b[0;34m\u001b[0m\n\u001b[1;32m     31\u001b[0m             \u001b[0mplt\u001b[0m\u001b[0;34m.\u001b[0m\u001b[0mplot\u001b[0m\u001b[0;34m(\u001b[0m\u001b[0mhistory\u001b[0m\u001b[0;34m[\u001b[0m\u001b[0;34m'val_accuracy'\u001b[0m\u001b[0;34m]\u001b[0m\u001b[0;34m,\u001b[0m \u001b[0;34m'g-o'\u001b[0m\u001b[0;34m,\u001b[0m \u001b[0mlabel\u001b[0m\u001b[0;34m=\u001b[0m\u001b[0;34m'Validation Accuracy'\u001b[0m\u001b[0;34m)\u001b[0m\u001b[0;34m\u001b[0m\u001b[0;34m\u001b[0m\u001b[0m\n\u001b[1;32m     32\u001b[0m         \u001b[0;32mif\u001b[0m \u001b[0;34m'val_f1'\u001b[0m \u001b[0;32min\u001b[0m \u001b[0mhistory\u001b[0m\u001b[0;34m:\u001b[0m\u001b[0;34m\u001b[0m\u001b[0;34m\u001b[0m\u001b[0m\n\u001b[0;32m---> 33\u001b[0;31m             \u001b[0mplt\u001b[0m\u001b[0;34m.\u001b[0m\u001b[0mplot\u001b[0m\u001b[0;34m(\u001b[0m\u001b[0mhistory\u001b[0m\u001b[0;34m[\u001b[0m\u001b[0;34m'val_f1'\u001b[0m\u001b[0;34m]\u001b[0m\u001b[0;34m,\u001b[0m \u001b[0;34m'p-o'\u001b[0m\u001b[0;34m,\u001b[0m \u001b[0mlabel\u001b[0m\u001b[0;34m=\u001b[0m\u001b[0;34m'Validation F1'\u001b[0m\u001b[0;34m)\u001b[0m\u001b[0;34m\u001b[0m\u001b[0;34m\u001b[0m\u001b[0m\n\u001b[0m\u001b[1;32m     34\u001b[0m         \u001b[0mplt\u001b[0m\u001b[0;34m.\u001b[0m\u001b[0mtitle\u001b[0m\u001b[0;34m(\u001b[0m\u001b[0;34m'Metrics During Training'\u001b[0m\u001b[0;34m)\u001b[0m\u001b[0;34m\u001b[0m\u001b[0;34m\u001b[0m\u001b[0m\n\u001b[1;32m     35\u001b[0m         \u001b[0mplt\u001b[0m\u001b[0;34m.\u001b[0m\u001b[0mxlabel\u001b[0m\u001b[0;34m(\u001b[0m\u001b[0;34m'Epoch'\u001b[0m\u001b[0;34m)\u001b[0m\u001b[0;34m\u001b[0m\u001b[0;34m\u001b[0m\u001b[0m\n",
      "\u001b[0;32m/Library/Frameworks/Python.framework/Versions/3.7/lib/python3.7/site-packages/matplotlib/pyplot.py\u001b[0m in \u001b[0;36mplot\u001b[0;34m(scalex, scaley, data, *args, **kwargs)\u001b[0m\n\u001b[1;32m   2767\u001b[0m     return gca().plot(\n\u001b[1;32m   2768\u001b[0m         \u001b[0;34m*\u001b[0m\u001b[0margs\u001b[0m\u001b[0;34m,\u001b[0m \u001b[0mscalex\u001b[0m\u001b[0;34m=\u001b[0m\u001b[0mscalex\u001b[0m\u001b[0;34m,\u001b[0m \u001b[0mscaley\u001b[0m\u001b[0;34m=\u001b[0m\u001b[0mscaley\u001b[0m\u001b[0;34m,\u001b[0m\u001b[0;34m\u001b[0m\u001b[0;34m\u001b[0m\u001b[0m\n\u001b[0;32m-> 2769\u001b[0;31m         **({\"data\": data} if data is not None else {}), **kwargs)\n\u001b[0m\u001b[1;32m   2770\u001b[0m \u001b[0;34m\u001b[0m\u001b[0m\n\u001b[1;32m   2771\u001b[0m \u001b[0;34m\u001b[0m\u001b[0m\n",
      "\u001b[0;32m/Library/Frameworks/Python.framework/Versions/3.7/lib/python3.7/site-packages/matplotlib/axes/_axes.py\u001b[0m in \u001b[0;36mplot\u001b[0;34m(self, scalex, scaley, data, *args, **kwargs)\u001b[0m\n\u001b[1;32m   1633\u001b[0m         \"\"\"\n\u001b[1;32m   1634\u001b[0m         \u001b[0mkwargs\u001b[0m \u001b[0;34m=\u001b[0m \u001b[0mcbook\u001b[0m\u001b[0;34m.\u001b[0m\u001b[0mnormalize_kwargs\u001b[0m\u001b[0;34m(\u001b[0m\u001b[0mkwargs\u001b[0m\u001b[0;34m,\u001b[0m \u001b[0mmlines\u001b[0m\u001b[0;34m.\u001b[0m\u001b[0mLine2D\u001b[0m\u001b[0;34m)\u001b[0m\u001b[0;34m\u001b[0m\u001b[0;34m\u001b[0m\u001b[0m\n\u001b[0;32m-> 1635\u001b[0;31m         \u001b[0mlines\u001b[0m \u001b[0;34m=\u001b[0m \u001b[0;34m[\u001b[0m\u001b[0;34m*\u001b[0m\u001b[0mself\u001b[0m\u001b[0;34m.\u001b[0m\u001b[0m_get_lines\u001b[0m\u001b[0;34m(\u001b[0m\u001b[0;34m*\u001b[0m\u001b[0margs\u001b[0m\u001b[0;34m,\u001b[0m \u001b[0mdata\u001b[0m\u001b[0;34m=\u001b[0m\u001b[0mdata\u001b[0m\u001b[0;34m,\u001b[0m \u001b[0;34m**\u001b[0m\u001b[0mkwargs\u001b[0m\u001b[0;34m)\u001b[0m\u001b[0;34m]\u001b[0m\u001b[0;34m\u001b[0m\u001b[0;34m\u001b[0m\u001b[0m\n\u001b[0m\u001b[1;32m   1636\u001b[0m         \u001b[0;32mfor\u001b[0m \u001b[0mline\u001b[0m \u001b[0;32min\u001b[0m \u001b[0mlines\u001b[0m\u001b[0;34m:\u001b[0m\u001b[0;34m\u001b[0m\u001b[0;34m\u001b[0m\u001b[0m\n\u001b[1;32m   1637\u001b[0m             \u001b[0mself\u001b[0m\u001b[0;34m.\u001b[0m\u001b[0madd_line\u001b[0m\u001b[0;34m(\u001b[0m\u001b[0mline\u001b[0m\u001b[0;34m)\u001b[0m\u001b[0;34m\u001b[0m\u001b[0;34m\u001b[0m\u001b[0m\n",
      "\u001b[0;32m/Library/Frameworks/Python.framework/Versions/3.7/lib/python3.7/site-packages/matplotlib/axes/_base.py\u001b[0m in \u001b[0;36m__call__\u001b[0;34m(self, data, *args, **kwargs)\u001b[0m\n\u001b[1;32m    310\u001b[0m                 \u001b[0mthis\u001b[0m \u001b[0;34m+=\u001b[0m \u001b[0margs\u001b[0m\u001b[0;34m[\u001b[0m\u001b[0;36m0\u001b[0m\u001b[0;34m]\u001b[0m\u001b[0;34m,\u001b[0m\u001b[0;34m\u001b[0m\u001b[0;34m\u001b[0m\u001b[0m\n\u001b[1;32m    311\u001b[0m                 \u001b[0margs\u001b[0m \u001b[0;34m=\u001b[0m \u001b[0margs\u001b[0m\u001b[0;34m[\u001b[0m\u001b[0;36m1\u001b[0m\u001b[0;34m:\u001b[0m\u001b[0;34m]\u001b[0m\u001b[0;34m\u001b[0m\u001b[0;34m\u001b[0m\u001b[0m\n\u001b[0;32m--> 312\u001b[0;31m             \u001b[0;32myield\u001b[0m \u001b[0;32mfrom\u001b[0m \u001b[0mself\u001b[0m\u001b[0;34m.\u001b[0m\u001b[0m_plot_args\u001b[0m\u001b[0;34m(\u001b[0m\u001b[0mthis\u001b[0m\u001b[0;34m,\u001b[0m \u001b[0mkwargs\u001b[0m\u001b[0;34m)\u001b[0m\u001b[0;34m\u001b[0m\u001b[0;34m\u001b[0m\u001b[0m\n\u001b[0m\u001b[1;32m    313\u001b[0m \u001b[0;34m\u001b[0m\u001b[0m\n\u001b[1;32m    314\u001b[0m     \u001b[0;32mdef\u001b[0m \u001b[0mget_next_color\u001b[0m\u001b[0;34m(\u001b[0m\u001b[0mself\u001b[0m\u001b[0;34m)\u001b[0m\u001b[0;34m:\u001b[0m\u001b[0;34m\u001b[0m\u001b[0;34m\u001b[0m\u001b[0m\n",
      "\u001b[0;32m/Library/Frameworks/Python.framework/Versions/3.7/lib/python3.7/site-packages/matplotlib/axes/_base.py\u001b[0m in \u001b[0;36m_plot_args\u001b[0;34m(self, tup, kwargs, return_kwargs)\u001b[0m\n\u001b[1;32m    447\u001b[0m             \u001b[0;31m# xy is tup with fmt stripped (could still be (y,) only)\u001b[0m\u001b[0;34m\u001b[0m\u001b[0;34m\u001b[0m\u001b[0;34m\u001b[0m\u001b[0m\n\u001b[1;32m    448\u001b[0m             \u001b[0;34m*\u001b[0m\u001b[0mxy\u001b[0m\u001b[0;34m,\u001b[0m \u001b[0mfmt\u001b[0m \u001b[0;34m=\u001b[0m \u001b[0mtup\u001b[0m\u001b[0;34m\u001b[0m\u001b[0;34m\u001b[0m\u001b[0m\n\u001b[0;32m--> 449\u001b[0;31m             \u001b[0mlinestyle\u001b[0m\u001b[0;34m,\u001b[0m \u001b[0mmarker\u001b[0m\u001b[0;34m,\u001b[0m \u001b[0mcolor\u001b[0m \u001b[0;34m=\u001b[0m \u001b[0m_process_plot_format\u001b[0m\u001b[0;34m(\u001b[0m\u001b[0mfmt\u001b[0m\u001b[0;34m)\u001b[0m\u001b[0;34m\u001b[0m\u001b[0;34m\u001b[0m\u001b[0m\n\u001b[0m\u001b[1;32m    450\u001b[0m         \u001b[0;32melif\u001b[0m \u001b[0mlen\u001b[0m\u001b[0;34m(\u001b[0m\u001b[0mtup\u001b[0m\u001b[0;34m)\u001b[0m \u001b[0;34m==\u001b[0m \u001b[0;36m3\u001b[0m\u001b[0;34m:\u001b[0m\u001b[0;34m\u001b[0m\u001b[0;34m\u001b[0m\u001b[0m\n\u001b[1;32m    451\u001b[0m             \u001b[0;32mraise\u001b[0m \u001b[0mValueError\u001b[0m\u001b[0;34m(\u001b[0m\u001b[0;34m'third arg must be a format string'\u001b[0m\u001b[0;34m)\u001b[0m\u001b[0;34m\u001b[0m\u001b[0;34m\u001b[0m\u001b[0m\n",
      "\u001b[0;32m/Library/Frameworks/Python.framework/Versions/3.7/lib/python3.7/site-packages/matplotlib/axes/_base.py\u001b[0m in \u001b[0;36m_process_plot_format\u001b[0;34m(fmt)\u001b[0m\n\u001b[1;32m    183\u001b[0m             \u001b[0;32mif\u001b[0m \u001b[0mmarker\u001b[0m \u001b[0;32mis\u001b[0m \u001b[0;32mnot\u001b[0m \u001b[0;32mNone\u001b[0m\u001b[0;34m:\u001b[0m\u001b[0;34m\u001b[0m\u001b[0;34m\u001b[0m\u001b[0m\n\u001b[1;32m    184\u001b[0m                 raise ValueError(\n\u001b[0;32m--> 185\u001b[0;31m                     'Illegal format string \"%s\"; two marker symbols' % fmt)\n\u001b[0m\u001b[1;32m    186\u001b[0m             \u001b[0mmarker\u001b[0m \u001b[0;34m=\u001b[0m \u001b[0mc\u001b[0m\u001b[0;34m\u001b[0m\u001b[0;34m\u001b[0m\u001b[0m\n\u001b[1;32m    187\u001b[0m             \u001b[0mi\u001b[0m \u001b[0;34m+=\u001b[0m \u001b[0;36m1\u001b[0m\u001b[0;34m\u001b[0m\u001b[0;34m\u001b[0m\u001b[0m\n",
      "\u001b[0;31mValueError\u001b[0m: Illegal format string \"p-o\"; two marker symbols"
     ]
    },
    {
     "data": {
      "image/png": "[encoded data removed]",
      "text/plain": [
       "<Figure size 1400x600 with 2 Axes>"
      ]
     },
     "metadata": {},
     "output_type": "display_data"
    }
   ],
   "source": [
    "# Cell 4: View Training Results\n",
    "\n",
    "    \n",
    "# Display metrics if available\n",
    "if hasattr(fine_tuner, 'metrics'):\n",
    "    print(\"Final Evaluation Metrics:\")\n",
    "    metrics_df = pd.DataFrame([fine_tuner.metrics])\n",
    "    display(metrics_df.T.reset_index().rename(columns={'index': 'Metric', 0: 'Value'}))\n",
    "\n",
    "# Visualize training history if available\n",
    "if hasattr(fine_tuner.trainer, 'history') and fine_tuner.trainer.history:\n",
    "    history = fine_tuner.trainer.history\n",
    "\n",
    "    if history.get('train_loss') and history.get('val_loss'):\n",
    "        # Create figure\n",
    "        plt.figure(figsize=(14, 6))\n",
    "\n",
    "        # Plot training and validation loss\n",
    "        plt.subplot(1, 2, 1)\n",
    "        plt.plot(history['train_loss'], 'b-o', label='Training Loss')\n",
    "        plt.plot(history['val_loss'], 'r-o', label='Validation Loss')\n",
    "        plt.title('Loss During Training')\n",
    "        plt.xlabel('Epoch')\n",
    "        plt.ylabel('Loss')\n",
    "        plt.legend()\n",
    "        plt.grid(True, alpha=0.3)\n",
    "\n",
    "        # Plot performance metrics\n",
    "        plt.subplot(1, 2, 2)\n",
    "        if 'val_accuracy' in history:\n",
    "            plt.plot(history['val_accuracy'], 'g-o', label='Validation Accuracy')\n",
    "        if 'val_f1' in history:\n",
    "            plt.plot(history['val_f1'], 'p-o', label='Validation F1')\n",
    "        plt.title('Metrics During Training')\n",
    "        plt.xlabel('Epoch')\n",
    "        plt.ylabel('Score')\n",
    "        plt.legend()\n",
    "        plt.grid(True, alpha=0.3)\n",
    "\n",
    "        plt.tight_layout()\n",
    "        plt.show()\n",
    "else:\n",
    "    print(\"No training history available.\")\n",
    "    \n"
   ]
  },
  {
   "cell_type": "code",
   "execution_count": 6,
   "metadata": {},
   "outputs": [
    {
     "data": {
      "text/html": [
       "<div class='section-header'>Model Evaluation</div>"
      ],
      "text/plain": [
       "<IPython.core.display.HTML object>"
      ]
     },
     "metadata": {},
     "output_type": "display_data"
    },
    {
     "name": "stderr",
     "output_type": "stream",
     "text": [
      "2025-03-13 11:56:22,669 - INFO - Dataset loaded with 3238 samples.\n"
     ]
    },
    {
     "name": "stdout",
     "output_type": "stream",
     "text": [
      "Loading test dataset...\n",
      "Test dataset loaded with 324 samples.\n",
      "Running comprehensive evaluation...\n",
      "[INFO] Evaluating model on 21 batches...\n",
      "[INFO] Evaluation complete. Processed 324 samples.\n",
      "[INFO] Calculating metrics...\n",
      "[INFO] Metrics calculated. Overall accuracy: 0.9012\n"
     ]
    },
    {
     "data": {
      "image/png": "[encoded data removed]",
      "text/plain": [
       "<Figure size 1000x800 with 2 Axes>"
      ]
     },
     "metadata": {},
     "output_type": "display_data"
    },
    {
     "name": "stdout",
     "output_type": "stream",
     "text": [
      "\n",
      "Classification Report:\n"
     ]
    },
    {
     "data": {
      "text/html": [
       "<div>\n",
       "<style scoped>\n",
       "    .dataframe tbody tr th:only-of-type {\n",
       "        vertical-align: middle;\n",
       "    }\n",
       "\n",
       "    .dataframe tbody tr th {\n",
       "        vertical-align: top;\n",
       "    }\n",
       "\n",
       "    .dataframe thead th {\n",
       "        text-align: right;\n",
       "    }\n",
       "</style>\n",
       "<table border=\"1\" class=\"dataframe\">\n",
       "  <thead>\n",
       "    <tr style=\"text-align: right;\">\n",
       "      <th></th>\n",
       "      <th>Precision</th>\n",
       "      <th>Recall</th>\n",
       "      <th>F1 Score</th>\n",
       "      <th>Accuracy</th>\n",
       "    </tr>\n",
       "  </thead>\n",
       "  <tbody>\n",
       "    <tr>\n",
       "      <th>0</th>\n",
       "      <td>0.911392</td>\n",
       "      <td>0.888889</td>\n",
       "      <td>0.9</td>\n",
       "      <td>0.901235</td>\n",
       "    </tr>\n",
       "  </tbody>\n",
       "</table>\n",
       "</div>"
      ],
      "text/plain": [
       "   Precision    Recall  F1 Score  Accuracy\n",
       "0   0.911392  0.888889       0.9  0.901235"
      ]
     },
     "metadata": {},
     "output_type": "display_data"
    },
    {
     "name": "stdout",
     "output_type": "stream",
     "text": [
      "\n",
      "Per-Class Performance:\n"
     ]
    },
    {
     "data": {
      "text/html": [
       "<div>\n",
       "<style scoped>\n",
       "    .dataframe tbody tr th:only-of-type {\n",
       "        vertical-align: middle;\n",
       "    }\n",
       "\n",
       "    .dataframe tbody tr th {\n",
       "        vertical-align: top;\n",
       "    }\n",
       "\n",
       "    .dataframe thead th {\n",
       "        text-align: right;\n",
       "    }\n",
       "</style>\n",
       "<table border=\"1\" class=\"dataframe\">\n",
       "  <thead>\n",
       "    <tr style=\"text-align: right;\">\n",
       "      <th></th>\n",
       "      <th>precision</th>\n",
       "      <th>recall</th>\n",
       "      <th>f1-score</th>\n",
       "      <th>support</th>\n",
       "    </tr>\n",
       "  </thead>\n",
       "  <tbody>\n",
       "    <tr>\n",
       "      <th>Negative</th>\n",
       "      <td>0.891566</td>\n",
       "      <td>0.913580</td>\n",
       "      <td>0.902439</td>\n",
       "      <td>162.0</td>\n",
       "    </tr>\n",
       "    <tr>\n",
       "      <th>Positive</th>\n",
       "      <td>0.911392</td>\n",
       "      <td>0.888889</td>\n",
       "      <td>0.900000</td>\n",
       "      <td>162.0</td>\n",
       "    </tr>\n",
       "  </tbody>\n",
       "</table>\n",
       "</div>"
      ],
      "text/plain": [
       "          precision    recall  f1-score  support\n",
       "Negative   0.891566  0.913580  0.902439    162.0\n",
       "Positive   0.911392  0.888889  0.900000    162.0"
      ]
     },
     "metadata": {},
     "output_type": "display_data"
    }
   ],
   "source": [
    "# Cell 5: Run Comprehensive Evaluation\n",
    "try:\n",
    "    # Display header\n",
    "    display(HTML(\"<div class='section-header'>Model Evaluation</div>\"))\n",
    "    \n",
    "    # Import evaluator\n",
    "    from src.training.model_evaluator import ModelEvaluator\n",
    "    \n",
    "    # Get test data\n",
    "    print(\"Loading test dataset...\")\n",
    "    texts, labels = fine_tuner.data_module.load_dataset()\n",
    "    _, _, test_loader = fine_tuner.data_module.create_dataloaders(texts, labels)\n",
    "    print(f\"Test dataset loaded with {len(test_loader.dataset)} samples.\")\n",
    "    \n",
    "    # Create evaluator and run evaluation\n",
    "    print(\"Running comprehensive evaluation...\")\n",
    "    evaluator = ModelEvaluator(\n",
    "        model=fine_tuner.model,\n",
    "        device=fine_tuner.device,\n",
    "        model_name=\"DistilBERT Sentiment Classifier\",\n",
    "        class_names=fine_tuner.class_names\n",
    "    )\n",
    "    \n",
    "    # Evaluate model (get raw results for custom visualizations)\n",
    "    all_labels, all_preds, all_probs = evaluator.evaluate(test_loader)\n",
    "    metrics = evaluator.calculate_metrics(all_labels, all_preds, all_probs)\n",
    "    \n",
    "    # Display confusion matrix\n",
    "    plt.figure(figsize=(10, 8))\n",
    "    cm = metrics[\"confusion_matrix\"]\n",
    "    sns.heatmap(cm, annot=True, fmt=\"d\", cmap=\"Blues\", \n",
    "               xticklabels=fine_tuner.class_names, \n",
    "               yticklabels=fine_tuner.class_names)\n",
    "    plt.title(\"Confusion Matrix\")\n",
    "    plt.ylabel(\"True Label\")\n",
    "    plt.xlabel(\"Predicted Label\")\n",
    "    plt.tight_layout()\n",
    "    plt.show()\n",
    "    \n",
    "    # Display classification metrics\n",
    "    print(\"\\nClassification Report:\")\n",
    "    metrics_df = pd.DataFrame({\n",
    "        'Precision': [metrics['precision']],\n",
    "        'Recall': [metrics['recall']],\n",
    "        'F1 Score': [metrics['f1']],\n",
    "        'Accuracy': [metrics['accuracy']]\n",
    "    })\n",
    "    display(metrics_df)\n",
    "    \n",
    "    # Display per-class metrics if available\n",
    "    if 'per_class' in metrics:\n",
    "        print(\"\\nPer-Class Performance:\")\n",
    "        per_class_df = pd.DataFrame(metrics['per_class']).T\n",
    "        display(per_class_df)\n",
    "    \n",
    "except Exception as e:\n",
    "    print(f\"An error occurred: {e}\")\n",
    "    import traceback\n",
    "    traceback.print_exc()"
   ]
  },
  {
   "cell_type": "code",
   "execution_count": 7,
   "metadata": {},
   "outputs": [
    {
     "data": {
      "text/html": [
       "<div class='section-header'>Generate Evaluation Report</div>"
      ],
      "text/plain": [
       "<IPython.core.display.HTML object>"
      ]
     },
     "metadata": {},
     "output_type": "display_data"
    },
    {
     "name": "stdout",
     "output_type": "stream",
     "text": [
      "Generating comprehensive PDF report at evaluation_results/distilbert-base-uncased_evaluation_report.pdf...\n",
      "[INFO] Calculating metrics...\n",
      "[INFO] Metrics calculated. Overall accuracy: 0.9012\n",
      "[INFO] Generating evaluation report at evaluation_results/distilbert-base-uncased_evaluation_report.pdf...\n"
     ]
    },
    {
     "name": "stderr",
     "output_type": "stream",
     "text": [
      "2025-03-13 11:59:18,158 - INFO - Evaluation report saved as 'evaluation_results/distilbert-base-uncased_evaluation_report.pdf'\n"
     ]
    },
    {
     "name": "stdout",
     "output_type": "stream",
     "text": [
      "[INFO] Evaluation report saved as 'evaluation_results/distilbert-base-uncased_evaluation_report.pdf'\n",
      "PDF report generated successfully at: evaluation_results/distilbert-base-uncased_evaluation_report.pdf\n"
     ]
    }
   ],
   "source": [
    "# Cell 6: Generate PDF Report (Optional)\n",
    "try:\n",
    "    # Display header\n",
    "    display(HTML(\"<div class='section-header'>Generate Evaluation Report</div>\"))\n",
    "    \n",
    "    # Generate PDF report\n",
    "    report_path = f\"evaluation_results/{CONFIG['models']['distilbert']['pretrained_model_name']}_evaluation_report.pdf\"\n",
    "    os.makedirs(os.path.dirname(report_path), exist_ok=True)\n",
    "    \n",
    "    print(f\"Generating comprehensive PDF report at {report_path}...\")\n",
    "    evaluator.generate_pdf_report(all_labels, all_preds, all_probs, output_path=report_path)\n",
    "    print(f\"PDF report generated successfully at: {report_path}\")\n",
    "    \n",
    "except Exception as e:\n",
    "    print(f\"An error occurred: {e}\")\n",
    "    import traceback\n",
    "    traceback.print_exc()\n"
   ]
  },
  {
   "cell_type": "code",
   "execution_count": 8,
   "metadata": {},
   "outputs": [
    {
     "data": {
      "text/html": [
       "<div class='section-header'>Test with Custom Inputs</div>"
      ],
      "text/plain": [
       "<IPython.core.display.HTML object>"
      ]
     },
     "metadata": {},
     "output_type": "display_data"
    },
    {
     "name": "stdout",
     "output_type": "stream",
     "text": [
      "Try your own examples:\n"
     ]
    },
    {
     "data": {
      "application/vnd.jupyter.widget-view+json": {
       "model_id": "d6d3537da4274906921c1d2e2f9d24ae",
       "version_major": 2,
       "version_minor": 0
      },
      "text/plain": [
       "Textarea(value='', layout=Layout(height='100px', width='100%'), placeholder='Enter text to analyze...')"
      ]
     },
     "metadata": {},
     "output_type": "display_data"
    },
    {
     "data": {
      "application/vnd.jupyter.widget-view+json": {
       "model_id": "1dae7682bf0249098da161e1f6cbca21",
       "version_major": 2,
       "version_minor": 0
      },
      "text/plain": [
       "Button(button_style='primary', description='Analyze Sentiment', layout=Layout(width='200px'), style=ButtonStyl…"
      ]
     },
     "metadata": {},
     "output_type": "display_data"
    },
    {
     "data": {
      "application/vnd.jupyter.widget-view+json": {
       "model_id": "a5ffd096cc214507b7f7aa1295be072b",
       "version_major": 2,
       "version_minor": 0
      },
      "text/plain": [
       "Output()"
      ]
     },
     "metadata": {},
     "output_type": "display_data"
    }
   ],
   "source": [
    "import torch\n",
    "\n",
    "# Cell 7: Test with Custom Inputs (Optional)\n",
    "try:\n",
    "    # Display header\n",
    "    display(HTML(\"<div class='section-header'>Test with Custom Inputs</div>\"))\n",
    "    \n",
    "    def predict_sentiment(text):\n",
    "        \"\"\"Function to predict sentiment of a given text\"\"\"\n",
    "        # Tokenize input\n",
    "        inputs = fine_tuner.tokenizer(\n",
    "            text,\n",
    "            return_tensors=\"pt\",\n",
    "            truncation=True,\n",
    "            padding=\"max_length\",\n",
    "            max_length=CONFIG[\"training\"][\"max_length\"]\n",
    "        )\n",
    "        \n",
    "        # Move inputs to device\n",
    "        inputs = {key: val.to(fine_tuner.device) for key, val in inputs.items()}\n",
    "        \n",
    "        # Set model to evaluation mode\n",
    "        fine_tuner.model.eval()\n",
    "        \n",
    "        # Get prediction\n",
    "        with torch.no_grad():\n",
    "            outputs = fine_tuner.model(**inputs)\n",
    "            logits = outputs.logits\n",
    "            probabilities = torch.nn.functional.softmax(logits, dim=1)\n",
    "            prediction = torch.argmax(logits, dim=1)\n",
    "        \n",
    "        # Get predicted class\n",
    "        predicted_class = fine_tuner.class_names[prediction.item()]\n",
    "        confidence = probabilities[0][prediction.item()].item() * 100\n",
    "        \n",
    "        # Get probabilities for all classes\n",
    "        class_probs = {\n",
    "            fine_tuner.class_names[i]: prob.item() * 100 \n",
    "            for i, prob in enumerate(probabilities[0])\n",
    "        }\n",
    "        \n",
    "        return predicted_class, confidence, class_probs\n",
    "    \n",
    "    # Create a simple UI for testing\n",
    "    from ipywidgets import widgets, Layout\n",
    "    from IPython.display import display, clear_output\n",
    "    \n",
    "    # Create text input\n",
    "    text_input = widgets.Textarea(\n",
    "        placeholder='Enter text to analyze...',\n",
    "        layout=Layout(width='100%', height='100px')\n",
    "    )\n",
    "    \n",
    "    # Create button\n",
    "    button = widgets.Button(\n",
    "        description='Analyze Sentiment',\n",
    "        button_style='primary',\n",
    "        layout=Layout(width='200px')\n",
    "    )\n",
    "    \n",
    "    # Create output area\n",
    "    output = widgets.Output()\n",
    "    \n",
    "    # Define button click event\n",
    "    def on_button_click(b):\n",
    "        with output:\n",
    "            clear_output()\n",
    "            if not text_input.value.strip():\n",
    "                print(\"Please enter some text to analyze.\")\n",
    "                return\n",
    "            \n",
    "            print(f\"Analyzing: \\\"{text_input.value}\\\"\")\n",
    "            predicted_class, confidence, class_probs = predict_sentiment(text_input.value)\n",
    "            \n",
    "            print(f\"\\nPredicted sentiment: {predicted_class} (Confidence: {confidence:.2f}%)\")\n",
    "            print(\"\\nProbabilities for all classes:\")\n",
    "            for cls, prob in class_probs.items():\n",
    "                print(f\"  - {cls}: {prob:.2f}%\")\n",
    "    \n",
    "    button.on_click(on_button_click)\n",
    "    \n",
    "    # Display widgets\n",
    "    print(\"Try your own examples:\")\n",
    "    display(text_input)\n",
    "    display(button)\n",
    "    display(output)\n",
    "    \n",
    "except Exception as e:\n",
    "    print(f\"An error occurred: {e}\")\n",
    "    import traceback\n",
    "    traceback.print_exc()"
   ]
  },
  {
   "cell_type": "code",
   "execution_count": 9,
   "metadata": {},
   "outputs": [],
   "source": [
    "import torch\n",
    "import os\n",
    "import json\n",
    "\n",
    "\n",
    "def save_model(fine_tuner, save_dir=\"saved_model\"):\n",
    "    \"\"\"\n",
    "    Save the model architecture, tokenizer, weights, and related configurations.\n",
    "    \"\"\"\n",
    "    os.makedirs(save_dir, exist_ok=True)\n",
    "    \n",
    "    # Save model weights\n",
    "    model_path = os.path.join(save_dir, \"model.pth\")\n",
    "    torch.save(fine_tuner.model.state_dict(), model_path)\n",
    "    print(f\"Model weights saved at: {model_path}\")\n",
    "    \n",
    "    # Save tokenizer\n",
    "    tokenizer_path = os.path.join(save_dir, \"tokenizer\")\n",
    "    fine_tuner.tokenizer.save_pretrained(tokenizer_path)\n",
    "    print(f\"Tokenizer saved at: {tokenizer_path}\")\n",
    "    \n",
    "    # Save training history if available\n",
    "    history_path = os.path.join(save_dir, \"history.json\")\n",
    "    if hasattr(fine_tuner.trainer, 'history') and fine_tuner.trainer.history:\n",
    "        with open(history_path, \"w\") as f:\n",
    "            json.dump(fine_tuner.trainer.history, f, indent=4)\n",
    "        print(f\"Training history saved at: {history_path}\")\n",
    "    \n",
    "    # Save model configuration\n",
    "    config_path = os.path.join(save_dir, \"config.json\")\n",
    "    config_data = {\n",
    "        \"model_name\": \"DistilBERT Sentiment Classifier\",\n",
    "        \"class_names\": fine_tuner.class_names,\n",
    "        \"device\": fine_tuner.device,\n",
    "        \"pretrained_model\": CONFIG[\"models\"][\"distilbert\"][\"pretrained_model_name\"],\n",
    "        \"max_length\": CONFIG[\"training\"][\"max_length\"]\n",
    "    }\n",
    "    \n",
    "    with open(config_path, \"w\") as f:\n",
    "        json.dump(config_data, f, indent=4)\n",
    "    print(f\"Model configuration saved at: {config_path}\")\n",
    "    \n",
    "    print(\"Model save process completed!\")\n"
   ]
  },
  {
   "cell_type": "code",
   "execution_count": 10,
   "metadata": {},
   "outputs": [
    {
     "name": "stdout",
     "output_type": "stream",
     "text": [
      "Model weights saved at: saved_model/model.pth\n",
      "Tokenizer saved at: saved_model/tokenizer\n",
      "Training history saved at: saved_model/history.json\n",
      "Model configuration saved at: saved_model/config.json\n",
      "Model save process completed!\n"
     ]
    }
   ],
   "source": [
    "save_model(fine_tuner)\n"
   ]
  },
  {
   "cell_type": "code",
   "execution_count": null,
   "metadata": {},
   "outputs": [],
   "source": []
  }
 ],
 "metadata": {
  "kernelspec": {
   "display_name": "Python 3 (ipykernel)",
   "language": "python",
   "name": "python3"
  },
  "language_info": {
   "codemirror_mode": {
    "name": "ipython",
    "version": 3
   },
   "file_extension": ".py",
   "mimetype": "text/x-python",
   "name": "python",
   "nbconvert_exporter": "python",
   "pygments_lexer": "ipython3",
   "version": "3.7.9"
  }
 },
 "nbformat": 4,
 "nbformat_minor": 4
}
