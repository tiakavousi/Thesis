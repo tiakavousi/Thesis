{
  "cells": [
    {
      "cell_type": "markdown",
      "metadata": {},
      "source": [
        "# Oracle Dataset Exploration\n",
        "\n",
        "This notebook explores the Oracle dataset stored in an Excel file located at:\n",
        "```\n",
        "/Users/tayebekavousi/Desktop/github_sa/datasets/binary/oracle.xlsx\n",
        "```\n",
        "\n",
        "We will:\n",
        "1. Display the first 10 rows of the dataset.\n",
        "2. Sample 3 rows per class (`is_toxic` labels).\n",
        "3. Visualize the distribution of classes.\n",
        "4. Analyze text lengths (word count) and display statistics.\n",
        "5. Generate a word cloud for each class.\n",
        "6. Prepare a PyTorch `Dataset` and `DataLoader` for fine-tuning.\n"
      ]
    },
    {
      "cell_type": "markdown",
      "metadata": {},
      "source": [
        "## 1. Importing Required Libraries\n",
        "\n",
        "We import necessary libraries including `pandas`, `numpy`, `matplotlib`, `wordcloud`, and `torch`."
      ]
    },
    {
      "cell_type": "code",
      "execution_count": null,
      "metadata": {},
      "source": [
        "import pandas as pd\n",
        "import numpy as np\n",
        "import matplotlib.pyplot as plt\n",
        "from wordcloud import WordCloud\n",
        "import torch\n",
        "from torch.utils.data import Dataset, DataLoader\n",
        "\n",
        "# Enable inline plotting\n",
        "%matplotlib inline"
      ]
    },
    {
      "cell_type": "markdown",
      "metadata": {},
      "source": [
        "## 2. Loading the Oracle Dataset from Excel\n",
        "\n",
        "In this cell, we load the dataset from the specified Excel file path. Ensure that the file exists at the given location."
      ]
    },
    {
      "cell_type": "code",
      "execution_count": null,
      "metadata": {},
      "source": [
        "file_path = \"/Users/tayebekavousi/Desktop/github_sa/datasets/binary/oracle.xlsx\"  # Path to the Oracle dataset\n",
        "\n",
        "try:\n",
        "    df = pd.read_excel(file_path)\n",
        "    print(\"Oracle dataset loaded successfully!\")\n",
        "except Exception as e:\n",
        "    print(\"Error loading dataset:\", e)\n",
        "\n",
        "print(\"Dataset shape:\", df.shape)"
      ]
    },
    {
      "cell_type": "markdown",
      "metadata": {},
      "source": [
        "## 3. Display the First 10 Rows\n",
        "\n",
        "This cell displays the first 10 rows of the Oracle dataset for a quick preview."
      ]
    },
    {
      "cell_type": "code",
      "execution_count": null,
      "metadata": {},
      "source": [
        "print(\"Head of the Oracle dataset (10 rows):\")\n",
        "display(df.head(10))"
      ]
    },
    {
      "cell_type": "markdown",
      "metadata": {},
      "source": [
        "## 4. Sampling 3 Rows from Each Class\n",
        "\n",
        "We sample 3 rows per class (based on the `is_toxic` label) to inspect representative entries."
      ]
    },
    {
      "cell_type": "code",
      "execution_count": null,
      "metadata": {},
      "source": [
        "if 'is_toxic' in df.columns:\n",
        "    try:\n",
        "        sample_df = df.groupby('is_toxic').apply(lambda x: x.sample(n=3, random_state=42)).reset_index(drop=True)\n",
        "        print(\"Sample (3 rows per class):\")\n",
        "        display(sample_df)\n",
        "    except ValueError as e:\n",
        "        print(\"Sampling error:\", e)\n",
        "else:\n",
        "    print(\"Column 'is_toxic' not found in the dataset.\")"
      ]
    },
    {
      "cell_type": "markdown",
      "metadata": {},
      "source": [
        "## 5. Distribution Analysis of Classes\n",
        "\n",
        "We plot a bar chart to visualize the distribution of `is_toxic` classes."
      ]
    },
    {
      "cell_type": "code",
      "execution_count": null,
      "metadata": {},
      "source": [
        "if 'is_toxic' in df.columns:\n",
        "    class_counts = df['is_toxic'].value_counts()\n",
        "    \n",
        "    plt.figure(figsize=(6, 4))\n",
        "    class_counts.plot(kind='bar', color='skyblue', edgecolor='black')\n",
        "    plt.title(\"Distribution of is_toxic Classes\")\n",
        "    plt.xlabel(\"is_toxic Label\")\n",
        "    plt.ylabel(\"Count\")\n",
        "    plt.xticks(rotation=0)\n",
        "    plt.show()\n",
        "else:\n",
        "    print(\"Column 'is_toxic' not found in the dataset.\")"
      ]
    },
    {
      "cell_type": "markdown",
      "metadata": {},
      "source": [
        "## 6. Text Length (Word) Analysis\n",
        "\n",
        "We compute the word count for each message, print summary statistics (average, median, maximum, minimum), and display a histogram of word counts."
      ]
    },
    {
      "cell_type": "code",
      "execution_count": null,
      "metadata": {},
      "source": [
        "if 'message' in df.columns:\n",
        "    df['word_count'] = df['message'].astype(str).apply(lambda x: len(x.split()))\n",
        "    \n",
        "    avg_length = df['word_count'].mean()\n",
        "    median_length = df['word_count'].median()\n",
        "    max_length = df['word_count'].max()\n",
        "    min_length = df['word_count'].min()\n",
        "    \n",
        "    print(\"Text Length Analysis (in words):\")\n",
        "    print(f\"Average Length: {avg_length:.2f}\")\n",
        "    print(f\"Median Length: {median_length}\")\n",
        "    print(f\"Maximum Length: {max_length}\")\n",
        "    print(f\"Minimum Length: {min_length}\")\n",
        "    \n",
        "    plt.figure(figsize=(8, 5))\n",
        "    plt.hist(df['word_count'], bins=30, color='lightgreen', edgecolor='black')\n",
        "    plt.title(\"Histogram of Message Word Counts\")\n",
        "    plt.xlabel(\"Word Count\")\n",
        "    plt.ylabel(\"Frequency\")\n",
        "    plt.show()\n",
        "else:\n",
        "    print(\"Column 'message' not found in the dataset.\")"
      ]
    },
    {
      "cell_type": "markdown",
      "metadata": {},
      "source": [
        "## 7. Word Cloud for Each Class\n",
        "\n",
        "We generate a word cloud for each `is_toxic` class to visualize the word distribution separately."
      ]
    },
    {
      "cell_type": "code",
      "execution_count": null,
      "metadata": {},
      "source": [
        "if 'message' in df.columns and 'is_toxic' in df.columns:\n",
        "    for class_value in df['is_toxic'].unique():\n",
        "        subset_df = df[df['is_toxic'] == class_value]\n",
        "        text_combined = \" \".join(subset_df['message'].dropna().astype(str).tolist())\n",
        "        \n",
        "        wordcloud = WordCloud(width=800, height=400, background_color='white').generate(text_combined)\n",
        "        \n",
        "        plt.figure(figsize=(10, 5))\n",
        "        plt.imshow(wordcloud, interpolation='bilinear')\n",
        "        plt.title(f\"Word Cloud for is_toxic = {class_value}\")\n",
        "        plt.axis(\"off\")\n",
        "        plt.show()\n",
        "else:\n",
        "    print(\"Either 'message' or 'is_toxic' column not found in the dataset.\")"
      ]
    },
    {
      "cell_type": "markdown",
      "metadata": {},
      "source": [
        "## 8. Preparing a PyTorch Dataset and DataLoader\n",
        "\n",
        "We define a custom PyTorch `Dataset` class and create a `DataLoader` to prepare the data for fine-tuning."
      ]
    },
    {
      "cell_type": "code",
      "execution_count": null,
      "metadata": {},
      "source": [
        "class OracleDataset(Dataset):\n",
        "    def __init__(self, dataframe, text_column=\"message\", label_column=\"is_toxic\", transform=None):\n",
        "        self.data = dataframe\n",
        "        self.text_column = text_column\n",
        "        self.label_column = label_column\n",
        "        self.transform = transform\n",
        "        \n",
        "        if label_column in self.data.columns:\n",
        "            self.label_mapping = {label: label for label in self.data[label_column].unique()}\n",
        "        else:\n",
        "            self.label_mapping = {}\n",
        "    \n",
        "    def __len__(self):\n",
        "        return len(self.data)\n",
        "    \n",
        "    def __getitem__(self, idx):\n",
        "        text = self.data.iloc[idx][self.text_column]\n",
        "        label = None\n",
        "        if self.label_column in self.data.columns:\n",
        "            label = self.label_mapping[self.data.iloc[idx][self.label_column]]\n",
        "        \n",
        "        sample = {\"text\": text, \"label\": label}\n",
        "        \n",
        "        if self.transform:\n",
        "            sample = self.transform(sample)\n",
        "        \n",
        "        return sample\n",
        "\n",
        "# Instantiate the dataset\n",
        "dataset = OracleDataset(df, text_column=\"message\", label_column=\"is_toxic\")\n",
        "\n",
        "# Create a DataLoader (batch size = 4 for demonstration)\n",
        "dataloader = DataLoader(dataset, batch_size=4, shuffle=True)\n",
        "\n",
        "# Display the first batch\n",
        "for batch in dataloader:\n",
        "    print(\"Sample batch from DataLoader:\")\n",
        "    print(batch)\n",
        "    break"
      ]
    }
  ],
  "metadata": {
    "kernelspec": {
      "display_name": "Python 3",
      "language": "python",
      "name": "python3"
    },
    "language_info": {
      "name": "python",
      "version": "3.x"
    }
  },
  "nbformat": 4,
  "nbformat_minor": 5
}
