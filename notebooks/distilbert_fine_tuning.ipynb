{
 "cells": [
  {
   "cell_type": "markdown",
   "metadata": {},
   "source": [
    "# DistilBERT Fine-Tuning for Comment Sentiment Classification\n",
    "\n",
    "This notebook demonstrates how to fine-tune a DistilBERT model for sentiment classification of software engineering specific text using publiclly available datasets"
   ]
  },
  {
   "cell_type": "markdown",
   "metadata": {},
   "source": [
    "# Cell 1: Setup Environment and Imports"
   ]
  },
  {
   "cell_type": "code",
   "execution_count": 2,
   "metadata": {},
   "outputs": [],
   "source": [
    "import os\n",
    "import sys\n",
    "import matplotlib.pyplot as plt\n",
    "import pandas as pd\n",
    "import numpy as np\n",
    "import seaborn as sns\n",
    "from IPython.display import display, HTML, clear_output"
   ]
  },
  {
   "cell_type": "markdown",
   "metadata": {},
   "source": [
    "# Define project root path"
   ]
  },
  {
   "cell_type": "code",
   "execution_count": 3,
   "metadata": {},
   "outputs": [
    {
     "name": "stdout",
     "output_type": "stream",
     "text": [
      "Environment setup complete!\n"
     ]
    }
   ],
   "source": [
    "project_root = \"/Users/tayebekavousi/Desktop/github_sa\"\n",
    "# Save the original directory to go back to it later if needed\n",
    "original_dir = os.getcwd()\n",
    "# Change to the project root directory\n",
    "os.chdir(project_root)\n",
    "# Ensure the project root is in the Python path\n",
    "if project_root not in sys.path:\n",
    "    sys.path.insert(0, project_root)\n",
    "sys.path.insert(0, '')  # Add current directory (empty string) to path\n",
    "\n",
    "\n",
    "print(\"Environment setup complete!\")"
   ]
  },
  {
   "cell_type": "markdown",
   "metadata": {},
   "source": [
    "# Cell 2: Import Model Classes and Functions"
   ]
  },
  {
   "cell_type": "code",
   "execution_count": 4,
   "metadata": {},
   "outputs": [],
   "source": [
    "from src.models.distilbert.train_distilbert import main\n",
    "from src.config import CONFIG"
   ]
  },
  {
   "cell_type": "markdown",
   "metadata": {},
   "source": [
    "# Cell 3: Run Fine-tuning Process"
   ]
  },
  {
   "cell_type": "code",
   "execution_count": 5,
   "metadata": {},
   "outputs": [
    {
     "name": "stdout",
     "output_type": "stream",
     "text": [
      "Starting fine-tuning process...\n",
      "[INFO] Initializing DistilBERT fine-tuner with model: distilbert-base-uncased\n",
      "[INFO] Tokenizer loaded successfully.\n"
     ]
    },
    {
     "name": "stderr",
     "output_type": "stream",
     "text": [
      "Some weights of the model checkpoint at distilbert-base-uncased were not used when initializing DistilBertForSequenceClassification: ['vocab_projector.bias', 'vocab_layer_norm.weight', 'vocab_transform.weight', 'vocab_layer_norm.bias', 'vocab_transform.bias']\n",
      "- This IS expected if you are initializing DistilBertForSequenceClassification from the checkpoint of a model trained on another task or with another architecture (e.g. initializing a BertForSequenceClassification model from a BertForPreTraining model).\n",
      "- This IS NOT expected if you are initializing DistilBertForSequenceClassification from the checkpoint of a model that you expect to be exactly identical (initializing a BertForSequenceClassification model from a BertForSequenceClassification model).\n",
      "Some weights of DistilBertForSequenceClassification were not initialized from the model checkpoint at distilbert-base-uncased and are newly initialized: ['pre_classifier.bias', 'classifier.weight', 'classifier.bias', 'pre_classifier.weight']\n",
      "You should probably TRAIN this model on a down-stream task to be able to use it for predictions and inference.\n",
      "/Library/Frameworks/Python.framework/Versions/3.7/lib/python3.7/site-packages/transformers/optimization.py:415: FutureWarning: This implementation of AdamW is deprecated and will be removed in a future version. Use the PyTorch implementation torch.optim.AdamW instead, or set `no_deprecation_warning=True` to disable this warning\n",
      "  FutureWarning,\n",
      "2025-03-10 12:36:44,818 - INFO - Initialized DistilBERTFineTuner with model 'distilbert-base-uncased'\n",
      "2025-03-10 12:36:44,819 - INFO - Starting DistilBERT fine-tuning process.\n",
      "2025-03-10 12:36:44,840 - INFO - Dataset loaded with 7512 samples.\n"
     ]
    },
    {
     "name": "stdout",
     "output_type": "stream",
     "text": [
      "[INFO] Model distilbert-base-uncased initialized with 2 labels.\n",
      "[INFO] Model moved to device: cpu\n",
      "[INFO] Data module initialized.\n",
      "[INFO] Model initialized on device: cpu\n",
      "[INFO] Optimizer: AdamW with learning rate 2e-05\n",
      "[INFO] ModelTrainer initialized.\n",
      "\n",
      "[INFO] Starting DistilBERT fine-tuning process.\n",
      "[INFO] Loading dataset...\n",
      "[INFO] Loaded dataset with 7512 samples.\n",
      "[INFO] Creating dataloaders...\n",
      "[INFO] Dataloaders created.\n",
      "\n",
      "[INFO] Starting training...\n",
      "[INFO] Training started for 3 epochs.\n"
     ]
    },
    {
     "data": {
      "application/vnd.jupyter.widget-view+json": {
       "model_id": "9a9de5576bb84bc0a1a77c2b471f87b1",
       "version_major": 2,
       "version_minor": 0
      },
      "text/plain": [
       "Epochs:   0%|          | 0/3 [00:00<?, ?it/s]"
      ]
     },
     "metadata": {},
     "output_type": "display_data"
    },
    {
     "name": "stderr",
     "output_type": "stream",
     "text": [
      "2025-03-10 12:36:44,866 - INFO - Epoch 1/3\n"
     ]
    },
    {
     "data": {
      "application/vnd.jupyter.widget-view+json": {
       "model_id": "",
       "version_major": 2,
       "version_minor": 0
      },
      "text/plain": [
       "Training Batches:   0%|          | 0/353 [00:00<?, ?it/s]"
      ]
     },
     "metadata": {},
     "output_type": "display_data"
    },
    {
     "data": {
      "application/vnd.jupyter.widget-view+json": {
       "model_id": "",
       "version_major": 2,
       "version_minor": 0
      },
      "text/plain": [
       "Evaluating:   0%|          | 0/71 [00:00<?, ?it/s]"
      ]
     },
     "metadata": {},
     "output_type": "display_data"
    },
    {
     "name": "stdout",
     "output_type": "stream",
     "text": [
      "\n",
      "================================================================================\n",
      "⏱️  Epoch: 1/3\n",
      "================================================================================\n",
      "📊 Training   | Loss: 0.3329\n",
      "📊 Validation | Loss: 0.2515 | Accuracy: 0.9067 | F1 Score: 0.9066\n",
      "================================================================================\n",
      "\n"
     ]
    },
    {
     "name": "stderr",
     "output_type": "stream",
     "text": [
      "2025-03-10 13:19:21,657 - INFO - Checkpoint saved to ./models/model_best_f1_0.9066.pt\n",
      "2025-03-10 13:19:21,660 - INFO - Epoch 2/3\n"
     ]
    },
    {
     "name": "stdout",
     "output_type": "stream",
     "text": [
      "📈 New best model saved!\n"
     ]
    },
    {
     "data": {
      "application/vnd.jupyter.widget-view+json": {
       "model_id": "",
       "version_major": 2,
       "version_minor": 0
      },
      "text/plain": [
       "Training Batches:   0%|          | 0/353 [00:00<?, ?it/s]"
      ]
     },
     "metadata": {},
     "output_type": "display_data"
    },
    {
     "data": {
      "application/vnd.jupyter.widget-view+json": {
       "model_id": "",
       "version_major": 2,
       "version_minor": 0
      },
      "text/plain": [
       "Evaluating:   0%|          | 0/71 [00:00<?, ?it/s]"
      ]
     },
     "metadata": {},
     "output_type": "display_data"
    },
    {
     "name": "stdout",
     "output_type": "stream",
     "text": [
      "\n",
      "================================================================================\n",
      "⏱️  Epoch: 2/3\n",
      "================================================================================\n",
      "📊 Training   | Loss: 0.1690\n",
      "📊 Validation | Loss: 0.2290 | Accuracy: 0.9272 | F1 Score: 0.9272\n",
      "================================================================================\n",
      "\n"
     ]
    },
    {
     "name": "stderr",
     "output_type": "stream",
     "text": [
      "2025-03-10 14:02:49,865 - INFO - Checkpoint saved to ./models/model_best_f1_0.9272.pt\n",
      "2025-03-10 14:02:49,867 - INFO - Epoch 3/3\n"
     ]
    },
    {
     "name": "stdout",
     "output_type": "stream",
     "text": [
      "📈 New best model saved!\n"
     ]
    },
    {
     "data": {
      "application/vnd.jupyter.widget-view+json": {
       "model_id": "",
       "version_major": 2,
       "version_minor": 0
      },
      "text/plain": [
       "Training Batches:   0%|          | 0/353 [00:00<?, ?it/s]"
      ]
     },
     "metadata": {},
     "output_type": "display_data"
    },
    {
     "data": {
      "application/vnd.jupyter.widget-view+json": {
       "model_id": "",
       "version_major": 2,
       "version_minor": 0
      },
      "text/plain": [
       "Evaluating:   0%|          | 0/71 [00:00<?, ?it/s]"
      ]
     },
     "metadata": {},
     "output_type": "display_data"
    },
    {
     "name": "stdout",
     "output_type": "stream",
     "text": [
      "\n",
      "================================================================================\n",
      "⏱️  Epoch: 3/3\n",
      "================================================================================\n",
      "📊 Training   | Loss: 0.1097\n",
      "📊 Validation | Loss: 0.2562 | Accuracy: 0.9272 | F1 Score: 0.9272\n",
      "================================================================================\n",
      "\n",
      "✅ Training complete!\n"
     ]
    },
    {
     "data": {
      "image/png": "[encoded data removed]",
      "text/plain": [
       "<Figure size 1500x1000 with 2 Axes>"
      ]
     },
     "metadata": {},
     "output_type": "display_data"
    },
    {
     "name": "stdout",
     "output_type": "stream",
     "text": [
      "[INFO] Training complete.\n",
      "[INFO] Evaluating model...\n",
      "[INFO] Initializing model evaluator...\n",
      "[INFO] Running evaluation...\n",
      "[INFO] Evaluating model on 47 batches...\n",
      "[INFO] Evaluation complete. Processed 752 samples.\n",
      "[INFO] Calculating metrics...\n",
      "[INFO] Metrics calculated. Overall accuracy: 0.9189\n",
      "[INFO] Generating evaluation report at evaluation_results/distilbert-base-uncased_evaluation_report.pdf...\n"
     ]
    },
    {
     "name": "stderr",
     "output_type": "stream",
     "text": [
      "2025-03-10 14:46:57,263 - INFO - Evaluation report saved as 'evaluation_results/distilbert-base-uncased_evaluation_report.pdf'\n",
      "2025-03-10 14:46:57,276 - INFO - Evaluation report generated at evaluation_results/distilbert-base-uncased_evaluation_report.pdf\n",
      "2025-03-10 14:46:57,288 - INFO - Completed DistilBERT fine-tuning process.\n"
     ]
    },
    {
     "name": "stdout",
     "output_type": "stream",
     "text": [
      "[INFO] Evaluation report saved as 'evaluation_results/distilbert-base-uncased_evaluation_report.pdf'\n",
      "[INFO] Calculating metrics...\n",
      "[INFO] Metrics calculated. Overall accuracy: 0.9189\n",
      "[INFO] Evaluation report generated at evaluation_results/distilbert-base-uncased_evaluation_report.pdf\n",
      "[INFO] Model evaluation metrics: {'accuracy': 0.9188829787234043, 'precision': 0.9133858267716536, 'recall': 0.925531914893617, 'f1': 0.9194187582562748, 'per_class': {'Positive': {'precision': 0.9245283018867925, 'recall': 0.9122340425531915, 'f1-score': 0.9183400267737618, 'support': 376}, 'Negative': {'precision': 0.9133858267716536, 'recall': 0.925531914893617, 'f1-score': 0.9194187582562748, 'support': 376}}, 'confusion_matrix': array([[343,  33],\n",
      "       [ 28, 348]]), 'roc_auc': 0.9745183057944771, 'roc_curve': {'fpr': array([0.        , 0.        , 0.        , 0.        , 0.        ,\n",
      "       0.        , 0.        , 0.        , 0.        , 0.        ,\n",
      "       0.        , 0.        , 0.        , 0.00265957, 0.00265957,\n",
      "       0.00265957, 0.00265957, 0.00531915, 0.00531915, 0.00797872,\n",
      "       0.00797872, 0.00797872, 0.00797872, 0.0106383 , 0.0106383 ,\n",
      "       0.01329787, 0.01329787, 0.01329787, 0.01329787, 0.01595745,\n",
      "       0.01595745, 0.01861702, 0.01861702, 0.01861702, 0.01861702,\n",
      "       0.0212766 , 0.0212766 , 0.0212766 , 0.02393617, 0.02393617,\n",
      "       0.02393617, 0.02659574, 0.02659574, 0.02925532, 0.02925532,\n",
      "       0.03191489, 0.03191489, 0.03457447, 0.03457447, 0.03723404,\n",
      "       0.03723404, 0.03989362, 0.03989362, 0.03989362, 0.03989362,\n",
      "       0.04255319, 0.04255319, 0.04255319, 0.04255319, 0.04521277,\n",
      "       0.04521277, 0.05053191, 0.05053191, 0.05053191, 0.05319149,\n",
      "       0.05319149, 0.05319149, 0.05319149, 0.05585106, 0.05585106,\n",
      "       0.06117021, 0.06117021, 0.06382979, 0.06382979, 0.07180851,\n",
      "       0.07180851, 0.07446809, 0.07446809, 0.07712766, 0.07712766,\n",
      "       0.08244681, 0.08244681, 0.08510638, 0.08510638, 0.09042553,\n",
      "       0.09042553, 0.09042553, 0.09308511, 0.09308511, 0.10638298,\n",
      "       0.10638298, 0.11170213, 0.11170213, 0.11702128, 0.11702128,\n",
      "       0.11968085, 0.11968085, 0.13031915, 0.13031915, 0.14893617,\n",
      "       0.14893617, 0.15691489, 0.15691489, 0.16223404, 0.16755319,\n",
      "       0.18085106, 0.18085106, 0.18351064, 0.22340426, 0.2287234 ,\n",
      "       0.2287234 , 0.2393617 , 0.2393617 , 0.25265957, 0.25265957,\n",
      "       0.29787234, 0.29787234, 0.35106383, 0.35106383, 0.51595745,\n",
      "       0.51595745, 0.55053191, 0.55585106, 0.83510638, 0.84042553,\n",
      "       0.92553191, 0.93085106, 1.        ]), 'tpr': array([0.        , 0.00265957, 0.02659574, 0.03191489, 0.06117021,\n",
      "       0.06648936, 0.125     , 0.13031915, 0.36968085, 0.375     ,\n",
      "       0.40425532, 0.40957447, 0.44946809, 0.44946809, 0.48670213,\n",
      "       0.49202128, 0.5212766 , 0.5212766 , 0.55053191, 0.55053191,\n",
      "       0.55851064, 0.56382979, 0.56914894, 0.56914894, 0.57978723,\n",
      "       0.57978723, 0.61170213, 0.61702128, 0.625     , 0.625     ,\n",
      "       0.65159574, 0.65159574, 0.67287234, 0.67819149, 0.71276596,\n",
      "       0.71276596, 0.71808511, 0.74468085, 0.74468085, 0.74734043,\n",
      "       0.75265957, 0.75265957, 0.76595745, 0.76595745, 0.7712766 ,\n",
      "       0.7712766 , 0.77659574, 0.77659574, 0.78989362, 0.78989362,\n",
      "       0.80585106, 0.80585106, 0.80851064, 0.81382979, 0.81648936,\n",
      "       0.81648936, 0.83244681, 0.83776596, 0.84308511, 0.84308511,\n",
      "       0.8537234 , 0.8537234 , 0.85904255, 0.8643617 , 0.8643617 ,\n",
      "       0.87765957, 0.88297872, 0.89095745, 0.89095745, 0.8962766 ,\n",
      "       0.8962766 , 0.90159574, 0.90159574, 0.90425532, 0.90425532,\n",
      "       0.90957447, 0.90957447, 0.91223404, 0.91223404, 0.91489362,\n",
      "       0.91489362, 0.92021277, 0.92021277, 0.92553191, 0.92553191,\n",
      "       0.92819149, 0.93351064, 0.93351064, 0.93617021, 0.93617021,\n",
      "       0.93882979, 0.93882979, 0.94414894, 0.94414894, 0.95212766,\n",
      "       0.95212766, 0.95478723, 0.95478723, 0.96010638, 0.96010638,\n",
      "       0.96808511, 0.96808511, 0.97340426, 0.97340426, 0.97340426,\n",
      "       0.97340426, 0.9787234 , 0.98138298, 0.98138298, 0.98138298,\n",
      "       0.98404255, 0.98404255, 0.98670213, 0.98670213, 0.9893617 ,\n",
      "       0.9893617 , 0.99202128, 0.99202128, 0.99468085, 0.99468085,\n",
      "       1.        , 1.        , 1.        , 1.        , 1.        ,\n",
      "       1.        , 1.        , 1.        ])}, 'average_precision': 0.9740771072375399, 'pr_curve': {'precision': array([0.65964912, 0.6584507 , 0.65961199, 0.66077739, 0.6619469 ,\n",
      "       0.66312057, 0.6642984 , 0.66548043, 0.66666667, 0.66785714,\n",
      "       0.66905188, 0.6702509 , 0.67145422, 0.67266187, 0.67387387,\n",
      "       0.67509025, 0.67631103, 0.67753623, 0.67876588, 0.68      ,\n",
      "       0.68123862, 0.68248175, 0.68372943, 0.68498168, 0.68623853,\n",
      "       0.6875    , 0.68876611, 0.6900369 , 0.69131238, 0.69259259,\n",
      "       0.69387755, 0.69516729, 0.69646182, 0.69776119, 0.69906542,\n",
      "       0.70037453, 0.70168856, 0.70300752, 0.70433145, 0.70566038,\n",
      "       0.70699433, 0.70833333, 0.70967742, 0.71102662, 0.71238095,\n",
      "       0.71374046, 0.71510516, 0.7164751 , 0.71785029, 0.71923077,\n",
      "       0.72061657, 0.72200772, 0.72340426, 0.7248062 , 0.72621359,\n",
      "       0.72762646, 0.72904483, 0.73046875, 0.73189824, 0.73333333,\n",
      "       0.73477407, 0.73622047, 0.73767258, 0.73913043, 0.73861386,\n",
      "       0.74007937, 0.7415507 , 0.74302789, 0.74451098, 0.746     ,\n",
      "       0.74749499, 0.74899598, 0.75050302, 0.75201613, 0.75353535,\n",
      "       0.75506073, 0.75659229, 0.75813008, 0.75967413, 0.76122449,\n",
      "       0.76278119, 0.76434426, 0.76591376, 0.76748971, 0.76907216,\n",
      "       0.76859504, 0.77018634, 0.77178423, 0.77338877, 0.775     ,\n",
      "       0.77661795, 0.77824268, 0.77987421, 0.78151261, 0.78315789,\n",
      "       0.78481013, 0.78646934, 0.78813559, 0.78980892, 0.79148936,\n",
      "       0.79317697, 0.79487179, 0.79657388, 0.79613734, 0.79784946,\n",
      "       0.79956897, 0.8012959 , 0.8030303 , 0.80477223, 0.80434783,\n",
      "       0.80610022, 0.80786026, 0.80962801, 0.81140351, 0.81098901,\n",
      "       0.81456954, 0.81637168, 0.81818182, 0.82      , 0.82182628,\n",
      "       0.82366071, 0.82550336, 0.82735426, 0.82921348, 0.83108108,\n",
      "       0.83295711, 0.83484163, 0.83673469, 0.83863636, 0.8405467 ,\n",
      "       0.84246575, 0.8440367 , 0.84367816, 0.84331797, 0.84526559,\n",
      "       0.84722222, 0.84918794, 0.85116279, 0.85314685, 0.85714286,\n",
      "       0.85915493, 0.86117647, 0.86084906, 0.86052009, 0.86255924,\n",
      "       0.86460808, 0.86666667, 0.86634845, 0.86602871, 0.86570743,\n",
      "       0.86778846, 0.86987952, 0.87198068, 0.87409201, 0.87621359,\n",
      "       0.8783455 , 0.8804878 , 0.8801956 , 0.87990196, 0.88206388,\n",
      "       0.88423645, 0.88641975, 0.88861386, 0.88833747, 0.89054726,\n",
      "       0.89027431, 0.89      , 0.88972431, 0.8919598 , 0.89420655,\n",
      "       0.89393939, 0.89367089, 0.89593909, 0.89821883, 0.89795918,\n",
      "       0.90025575, 0.9025641 , 0.90488432, 0.90721649, 0.90956072,\n",
      "       0.90932642, 0.91168831, 0.91122715, 0.91099476, 0.91338583,\n",
      "       0.91578947, 0.91534392, 0.91777188, 0.91755319, 0.91733333,\n",
      "       0.9197861 , 0.92225201, 0.92204301, 0.9245283 , 0.92432432,\n",
      "       0.92682927, 0.92663043, 0.92643052, 0.92896175, 0.93150685,\n",
      "       0.93406593, 0.9338843 , 0.93646409, 0.93628809, 0.93611111,\n",
      "       0.93871866, 0.94134078, 0.94117647, 0.94101124, 0.94366197,\n",
      "       0.94350282, 0.94334278, 0.94318182, 0.94285714, 0.94269341,\n",
      "       0.94252874, 0.94236311, 0.94219653, 0.94202899, 0.94476744,\n",
      "       0.94460641, 0.94444444, 0.94411765, 0.94690265, 0.94970414,\n",
      "       0.9495549 , 0.94940476, 0.94925373, 0.9491018 , 0.95195195,\n",
      "       0.95180723, 0.95166163, 0.95136778, 0.95121951, 0.95107034,\n",
      "       0.95092025, 0.95076923, 0.95061728, 0.9504644 , 0.95341615,\n",
      "       0.95327103, 0.95297806, 0.95283019, 0.95583596, 0.9556962 ,\n",
      "       0.95555556, 0.95541401, 0.95527157, 0.95512821, 0.95498392,\n",
      "       0.95806452, 0.9579288 , 0.95779221, 0.95765472, 0.95751634,\n",
      "       0.95737705, 0.96052632, 0.96039604, 0.9602649 , 0.96345515,\n",
      "       0.96333333, 0.9632107 , 0.96644295, 0.96632997, 0.96621622,\n",
      "       0.96610169, 0.96598639, 0.96587031, 0.96917808, 0.96896552,\n",
      "       0.96885813, 0.97222222, 0.97212544, 0.97202797, 0.97192982,\n",
      "       0.97183099, 0.97173145, 0.97163121, 0.97153025, 0.97142857,\n",
      "       0.97132616, 0.97122302, 0.97101449, 0.97454545, 0.97445255,\n",
      "       0.97435897, 0.97426471, 0.97416974, 0.97407407, 0.9739777 ,\n",
      "       0.9738806 , 0.97378277, 0.97368421, 0.97358491, 0.97348485,\n",
      "       0.97338403, 0.97328244, 0.97307692, 0.97297297, 0.97286822,\n",
      "       0.97276265, 0.97265625, 0.97254902, 0.97244094, 0.97233202,\n",
      "       0.97222222, 0.97609562, 0.976     , 0.97590361, 0.97580645,\n",
      "       0.9757085 , 0.97560976, 0.9755102 , 0.97540984, 0.97530864,\n",
      "       0.97520661, 0.97510373, 0.97916667, 0.9790795 , 0.9789916 ,\n",
      "       0.97890295, 0.9787234 , 0.97863248, 0.97854077, 0.97844828,\n",
      "       0.97835498, 0.97826087, 0.97816594, 0.97807018, 0.97797357,\n",
      "       0.97787611, 0.97777778, 0.97767857, 0.97757848, 0.98198198,\n",
      "       0.98190045, 0.98181818, 0.98173516, 0.98165138, 0.98617512,\n",
      "       0.98611111, 0.98604651, 0.98591549, 0.98584906, 0.98578199,\n",
      "       0.98571429, 0.99043062, 0.99038462, 0.99033816, 0.99029126,\n",
      "       0.9902439 , 0.99019608, 0.99014778, 0.99009901, 0.99004975,\n",
      "       0.99      , 0.98994975, 0.98989899, 0.99492386, 0.99489796,\n",
      "       0.99487179, 0.99484536, 0.99481865, 0.99479167, 0.9947644 ,\n",
      "       0.99473684, 0.99470899, 0.99468085, 0.99465241, 0.99462366,\n",
      "       0.99456522, 0.99453552, 0.99450549, 0.99447514, 0.99444444,\n",
      "       0.99441341, 0.99438202, 0.99435028, 0.99431818, 0.99428571,\n",
      "       0.99425287, 0.99421965, 0.99418605, 0.99415205, 0.99411765,\n",
      "       1.        , 1.        , 1.        , 1.        , 1.        ,\n",
      "       1.        , 1.        , 1.        , 1.        , 1.        ,\n",
      "       1.        , 1.        , 1.        , 1.        , 1.        ,\n",
      "       1.        , 1.        , 1.        , 1.        , 1.        ,\n",
      "       1.        , 1.        , 1.        , 1.        , 1.        ,\n",
      "       1.        , 1.        , 1.        , 1.        , 1.        ,\n",
      "       1.        , 1.        , 1.        , 1.        , 1.        ,\n",
      "       1.        , 1.        , 1.        , 1.        , 1.        ,\n",
      "       1.        , 1.        , 1.        , 1.        , 1.        ,\n",
      "       1.        , 1.        , 1.        , 1.        , 1.        ,\n",
      "       1.        , 1.        , 1.        , 1.        , 1.        ,\n",
      "       1.        , 1.        , 1.        , 1.        , 1.        ,\n",
      "       1.        , 1.        , 1.        , 1.        , 1.        ,\n",
      "       1.        , 1.        , 1.        , 1.        , 1.        ,\n",
      "       1.        , 1.        , 1.        , 1.        , 1.        ,\n",
      "       1.        , 1.        , 1.        , 1.        , 1.        ,\n",
      "       1.        , 1.        , 1.        , 1.        , 1.        ,\n",
      "       1.        , 1.        , 1.        , 1.        , 1.        ,\n",
      "       1.        , 1.        , 1.        , 1.        , 1.        ,\n",
      "       1.        , 1.        , 1.        , 1.        , 1.        ,\n",
      "       1.        , 1.        , 1.        , 1.        , 1.        ,\n",
      "       1.        , 1.        , 1.        , 1.        , 1.        ,\n",
      "       1.        , 1.        , 1.        , 1.        , 1.        ,\n",
      "       1.        , 1.        , 1.        , 1.        , 1.        ,\n",
      "       1.        , 1.        , 1.        , 1.        , 1.        ,\n",
      "       1.        , 1.        , 1.        , 1.        , 1.        ,\n",
      "       1.        , 1.        , 1.        , 1.        , 1.        ,\n",
      "       1.        , 1.        , 1.        , 1.        , 1.        ,\n",
      "       1.        , 1.        , 1.        , 1.        , 1.        ,\n",
      "       1.        , 1.        , 1.        , 1.        , 1.        ,\n",
      "       1.        , 1.        , 1.        , 1.        , 1.        ,\n",
      "       1.        , 1.        , 1.        , 1.        , 1.        ,\n",
      "       1.        , 1.        , 1.        , 1.        , 1.        ]), 'recall': array([1.        , 0.99468085, 0.99468085, 0.99468085, 0.99468085,\n",
      "       0.99468085, 0.99468085, 0.99468085, 0.99468085, 0.99468085,\n",
      "       0.99468085, 0.99468085, 0.99468085, 0.99468085, 0.99468085,\n",
      "       0.99468085, 0.99468085, 0.99468085, 0.99468085, 0.99468085,\n",
      "       0.99468085, 0.99468085, 0.99468085, 0.99468085, 0.99468085,\n",
      "       0.99468085, 0.99468085, 0.99468085, 0.99468085, 0.99468085,\n",
      "       0.99468085, 0.99468085, 0.99468085, 0.99468085, 0.99468085,\n",
      "       0.99468085, 0.99468085, 0.99468085, 0.99468085, 0.99468085,\n",
      "       0.99468085, 0.99468085, 0.99468085, 0.99468085, 0.99468085,\n",
      "       0.99468085, 0.99468085, 0.99468085, 0.99468085, 0.99468085,\n",
      "       0.99468085, 0.99468085, 0.99468085, 0.99468085, 0.99468085,\n",
      "       0.99468085, 0.99468085, 0.99468085, 0.99468085, 0.99468085,\n",
      "       0.99468085, 0.99468085, 0.99468085, 0.99468085, 0.99202128,\n",
      "       0.99202128, 0.99202128, 0.99202128, 0.99202128, 0.99202128,\n",
      "       0.99202128, 0.99202128, 0.99202128, 0.99202128, 0.99202128,\n",
      "       0.99202128, 0.99202128, 0.99202128, 0.99202128, 0.99202128,\n",
      "       0.99202128, 0.99202128, 0.99202128, 0.99202128, 0.99202128,\n",
      "       0.9893617 , 0.9893617 , 0.9893617 , 0.9893617 , 0.9893617 ,\n",
      "       0.9893617 , 0.9893617 , 0.9893617 , 0.9893617 , 0.9893617 ,\n",
      "       0.9893617 , 0.9893617 , 0.9893617 , 0.9893617 , 0.9893617 ,\n",
      "       0.9893617 , 0.9893617 , 0.9893617 , 0.98670213, 0.98670213,\n",
      "       0.98670213, 0.98670213, 0.98670213, 0.98670213, 0.98404255,\n",
      "       0.98404255, 0.98404255, 0.98404255, 0.98404255, 0.98138298,\n",
      "       0.98138298, 0.98138298, 0.98138298, 0.98138298, 0.98138298,\n",
      "       0.98138298, 0.98138298, 0.98138298, 0.98138298, 0.98138298,\n",
      "       0.98138298, 0.98138298, 0.98138298, 0.98138298, 0.98138298,\n",
      "       0.98138298, 0.9787234 , 0.97606383, 0.97340426, 0.97340426,\n",
      "       0.97340426, 0.97340426, 0.97340426, 0.97340426, 0.97340426,\n",
      "       0.97340426, 0.97340426, 0.97074468, 0.96808511, 0.96808511,\n",
      "       0.96808511, 0.96808511, 0.96542553, 0.96276596, 0.96010638,\n",
      "       0.96010638, 0.96010638, 0.96010638, 0.96010638, 0.96010638,\n",
      "       0.96010638, 0.96010638, 0.95744681, 0.95478723, 0.95478723,\n",
      "       0.95478723, 0.95478723, 0.95478723, 0.95212766, 0.95212766,\n",
      "       0.94946809, 0.94680851, 0.94414894, 0.94414894, 0.94414894,\n",
      "       0.94148936, 0.93882979, 0.93882979, 0.93882979, 0.93617021,\n",
      "       0.93617021, 0.93617021, 0.93617021, 0.93617021, 0.93617021,\n",
      "       0.93351064, 0.93351064, 0.92819149, 0.92553191, 0.92553191,\n",
      "       0.92553191, 0.92021277, 0.92021277, 0.91755319, 0.91489362,\n",
      "       0.91489362, 0.91489362, 0.91223404, 0.91223404, 0.90957447,\n",
      "       0.90957447, 0.90691489, 0.90425532, 0.90425532, 0.90425532,\n",
      "       0.90425532, 0.90159574, 0.90159574, 0.89893617, 0.8962766 ,\n",
      "       0.8962766 , 0.8962766 , 0.89361702, 0.89095745, 0.89095745,\n",
      "       0.88829787, 0.8856383 , 0.88297872, 0.87765957, 0.875     ,\n",
      "       0.87234043, 0.86968085, 0.86702128, 0.8643617 , 0.8643617 ,\n",
      "       0.86170213, 0.85904255, 0.8537234 , 0.8537234 , 0.8537234 ,\n",
      "       0.85106383, 0.84840426, 0.84574468, 0.84308511, 0.84308511,\n",
      "       0.84042553, 0.83776596, 0.83244681, 0.82978723, 0.82712766,\n",
      "       0.82446809, 0.82180851, 0.81914894, 0.81648936, 0.81648936,\n",
      "       0.81382979, 0.80851064, 0.80585106, 0.80585106, 0.80319149,\n",
      "       0.80053191, 0.79787234, 0.79521277, 0.79255319, 0.78989362,\n",
      "       0.78989362, 0.78723404, 0.78457447, 0.78191489, 0.77925532,\n",
      "       0.77659574, 0.77659574, 0.77393617, 0.7712766 , 0.7712766 ,\n",
      "       0.76861702, 0.76595745, 0.76595745, 0.76329787, 0.7606383 ,\n",
      "       0.75797872, 0.75531915, 0.75265957, 0.75265957, 0.74734043,\n",
      "       0.74468085, 0.74468085, 0.74202128, 0.7393617 , 0.73670213,\n",
      "       0.73404255, 0.73138298, 0.7287234 , 0.72606383, 0.72340426,\n",
      "       0.72074468, 0.71808511, 0.71276596, 0.71276596, 0.71010638,\n",
      "       0.70744681, 0.70478723, 0.70212766, 0.69946809, 0.69680851,\n",
      "       0.69414894, 0.69148936, 0.68882979, 0.68617021, 0.68351064,\n",
      "       0.68085106, 0.67819149, 0.67287234, 0.67021277, 0.66755319,\n",
      "       0.66489362, 0.66223404, 0.65957447, 0.65691489, 0.65425532,\n",
      "       0.65159574, 0.65159574, 0.64893617, 0.6462766 , 0.64361702,\n",
      "       0.64095745, 0.63829787, 0.6356383 , 0.63297872, 0.63031915,\n",
      "       0.62765957, 0.625     , 0.625     , 0.62234043, 0.61968085,\n",
      "       0.61702128, 0.61170213, 0.60904255, 0.60638298, 0.6037234 ,\n",
      "       0.60106383, 0.59840426, 0.59574468, 0.59308511, 0.59042553,\n",
      "       0.58776596, 0.58510638, 0.58244681, 0.57978723, 0.57978723,\n",
      "       0.57712766, 0.57446809, 0.57180851, 0.56914894, 0.56914894,\n",
      "       0.56648936, 0.56382979, 0.55851064, 0.55585106, 0.55319149,\n",
      "       0.55053191, 0.55053191, 0.54787234, 0.54521277, 0.54255319,\n",
      "       0.53989362, 0.53723404, 0.53457447, 0.53191489, 0.52925532,\n",
      "       0.52659574, 0.52393617, 0.5212766 , 0.5212766 , 0.51861702,\n",
      "       0.51595745, 0.51329787, 0.5106383 , 0.50797872, 0.50531915,\n",
      "       0.50265957, 0.5       , 0.49734043, 0.49468085, 0.49202128,\n",
      "       0.48670213, 0.48404255, 0.48138298, 0.4787234 , 0.47606383,\n",
      "       0.47340426, 0.47074468, 0.46808511, 0.46542553, 0.46276596,\n",
      "       0.46010638, 0.45744681, 0.45478723, 0.45212766, 0.44946809,\n",
      "       0.44946809, 0.44680851, 0.44414894, 0.44148936, 0.43882979,\n",
      "       0.43617021, 0.43351064, 0.43085106, 0.42819149, 0.42553191,\n",
      "       0.42287234, 0.42021277, 0.41755319, 0.41489362, 0.41223404,\n",
      "       0.40957447, 0.40425532, 0.40159574, 0.39893617, 0.3962766 ,\n",
      "       0.39361702, 0.39095745, 0.38829787, 0.3856383 , 0.38297872,\n",
      "       0.38031915, 0.37765957, 0.375     , 0.36968085, 0.36702128,\n",
      "       0.3643617 , 0.36170213, 0.35904255, 0.35638298, 0.3537234 ,\n",
      "       0.35106383, 0.34840426, 0.34574468, 0.34308511, 0.34042553,\n",
      "       0.33776596, 0.33510638, 0.33244681, 0.32978723, 0.32712766,\n",
      "       0.32446809, 0.32180851, 0.31914894, 0.31648936, 0.31382979,\n",
      "       0.31117021, 0.30851064, 0.30585106, 0.30319149, 0.30053191,\n",
      "       0.29787234, 0.29521277, 0.29255319, 0.28989362, 0.28723404,\n",
      "       0.28457447, 0.28191489, 0.27925532, 0.27659574, 0.27393617,\n",
      "       0.2712766 , 0.26861702, 0.26595745, 0.26329787, 0.2606383 ,\n",
      "       0.25797872, 0.25531915, 0.25265957, 0.25      , 0.24734043,\n",
      "       0.24468085, 0.24202128, 0.2393617 , 0.23670213, 0.23404255,\n",
      "       0.23138298, 0.2287234 , 0.22606383, 0.22340426, 0.22074468,\n",
      "       0.21808511, 0.21542553, 0.21276596, 0.21010638, 0.20744681,\n",
      "       0.20478723, 0.20212766, 0.19946809, 0.19680851, 0.19414894,\n",
      "       0.19148936, 0.18882979, 0.18617021, 0.18351064, 0.18085106,\n",
      "       0.17819149, 0.17553191, 0.17287234, 0.17021277, 0.16755319,\n",
      "       0.16489362, 0.16223404, 0.15957447, 0.15691489, 0.15425532,\n",
      "       0.15159574, 0.14893617, 0.1462766 , 0.14361702, 0.14095745,\n",
      "       0.13829787, 0.1356383 , 0.13297872, 0.13031915, 0.125     ,\n",
      "       0.12234043, 0.11968085, 0.11702128, 0.1143617 , 0.11170213,\n",
      "       0.10904255, 0.10638298, 0.1037234 , 0.10106383, 0.09840426,\n",
      "       0.09574468, 0.09308511, 0.09042553, 0.08776596, 0.08510638,\n",
      "       0.08244681, 0.07978723, 0.07712766, 0.07446809, 0.07180851,\n",
      "       0.06914894, 0.06648936, 0.06117021, 0.05851064, 0.05585106,\n",
      "       0.05319149, 0.05053191, 0.04787234, 0.04521277, 0.04255319,\n",
      "       0.03989362, 0.03723404, 0.03457447, 0.03191489, 0.02659574,\n",
      "       0.02393617, 0.0212766 , 0.01861702, 0.01595745, 0.01329787,\n",
      "       0.0106383 , 0.00797872, 0.00531915, 0.00265957, 0.        ])}}\n",
      "[INFO] Fine-tuning process completed.\n",
      "\n",
      "Fine-tuning completed with metrics: {'accuracy': 0.9188829787234043, 'precision': 0.9133858267716536, 'recall': 0.925531914893617, 'f1': 0.9194187582562748, 'per_class': {'Positive': {'precision': 0.9245283018867925, 'recall': 0.9122340425531915, 'f1-score': 0.9183400267737618, 'support': 376}, 'Negative': {'precision': 0.9133858267716536, 'recall': 0.925531914893617, 'f1-score': 0.9194187582562748, 'support': 376}}, 'confusion_matrix': array([[343,  33],\n",
      "       [ 28, 348]]), 'roc_auc': 0.9745183057944771, 'roc_curve': {'fpr': array([0.        , 0.        , 0.        , 0.        , 0.        ,\n",
      "       0.        , 0.        , 0.        , 0.        , 0.        ,\n",
      "       0.        , 0.        , 0.        , 0.00265957, 0.00265957,\n",
      "       0.00265957, 0.00265957, 0.00531915, 0.00531915, 0.00797872,\n",
      "       0.00797872, 0.00797872, 0.00797872, 0.0106383 , 0.0106383 ,\n",
      "       0.01329787, 0.01329787, 0.01329787, 0.01329787, 0.01595745,\n",
      "       0.01595745, 0.01861702, 0.01861702, 0.01861702, 0.01861702,\n",
      "       0.0212766 , 0.0212766 , 0.0212766 , 0.02393617, 0.02393617,\n",
      "       0.02393617, 0.02659574, 0.02659574, 0.02925532, 0.02925532,\n",
      "       0.03191489, 0.03191489, 0.03457447, 0.03457447, 0.03723404,\n",
      "       0.03723404, 0.03989362, 0.03989362, 0.03989362, 0.03989362,\n",
      "       0.04255319, 0.04255319, 0.04255319, 0.04255319, 0.04521277,\n",
      "       0.04521277, 0.05053191, 0.05053191, 0.05053191, 0.05319149,\n",
      "       0.05319149, 0.05319149, 0.05319149, 0.05585106, 0.05585106,\n",
      "       0.06117021, 0.06117021, 0.06382979, 0.06382979, 0.07180851,\n",
      "       0.07180851, 0.07446809, 0.07446809, 0.07712766, 0.07712766,\n",
      "       0.08244681, 0.08244681, 0.08510638, 0.08510638, 0.09042553,\n",
      "       0.09042553, 0.09042553, 0.09308511, 0.09308511, 0.10638298,\n",
      "       0.10638298, 0.11170213, 0.11170213, 0.11702128, 0.11702128,\n",
      "       0.11968085, 0.11968085, 0.13031915, 0.13031915, 0.14893617,\n",
      "       0.14893617, 0.15691489, 0.15691489, 0.16223404, 0.16755319,\n",
      "       0.18085106, 0.18085106, 0.18351064, 0.22340426, 0.2287234 ,\n",
      "       0.2287234 , 0.2393617 , 0.2393617 , 0.25265957, 0.25265957,\n",
      "       0.29787234, 0.29787234, 0.35106383, 0.35106383, 0.51595745,\n",
      "       0.51595745, 0.55053191, 0.55585106, 0.83510638, 0.84042553,\n",
      "       0.92553191, 0.93085106, 1.        ]), 'tpr': array([0.        , 0.00265957, 0.02659574, 0.03191489, 0.06117021,\n",
      "       0.06648936, 0.125     , 0.13031915, 0.36968085, 0.375     ,\n",
      "       0.40425532, 0.40957447, 0.44946809, 0.44946809, 0.48670213,\n",
      "       0.49202128, 0.5212766 , 0.5212766 , 0.55053191, 0.55053191,\n",
      "       0.55851064, 0.56382979, 0.56914894, 0.56914894, 0.57978723,\n",
      "       0.57978723, 0.61170213, 0.61702128, 0.625     , 0.625     ,\n",
      "       0.65159574, 0.65159574, 0.67287234, 0.67819149, 0.71276596,\n",
      "       0.71276596, 0.71808511, 0.74468085, 0.74468085, 0.74734043,\n",
      "       0.75265957, 0.75265957, 0.76595745, 0.76595745, 0.7712766 ,\n",
      "       0.7712766 , 0.77659574, 0.77659574, 0.78989362, 0.78989362,\n",
      "       0.80585106, 0.80585106, 0.80851064, 0.81382979, 0.81648936,\n",
      "       0.81648936, 0.83244681, 0.83776596, 0.84308511, 0.84308511,\n",
      "       0.8537234 , 0.8537234 , 0.85904255, 0.8643617 , 0.8643617 ,\n",
      "       0.87765957, 0.88297872, 0.89095745, 0.89095745, 0.8962766 ,\n",
      "       0.8962766 , 0.90159574, 0.90159574, 0.90425532, 0.90425532,\n",
      "       0.90957447, 0.90957447, 0.91223404, 0.91223404, 0.91489362,\n",
      "       0.91489362, 0.92021277, 0.92021277, 0.92553191, 0.92553191,\n",
      "       0.92819149, 0.93351064, 0.93351064, 0.93617021, 0.93617021,\n",
      "       0.93882979, 0.93882979, 0.94414894, 0.94414894, 0.95212766,\n",
      "       0.95212766, 0.95478723, 0.95478723, 0.96010638, 0.96010638,\n",
      "       0.96808511, 0.96808511, 0.97340426, 0.97340426, 0.97340426,\n",
      "       0.97340426, 0.9787234 , 0.98138298, 0.98138298, 0.98138298,\n",
      "       0.98404255, 0.98404255, 0.98670213, 0.98670213, 0.9893617 ,\n",
      "       0.9893617 , 0.99202128, 0.99202128, 0.99468085, 0.99468085,\n",
      "       1.        , 1.        , 1.        , 1.        , 1.        ,\n",
      "       1.        , 1.        , 1.        ])}, 'average_precision': 0.9740771072375399, 'pr_curve': {'precision': array([0.65964912, 0.6584507 , 0.65961199, 0.66077739, 0.6619469 ,\n",
      "       0.66312057, 0.6642984 , 0.66548043, 0.66666667, 0.66785714,\n",
      "       0.66905188, 0.6702509 , 0.67145422, 0.67266187, 0.67387387,\n",
      "       0.67509025, 0.67631103, 0.67753623, 0.67876588, 0.68      ,\n",
      "       0.68123862, 0.68248175, 0.68372943, 0.68498168, 0.68623853,\n",
      "       0.6875    , 0.68876611, 0.6900369 , 0.69131238, 0.69259259,\n",
      "       0.69387755, 0.69516729, 0.69646182, 0.69776119, 0.69906542,\n",
      "       0.70037453, 0.70168856, 0.70300752, 0.70433145, 0.70566038,\n",
      "       0.70699433, 0.70833333, 0.70967742, 0.71102662, 0.71238095,\n",
      "       0.71374046, 0.71510516, 0.7164751 , 0.71785029, 0.71923077,\n",
      "       0.72061657, 0.72200772, 0.72340426, 0.7248062 , 0.72621359,\n",
      "       0.72762646, 0.72904483, 0.73046875, 0.73189824, 0.73333333,\n",
      "       0.73477407, 0.73622047, 0.73767258, 0.73913043, 0.73861386,\n",
      "       0.74007937, 0.7415507 , 0.74302789, 0.74451098, 0.746     ,\n",
      "       0.74749499, 0.74899598, 0.75050302, 0.75201613, 0.75353535,\n",
      "       0.75506073, 0.75659229, 0.75813008, 0.75967413, 0.76122449,\n",
      "       0.76278119, 0.76434426, 0.76591376, 0.76748971, 0.76907216,\n",
      "       0.76859504, 0.77018634, 0.77178423, 0.77338877, 0.775     ,\n",
      "       0.77661795, 0.77824268, 0.77987421, 0.78151261, 0.78315789,\n",
      "       0.78481013, 0.78646934, 0.78813559, 0.78980892, 0.79148936,\n",
      "       0.79317697, 0.79487179, 0.79657388, 0.79613734, 0.79784946,\n",
      "       0.79956897, 0.8012959 , 0.8030303 , 0.80477223, 0.80434783,\n",
      "       0.80610022, 0.80786026, 0.80962801, 0.81140351, 0.81098901,\n",
      "       0.81456954, 0.81637168, 0.81818182, 0.82      , 0.82182628,\n",
      "       0.82366071, 0.82550336, 0.82735426, 0.82921348, 0.83108108,\n",
      "       0.83295711, 0.83484163, 0.83673469, 0.83863636, 0.8405467 ,\n",
      "       0.84246575, 0.8440367 , 0.84367816, 0.84331797, 0.84526559,\n",
      "       0.84722222, 0.84918794, 0.85116279, 0.85314685, 0.85714286,\n",
      "       0.85915493, 0.86117647, 0.86084906, 0.86052009, 0.86255924,\n",
      "       0.86460808, 0.86666667, 0.86634845, 0.86602871, 0.86570743,\n",
      "       0.86778846, 0.86987952, 0.87198068, 0.87409201, 0.87621359,\n",
      "       0.8783455 , 0.8804878 , 0.8801956 , 0.87990196, 0.88206388,\n",
      "       0.88423645, 0.88641975, 0.88861386, 0.88833747, 0.89054726,\n",
      "       0.89027431, 0.89      , 0.88972431, 0.8919598 , 0.89420655,\n",
      "       0.89393939, 0.89367089, 0.89593909, 0.89821883, 0.89795918,\n",
      "       0.90025575, 0.9025641 , 0.90488432, 0.90721649, 0.90956072,\n",
      "       0.90932642, 0.91168831, 0.91122715, 0.91099476, 0.91338583,\n",
      "       0.91578947, 0.91534392, 0.91777188, 0.91755319, 0.91733333,\n",
      "       0.9197861 , 0.92225201, 0.92204301, 0.9245283 , 0.92432432,\n",
      "       0.92682927, 0.92663043, 0.92643052, 0.92896175, 0.93150685,\n",
      "       0.93406593, 0.9338843 , 0.93646409, 0.93628809, 0.93611111,\n",
      "       0.93871866, 0.94134078, 0.94117647, 0.94101124, 0.94366197,\n",
      "       0.94350282, 0.94334278, 0.94318182, 0.94285714, 0.94269341,\n",
      "       0.94252874, 0.94236311, 0.94219653, 0.94202899, 0.94476744,\n",
      "       0.94460641, 0.94444444, 0.94411765, 0.94690265, 0.94970414,\n",
      "       0.9495549 , 0.94940476, 0.94925373, 0.9491018 , 0.95195195,\n",
      "       0.95180723, 0.95166163, 0.95136778, 0.95121951, 0.95107034,\n",
      "       0.95092025, 0.95076923, 0.95061728, 0.9504644 , 0.95341615,\n",
      "       0.95327103, 0.95297806, 0.95283019, 0.95583596, 0.9556962 ,\n",
      "       0.95555556, 0.95541401, 0.95527157, 0.95512821, 0.95498392,\n",
      "       0.95806452, 0.9579288 , 0.95779221, 0.95765472, 0.95751634,\n",
      "       0.95737705, 0.96052632, 0.96039604, 0.9602649 , 0.96345515,\n",
      "       0.96333333, 0.9632107 , 0.96644295, 0.96632997, 0.96621622,\n",
      "       0.96610169, 0.96598639, 0.96587031, 0.96917808, 0.96896552,\n",
      "       0.96885813, 0.97222222, 0.97212544, 0.97202797, 0.97192982,\n",
      "       0.97183099, 0.97173145, 0.97163121, 0.97153025, 0.97142857,\n",
      "       0.97132616, 0.97122302, 0.97101449, 0.97454545, 0.97445255,\n",
      "       0.97435897, 0.97426471, 0.97416974, 0.97407407, 0.9739777 ,\n",
      "       0.9738806 , 0.97378277, 0.97368421, 0.97358491, 0.97348485,\n",
      "       0.97338403, 0.97328244, 0.97307692, 0.97297297, 0.97286822,\n",
      "       0.97276265, 0.97265625, 0.97254902, 0.97244094, 0.97233202,\n",
      "       0.97222222, 0.97609562, 0.976     , 0.97590361, 0.97580645,\n",
      "       0.9757085 , 0.97560976, 0.9755102 , 0.97540984, 0.97530864,\n",
      "       0.97520661, 0.97510373, 0.97916667, 0.9790795 , 0.9789916 ,\n",
      "       0.97890295, 0.9787234 , 0.97863248, 0.97854077, 0.97844828,\n",
      "       0.97835498, 0.97826087, 0.97816594, 0.97807018, 0.97797357,\n",
      "       0.97787611, 0.97777778, 0.97767857, 0.97757848, 0.98198198,\n",
      "       0.98190045, 0.98181818, 0.98173516, 0.98165138, 0.98617512,\n",
      "       0.98611111, 0.98604651, 0.98591549, 0.98584906, 0.98578199,\n",
      "       0.98571429, 0.99043062, 0.99038462, 0.99033816, 0.99029126,\n",
      "       0.9902439 , 0.99019608, 0.99014778, 0.99009901, 0.99004975,\n",
      "       0.99      , 0.98994975, 0.98989899, 0.99492386, 0.99489796,\n",
      "       0.99487179, 0.99484536, 0.99481865, 0.99479167, 0.9947644 ,\n",
      "       0.99473684, 0.99470899, 0.99468085, 0.99465241, 0.99462366,\n",
      "       0.99456522, 0.99453552, 0.99450549, 0.99447514, 0.99444444,\n",
      "       0.99441341, 0.99438202, 0.99435028, 0.99431818, 0.99428571,\n",
      "       0.99425287, 0.99421965, 0.99418605, 0.99415205, 0.99411765,\n",
      "       1.        , 1.        , 1.        , 1.        , 1.        ,\n",
      "       1.        , 1.        , 1.        , 1.        , 1.        ,\n",
      "       1.        , 1.        , 1.        , 1.        , 1.        ,\n",
      "       1.        , 1.        , 1.        , 1.        , 1.        ,\n",
      "       1.        , 1.        , 1.        , 1.        , 1.        ,\n",
      "       1.        , 1.        , 1.        , 1.        , 1.        ,\n",
      "       1.        , 1.        , 1.        , 1.        , 1.        ,\n",
      "       1.        , 1.        , 1.        , 1.        , 1.        ,\n",
      "       1.        , 1.        , 1.        , 1.        , 1.        ,\n",
      "       1.        , 1.        , 1.        , 1.        , 1.        ,\n",
      "       1.        , 1.        , 1.        , 1.        , 1.        ,\n",
      "       1.        , 1.        , 1.        , 1.        , 1.        ,\n",
      "       1.        , 1.        , 1.        , 1.        , 1.        ,\n",
      "       1.        , 1.        , 1.        , 1.        , 1.        ,\n",
      "       1.        , 1.        , 1.        , 1.        , 1.        ,\n",
      "       1.        , 1.        , 1.        , 1.        , 1.        ,\n",
      "       1.        , 1.        , 1.        , 1.        , 1.        ,\n",
      "       1.        , 1.        , 1.        , 1.        , 1.        ,\n",
      "       1.        , 1.        , 1.        , 1.        , 1.        ,\n",
      "       1.        , 1.        , 1.        , 1.        , 1.        ,\n",
      "       1.        , 1.        , 1.        , 1.        , 1.        ,\n",
      "       1.        , 1.        , 1.        , 1.        , 1.        ,\n",
      "       1.        , 1.        , 1.        , 1.        , 1.        ,\n",
      "       1.        , 1.        , 1.        , 1.        , 1.        ,\n",
      "       1.        , 1.        , 1.        , 1.        , 1.        ,\n",
      "       1.        , 1.        , 1.        , 1.        , 1.        ,\n",
      "       1.        , 1.        , 1.        , 1.        , 1.        ,\n",
      "       1.        , 1.        , 1.        , 1.        , 1.        ,\n",
      "       1.        , 1.        , 1.        , 1.        , 1.        ,\n",
      "       1.        , 1.        , 1.        , 1.        , 1.        ,\n",
      "       1.        , 1.        , 1.        , 1.        , 1.        ,\n",
      "       1.        , 1.        , 1.        , 1.        , 1.        ,\n",
      "       1.        , 1.        , 1.        , 1.        , 1.        ]), 'recall': array([1.        , 0.99468085, 0.99468085, 0.99468085, 0.99468085,\n",
      "       0.99468085, 0.99468085, 0.99468085, 0.99468085, 0.99468085,\n",
      "       0.99468085, 0.99468085, 0.99468085, 0.99468085, 0.99468085,\n",
      "       0.99468085, 0.99468085, 0.99468085, 0.99468085, 0.99468085,\n",
      "       0.99468085, 0.99468085, 0.99468085, 0.99468085, 0.99468085,\n",
      "       0.99468085, 0.99468085, 0.99468085, 0.99468085, 0.99468085,\n",
      "       0.99468085, 0.99468085, 0.99468085, 0.99468085, 0.99468085,\n",
      "       0.99468085, 0.99468085, 0.99468085, 0.99468085, 0.99468085,\n",
      "       0.99468085, 0.99468085, 0.99468085, 0.99468085, 0.99468085,\n",
      "       0.99468085, 0.99468085, 0.99468085, 0.99468085, 0.99468085,\n",
      "       0.99468085, 0.99468085, 0.99468085, 0.99468085, 0.99468085,\n",
      "       0.99468085, 0.99468085, 0.99468085, 0.99468085, 0.99468085,\n",
      "       0.99468085, 0.99468085, 0.99468085, 0.99468085, 0.99202128,\n",
      "       0.99202128, 0.99202128, 0.99202128, 0.99202128, 0.99202128,\n",
      "       0.99202128, 0.99202128, 0.99202128, 0.99202128, 0.99202128,\n",
      "       0.99202128, 0.99202128, 0.99202128, 0.99202128, 0.99202128,\n",
      "       0.99202128, 0.99202128, 0.99202128, 0.99202128, 0.99202128,\n",
      "       0.9893617 , 0.9893617 , 0.9893617 , 0.9893617 , 0.9893617 ,\n",
      "       0.9893617 , 0.9893617 , 0.9893617 , 0.9893617 , 0.9893617 ,\n",
      "       0.9893617 , 0.9893617 , 0.9893617 , 0.9893617 , 0.9893617 ,\n",
      "       0.9893617 , 0.9893617 , 0.9893617 , 0.98670213, 0.98670213,\n",
      "       0.98670213, 0.98670213, 0.98670213, 0.98670213, 0.98404255,\n",
      "       0.98404255, 0.98404255, 0.98404255, 0.98404255, 0.98138298,\n",
      "       0.98138298, 0.98138298, 0.98138298, 0.98138298, 0.98138298,\n",
      "       0.98138298, 0.98138298, 0.98138298, 0.98138298, 0.98138298,\n",
      "       0.98138298, 0.98138298, 0.98138298, 0.98138298, 0.98138298,\n",
      "       0.98138298, 0.9787234 , 0.97606383, 0.97340426, 0.97340426,\n",
      "       0.97340426, 0.97340426, 0.97340426, 0.97340426, 0.97340426,\n",
      "       0.97340426, 0.97340426, 0.97074468, 0.96808511, 0.96808511,\n",
      "       0.96808511, 0.96808511, 0.96542553, 0.96276596, 0.96010638,\n",
      "       0.96010638, 0.96010638, 0.96010638, 0.96010638, 0.96010638,\n",
      "       0.96010638, 0.96010638, 0.95744681, 0.95478723, 0.95478723,\n",
      "       0.95478723, 0.95478723, 0.95478723, 0.95212766, 0.95212766,\n",
      "       0.94946809, 0.94680851, 0.94414894, 0.94414894, 0.94414894,\n",
      "       0.94148936, 0.93882979, 0.93882979, 0.93882979, 0.93617021,\n",
      "       0.93617021, 0.93617021, 0.93617021, 0.93617021, 0.93617021,\n",
      "       0.93351064, 0.93351064, 0.92819149, 0.92553191, 0.92553191,\n",
      "       0.92553191, 0.92021277, 0.92021277, 0.91755319, 0.91489362,\n",
      "       0.91489362, 0.91489362, 0.91223404, 0.91223404, 0.90957447,\n",
      "       0.90957447, 0.90691489, 0.90425532, 0.90425532, 0.90425532,\n",
      "       0.90425532, 0.90159574, 0.90159574, 0.89893617, 0.8962766 ,\n",
      "       0.8962766 , 0.8962766 , 0.89361702, 0.89095745, 0.89095745,\n",
      "       0.88829787, 0.8856383 , 0.88297872, 0.87765957, 0.875     ,\n",
      "       0.87234043, 0.86968085, 0.86702128, 0.8643617 , 0.8643617 ,\n",
      "       0.86170213, 0.85904255, 0.8537234 , 0.8537234 , 0.8537234 ,\n",
      "       0.85106383, 0.84840426, 0.84574468, 0.84308511, 0.84308511,\n",
      "       0.84042553, 0.83776596, 0.83244681, 0.82978723, 0.82712766,\n",
      "       0.82446809, 0.82180851, 0.81914894, 0.81648936, 0.81648936,\n",
      "       0.81382979, 0.80851064, 0.80585106, 0.80585106, 0.80319149,\n",
      "       0.80053191, 0.79787234, 0.79521277, 0.79255319, 0.78989362,\n",
      "       0.78989362, 0.78723404, 0.78457447, 0.78191489, 0.77925532,\n",
      "       0.77659574, 0.77659574, 0.77393617, 0.7712766 , 0.7712766 ,\n",
      "       0.76861702, 0.76595745, 0.76595745, 0.76329787, 0.7606383 ,\n",
      "       0.75797872, 0.75531915, 0.75265957, 0.75265957, 0.74734043,\n",
      "       0.74468085, 0.74468085, 0.74202128, 0.7393617 , 0.73670213,\n",
      "       0.73404255, 0.73138298, 0.7287234 , 0.72606383, 0.72340426,\n",
      "       0.72074468, 0.71808511, 0.71276596, 0.71276596, 0.71010638,\n",
      "       0.70744681, 0.70478723, 0.70212766, 0.69946809, 0.69680851,\n",
      "       0.69414894, 0.69148936, 0.68882979, 0.68617021, 0.68351064,\n",
      "       0.68085106, 0.67819149, 0.67287234, 0.67021277, 0.66755319,\n",
      "       0.66489362, 0.66223404, 0.65957447, 0.65691489, 0.65425532,\n",
      "       0.65159574, 0.65159574, 0.64893617, 0.6462766 , 0.64361702,\n",
      "       0.64095745, 0.63829787, 0.6356383 , 0.63297872, 0.63031915,\n",
      "       0.62765957, 0.625     , 0.625     , 0.62234043, 0.61968085,\n",
      "       0.61702128, 0.61170213, 0.60904255, 0.60638298, 0.6037234 ,\n",
      "       0.60106383, 0.59840426, 0.59574468, 0.59308511, 0.59042553,\n",
      "       0.58776596, 0.58510638, 0.58244681, 0.57978723, 0.57978723,\n",
      "       0.57712766, 0.57446809, 0.57180851, 0.56914894, 0.56914894,\n",
      "       0.56648936, 0.56382979, 0.55851064, 0.55585106, 0.55319149,\n",
      "       0.55053191, 0.55053191, 0.54787234, 0.54521277, 0.54255319,\n",
      "       0.53989362, 0.53723404, 0.53457447, 0.53191489, 0.52925532,\n",
      "       0.52659574, 0.52393617, 0.5212766 , 0.5212766 , 0.51861702,\n",
      "       0.51595745, 0.51329787, 0.5106383 , 0.50797872, 0.50531915,\n",
      "       0.50265957, 0.5       , 0.49734043, 0.49468085, 0.49202128,\n",
      "       0.48670213, 0.48404255, 0.48138298, 0.4787234 , 0.47606383,\n",
      "       0.47340426, 0.47074468, 0.46808511, 0.46542553, 0.46276596,\n",
      "       0.46010638, 0.45744681, 0.45478723, 0.45212766, 0.44946809,\n",
      "       0.44946809, 0.44680851, 0.44414894, 0.44148936, 0.43882979,\n",
      "       0.43617021, 0.43351064, 0.43085106, 0.42819149, 0.42553191,\n",
      "       0.42287234, 0.42021277, 0.41755319, 0.41489362, 0.41223404,\n",
      "       0.40957447, 0.40425532, 0.40159574, 0.39893617, 0.3962766 ,\n",
      "       0.39361702, 0.39095745, 0.38829787, 0.3856383 , 0.38297872,\n",
      "       0.38031915, 0.37765957, 0.375     , 0.36968085, 0.36702128,\n",
      "       0.3643617 , 0.36170213, 0.35904255, 0.35638298, 0.3537234 ,\n",
      "       0.35106383, 0.34840426, 0.34574468, 0.34308511, 0.34042553,\n",
      "       0.33776596, 0.33510638, 0.33244681, 0.32978723, 0.32712766,\n",
      "       0.32446809, 0.32180851, 0.31914894, 0.31648936, 0.31382979,\n",
      "       0.31117021, 0.30851064, 0.30585106, 0.30319149, 0.30053191,\n",
      "       0.29787234, 0.29521277, 0.29255319, 0.28989362, 0.28723404,\n",
      "       0.28457447, 0.28191489, 0.27925532, 0.27659574, 0.27393617,\n",
      "       0.2712766 , 0.26861702, 0.26595745, 0.26329787, 0.2606383 ,\n",
      "       0.25797872, 0.25531915, 0.25265957, 0.25      , 0.24734043,\n",
      "       0.24468085, 0.24202128, 0.2393617 , 0.23670213, 0.23404255,\n",
      "       0.23138298, 0.2287234 , 0.22606383, 0.22340426, 0.22074468,\n",
      "       0.21808511, 0.21542553, 0.21276596, 0.21010638, 0.20744681,\n",
      "       0.20478723, 0.20212766, 0.19946809, 0.19680851, 0.19414894,\n",
      "       0.19148936, 0.18882979, 0.18617021, 0.18351064, 0.18085106,\n",
      "       0.17819149, 0.17553191, 0.17287234, 0.17021277, 0.16755319,\n",
      "       0.16489362, 0.16223404, 0.15957447, 0.15691489, 0.15425532,\n",
      "       0.15159574, 0.14893617, 0.1462766 , 0.14361702, 0.14095745,\n",
      "       0.13829787, 0.1356383 , 0.13297872, 0.13031915, 0.125     ,\n",
      "       0.12234043, 0.11968085, 0.11702128, 0.1143617 , 0.11170213,\n",
      "       0.10904255, 0.10638298, 0.1037234 , 0.10106383, 0.09840426,\n",
      "       0.09574468, 0.09308511, 0.09042553, 0.08776596, 0.08510638,\n",
      "       0.08244681, 0.07978723, 0.07712766, 0.07446809, 0.07180851,\n",
      "       0.06914894, 0.06648936, 0.06117021, 0.05851064, 0.05585106,\n",
      "       0.05319149, 0.05053191, 0.04787234, 0.04521277, 0.04255319,\n",
      "       0.03989362, 0.03723404, 0.03457447, 0.03191489, 0.02659574,\n",
      "       0.02393617, 0.0212766 , 0.01861702, 0.01595745, 0.01329787,\n",
      "       0.0106383 , 0.00797872, 0.00531915, 0.00265957, 0.        ])}}\n",
      "Fine-tuning process completed!\n"
     ]
    }
   ],
   "source": [
    "# Run the main function and capture the returned fine_tuner instance\n",
    "print(\"Starting fine-tuning process...\")\n",
    "fine_tuner = main()\n",
    "print(\"Fine-tuning process completed!\")   "
   ]
  },
  {
   "cell_type": "code",
   "execution_count": 6,
   "metadata": {},
   "outputs": [
    {
     "name": "stdout",
     "output_type": "stream",
     "text": [
      "Final Evaluation Metrics:\n"
     ]
    },
    {
     "data": {
      "text/html": [
       "<div>\n",
       "<style scoped>\n",
       "    .dataframe tbody tr th:only-of-type {\n",
       "        vertical-align: middle;\n",
       "    }\n",
       "\n",
       "    .dataframe tbody tr th {\n",
       "        vertical-align: top;\n",
       "    }\n",
       "\n",
       "    .dataframe thead th {\n",
       "        text-align: right;\n",
       "    }\n",
       "</style>\n",
       "<table border=\"1\" class=\"dataframe\">\n",
       "  <thead>\n",
       "    <tr style=\"text-align: right;\">\n",
       "      <th></th>\n",
       "      <th>Metric</th>\n",
       "      <th>Value</th>\n",
       "    </tr>\n",
       "  </thead>\n",
       "  <tbody>\n",
       "    <tr>\n",
       "      <th>0</th>\n",
       "      <td>accuracy</td>\n",
       "      <td>0.918883</td>\n",
       "    </tr>\n",
       "    <tr>\n",
       "      <th>1</th>\n",
       "      <td>precision</td>\n",
       "      <td>0.913386</td>\n",
       "    </tr>\n",
       "    <tr>\n",
       "      <th>2</th>\n",
       "      <td>recall</td>\n",
       "      <td>0.925532</td>\n",
       "    </tr>\n",
       "    <tr>\n",
       "      <th>3</th>\n",
       "      <td>f1</td>\n",
       "      <td>0.919419</td>\n",
       "    </tr>\n",
       "    <tr>\n",
       "      <th>4</th>\n",
       "      <td>per_class</td>\n",
       "      <td>{'Positive': {'precision': 0.9245283018867925,...</td>\n",
       "    </tr>\n",
       "    <tr>\n",
       "      <th>5</th>\n",
       "      <td>confusion_matrix</td>\n",
       "      <td>[[343, 33], [28, 348]]</td>\n",
       "    </tr>\n",
       "    <tr>\n",
       "      <th>6</th>\n",
       "      <td>roc_auc</td>\n",
       "      <td>0.974518</td>\n",
       "    </tr>\n",
       "    <tr>\n",
       "      <th>7</th>\n",
       "      <td>roc_curve</td>\n",
       "      <td>{'fpr': [0.0, 0.0, 0.0, 0.0, 0.0, 0.0, 0.0, 0....</td>\n",
       "    </tr>\n",
       "    <tr>\n",
       "      <th>8</th>\n",
       "      <td>average_precision</td>\n",
       "      <td>0.974077</td>\n",
       "    </tr>\n",
       "    <tr>\n",
       "      <th>9</th>\n",
       "      <td>pr_curve</td>\n",
       "      <td>{'precision': [0.6596491228070176, 0.658450704...</td>\n",
       "    </tr>\n",
       "  </tbody>\n",
       "</table>\n",
       "</div>"
      ],
      "text/plain": [
       "              Metric                                              Value\n",
       "0           accuracy                                           0.918883\n",
       "1          precision                                           0.913386\n",
       "2             recall                                           0.925532\n",
       "3                 f1                                           0.919419\n",
       "4          per_class  {'Positive': {'precision': 0.9245283018867925,...\n",
       "5   confusion_matrix                             [[343, 33], [28, 348]]\n",
       "6            roc_auc                                           0.974518\n",
       "7          roc_curve  {'fpr': [0.0, 0.0, 0.0, 0.0, 0.0, 0.0, 0.0, 0....\n",
       "8  average_precision                                           0.974077\n",
       "9           pr_curve  {'precision': [0.6596491228070176, 0.658450704..."
      ]
     },
     "metadata": {},
     "output_type": "display_data"
    },
    {
     "ename": "ValueError",
     "evalue": "Illegal format string \"p-o\"; two marker symbols",
     "output_type": "error",
     "traceback": [
      "\u001b[0;31m---------------------------------------------------------------------------\u001b[0m",
      "\u001b[0;31mValueError\u001b[0m                                Traceback (most recent call last)",
      "\u001b[0;32m/var/folders/xc/qkmv0r456dn4gsy6rfgnpns80000gn/T/ipykernel_91375/2139095021.py\u001b[0m in \u001b[0;36m<module>\u001b[0;34m\u001b[0m\n\u001b[1;32m     31\u001b[0m             \u001b[0mplt\u001b[0m\u001b[0;34m.\u001b[0m\u001b[0mplot\u001b[0m\u001b[0;34m(\u001b[0m\u001b[0mhistory\u001b[0m\u001b[0;34m[\u001b[0m\u001b[0;34m'val_accuracy'\u001b[0m\u001b[0;34m]\u001b[0m\u001b[0;34m,\u001b[0m \u001b[0;34m'g-o'\u001b[0m\u001b[0;34m,\u001b[0m \u001b[0mlabel\u001b[0m\u001b[0;34m=\u001b[0m\u001b[0;34m'Validation Accuracy'\u001b[0m\u001b[0;34m)\u001b[0m\u001b[0;34m\u001b[0m\u001b[0;34m\u001b[0m\u001b[0m\n\u001b[1;32m     32\u001b[0m         \u001b[0;32mif\u001b[0m \u001b[0;34m'val_f1'\u001b[0m \u001b[0;32min\u001b[0m \u001b[0mhistory\u001b[0m\u001b[0;34m:\u001b[0m\u001b[0;34m\u001b[0m\u001b[0;34m\u001b[0m\u001b[0m\n\u001b[0;32m---> 33\u001b[0;31m             \u001b[0mplt\u001b[0m\u001b[0;34m.\u001b[0m\u001b[0mplot\u001b[0m\u001b[0;34m(\u001b[0m\u001b[0mhistory\u001b[0m\u001b[0;34m[\u001b[0m\u001b[0;34m'val_f1'\u001b[0m\u001b[0;34m]\u001b[0m\u001b[0;34m,\u001b[0m \u001b[0;34m'p-o'\u001b[0m\u001b[0;34m,\u001b[0m \u001b[0mlabel\u001b[0m\u001b[0;34m=\u001b[0m\u001b[0;34m'Validation F1'\u001b[0m\u001b[0;34m)\u001b[0m\u001b[0;34m\u001b[0m\u001b[0;34m\u001b[0m\u001b[0m\n\u001b[0m\u001b[1;32m     34\u001b[0m         \u001b[0mplt\u001b[0m\u001b[0;34m.\u001b[0m\u001b[0mtitle\u001b[0m\u001b[0;34m(\u001b[0m\u001b[0;34m'Metrics During Training'\u001b[0m\u001b[0;34m)\u001b[0m\u001b[0;34m\u001b[0m\u001b[0;34m\u001b[0m\u001b[0m\n\u001b[1;32m     35\u001b[0m         \u001b[0mplt\u001b[0m\u001b[0;34m.\u001b[0m\u001b[0mxlabel\u001b[0m\u001b[0;34m(\u001b[0m\u001b[0;34m'Epoch'\u001b[0m\u001b[0;34m)\u001b[0m\u001b[0;34m\u001b[0m\u001b[0;34m\u001b[0m\u001b[0m\n",
      "\u001b[0;32m/Library/Frameworks/Python.framework/Versions/3.7/lib/python3.7/site-packages/matplotlib/pyplot.py\u001b[0m in \u001b[0;36mplot\u001b[0;34m(scalex, scaley, data, *args, **kwargs)\u001b[0m\n\u001b[1;32m   2767\u001b[0m     return gca().plot(\n\u001b[1;32m   2768\u001b[0m         \u001b[0;34m*\u001b[0m\u001b[0margs\u001b[0m\u001b[0;34m,\u001b[0m \u001b[0mscalex\u001b[0m\u001b[0;34m=\u001b[0m\u001b[0mscalex\u001b[0m\u001b[0;34m,\u001b[0m \u001b[0mscaley\u001b[0m\u001b[0;34m=\u001b[0m\u001b[0mscaley\u001b[0m\u001b[0;34m,\u001b[0m\u001b[0;34m\u001b[0m\u001b[0;34m\u001b[0m\u001b[0m\n\u001b[0;32m-> 2769\u001b[0;31m         **({\"data\": data} if data is not None else {}), **kwargs)\n\u001b[0m\u001b[1;32m   2770\u001b[0m \u001b[0;34m\u001b[0m\u001b[0m\n\u001b[1;32m   2771\u001b[0m \u001b[0;34m\u001b[0m\u001b[0m\n",
      "\u001b[0;32m/Library/Frameworks/Python.framework/Versions/3.7/lib/python3.7/site-packages/matplotlib/axes/_axes.py\u001b[0m in \u001b[0;36mplot\u001b[0;34m(self, scalex, scaley, data, *args, **kwargs)\u001b[0m\n\u001b[1;32m   1633\u001b[0m         \"\"\"\n\u001b[1;32m   1634\u001b[0m         \u001b[0mkwargs\u001b[0m \u001b[0;34m=\u001b[0m \u001b[0mcbook\u001b[0m\u001b[0;34m.\u001b[0m\u001b[0mnormalize_kwargs\u001b[0m\u001b[0;34m(\u001b[0m\u001b[0mkwargs\u001b[0m\u001b[0;34m,\u001b[0m \u001b[0mmlines\u001b[0m\u001b[0;34m.\u001b[0m\u001b[0mLine2D\u001b[0m\u001b[0;34m)\u001b[0m\u001b[0;34m\u001b[0m\u001b[0;34m\u001b[0m\u001b[0m\n\u001b[0;32m-> 1635\u001b[0;31m         \u001b[0mlines\u001b[0m \u001b[0;34m=\u001b[0m \u001b[0;34m[\u001b[0m\u001b[0;34m*\u001b[0m\u001b[0mself\u001b[0m\u001b[0;34m.\u001b[0m\u001b[0m_get_lines\u001b[0m\u001b[0;34m(\u001b[0m\u001b[0;34m*\u001b[0m\u001b[0margs\u001b[0m\u001b[0;34m,\u001b[0m \u001b[0mdata\u001b[0m\u001b[0;34m=\u001b[0m\u001b[0mdata\u001b[0m\u001b[0;34m,\u001b[0m \u001b[0;34m**\u001b[0m\u001b[0mkwargs\u001b[0m\u001b[0;34m)\u001b[0m\u001b[0;34m]\u001b[0m\u001b[0;34m\u001b[0m\u001b[0;34m\u001b[0m\u001b[0m\n\u001b[0m\u001b[1;32m   1636\u001b[0m         \u001b[0;32mfor\u001b[0m \u001b[0mline\u001b[0m \u001b[0;32min\u001b[0m \u001b[0mlines\u001b[0m\u001b[0;34m:\u001b[0m\u001b[0;34m\u001b[0m\u001b[0;34m\u001b[0m\u001b[0m\n\u001b[1;32m   1637\u001b[0m             \u001b[0mself\u001b[0m\u001b[0;34m.\u001b[0m\u001b[0madd_line\u001b[0m\u001b[0;34m(\u001b[0m\u001b[0mline\u001b[0m\u001b[0;34m)\u001b[0m\u001b[0;34m\u001b[0m\u001b[0;34m\u001b[0m\u001b[0m\n",
      "\u001b[0;32m/Library/Frameworks/Python.framework/Versions/3.7/lib/python3.7/site-packages/matplotlib/axes/_base.py\u001b[0m in \u001b[0;36m__call__\u001b[0;34m(self, data, *args, **kwargs)\u001b[0m\n\u001b[1;32m    310\u001b[0m                 \u001b[0mthis\u001b[0m \u001b[0;34m+=\u001b[0m \u001b[0margs\u001b[0m\u001b[0;34m[\u001b[0m\u001b[0;36m0\u001b[0m\u001b[0;34m]\u001b[0m\u001b[0;34m,\u001b[0m\u001b[0;34m\u001b[0m\u001b[0;34m\u001b[0m\u001b[0m\n\u001b[1;32m    311\u001b[0m                 \u001b[0margs\u001b[0m \u001b[0;34m=\u001b[0m \u001b[0margs\u001b[0m\u001b[0;34m[\u001b[0m\u001b[0;36m1\u001b[0m\u001b[0;34m:\u001b[0m\u001b[0;34m]\u001b[0m\u001b[0;34m\u001b[0m\u001b[0;34m\u001b[0m\u001b[0m\n\u001b[0;32m--> 312\u001b[0;31m             \u001b[0;32myield\u001b[0m \u001b[0;32mfrom\u001b[0m \u001b[0mself\u001b[0m\u001b[0;34m.\u001b[0m\u001b[0m_plot_args\u001b[0m\u001b[0;34m(\u001b[0m\u001b[0mthis\u001b[0m\u001b[0;34m,\u001b[0m \u001b[0mkwargs\u001b[0m\u001b[0;34m)\u001b[0m\u001b[0;34m\u001b[0m\u001b[0;34m\u001b[0m\u001b[0m\n\u001b[0m\u001b[1;32m    313\u001b[0m \u001b[0;34m\u001b[0m\u001b[0m\n\u001b[1;32m    314\u001b[0m     \u001b[0;32mdef\u001b[0m \u001b[0mget_next_color\u001b[0m\u001b[0;34m(\u001b[0m\u001b[0mself\u001b[0m\u001b[0;34m)\u001b[0m\u001b[0;34m:\u001b[0m\u001b[0;34m\u001b[0m\u001b[0;34m\u001b[0m\u001b[0m\n",
      "\u001b[0;32m/Library/Frameworks/Python.framework/Versions/3.7/lib/python3.7/site-packages/matplotlib/axes/_base.py\u001b[0m in \u001b[0;36m_plot_args\u001b[0;34m(self, tup, kwargs, return_kwargs)\u001b[0m\n\u001b[1;32m    447\u001b[0m             \u001b[0;31m# xy is tup with fmt stripped (could still be (y,) only)\u001b[0m\u001b[0;34m\u001b[0m\u001b[0;34m\u001b[0m\u001b[0;34m\u001b[0m\u001b[0m\n\u001b[1;32m    448\u001b[0m             \u001b[0;34m*\u001b[0m\u001b[0mxy\u001b[0m\u001b[0;34m,\u001b[0m \u001b[0mfmt\u001b[0m \u001b[0;34m=\u001b[0m \u001b[0mtup\u001b[0m\u001b[0;34m\u001b[0m\u001b[0;34m\u001b[0m\u001b[0m\n\u001b[0;32m--> 449\u001b[0;31m             \u001b[0mlinestyle\u001b[0m\u001b[0;34m,\u001b[0m \u001b[0mmarker\u001b[0m\u001b[0;34m,\u001b[0m \u001b[0mcolor\u001b[0m \u001b[0;34m=\u001b[0m \u001b[0m_process_plot_format\u001b[0m\u001b[0;34m(\u001b[0m\u001b[0mfmt\u001b[0m\u001b[0;34m)\u001b[0m\u001b[0;34m\u001b[0m\u001b[0;34m\u001b[0m\u001b[0m\n\u001b[0m\u001b[1;32m    450\u001b[0m         \u001b[0;32melif\u001b[0m \u001b[0mlen\u001b[0m\u001b[0;34m(\u001b[0m\u001b[0mtup\u001b[0m\u001b[0;34m)\u001b[0m \u001b[0;34m==\u001b[0m \u001b[0;36m3\u001b[0m\u001b[0;34m:\u001b[0m\u001b[0;34m\u001b[0m\u001b[0;34m\u001b[0m\u001b[0m\n\u001b[1;32m    451\u001b[0m             \u001b[0;32mraise\u001b[0m \u001b[0mValueError\u001b[0m\u001b[0;34m(\u001b[0m\u001b[0;34m'third arg must be a format string'\u001b[0m\u001b[0;34m)\u001b[0m\u001b[0;34m\u001b[0m\u001b[0;34m\u001b[0m\u001b[0m\n",
      "\u001b[0;32m/Library/Frameworks/Python.framework/Versions/3.7/lib/python3.7/site-packages/matplotlib/axes/_base.py\u001b[0m in \u001b[0;36m_process_plot_format\u001b[0;34m(fmt)\u001b[0m\n\u001b[1;32m    183\u001b[0m             \u001b[0;32mif\u001b[0m \u001b[0mmarker\u001b[0m \u001b[0;32mis\u001b[0m \u001b[0;32mnot\u001b[0m \u001b[0;32mNone\u001b[0m\u001b[0;34m:\u001b[0m\u001b[0;34m\u001b[0m\u001b[0;34m\u001b[0m\u001b[0m\n\u001b[1;32m    184\u001b[0m                 raise ValueError(\n\u001b[0;32m--> 185\u001b[0;31m                     'Illegal format string \"%s\"; two marker symbols' % fmt)\n\u001b[0m\u001b[1;32m    186\u001b[0m             \u001b[0mmarker\u001b[0m \u001b[0;34m=\u001b[0m \u001b[0mc\u001b[0m\u001b[0;34m\u001b[0m\u001b[0;34m\u001b[0m\u001b[0m\n\u001b[1;32m    187\u001b[0m             \u001b[0mi\u001b[0m \u001b[0;34m+=\u001b[0m \u001b[0;36m1\u001b[0m\u001b[0;34m\u001b[0m\u001b[0;34m\u001b[0m\u001b[0m\n",
      "\u001b[0;31mValueError\u001b[0m: Illegal format string \"p-o\"; two marker symbols"
     ]
    },
    {
     "data": {
      "image/png": "[encoded data removed]",
      "text/plain": [
       "<Figure size 1400x600 with 2 Axes>"
      ]
     },
     "metadata": {},
     "output_type": "display_data"
    }
   ],
   "source": [
    "# Cell 4: View Training Results\n",
    "\n",
    "    \n",
    "# Display metrics if available\n",
    "if hasattr(fine_tuner, 'metrics'):\n",
    "    print(\"Final Evaluation Metrics:\")\n",
    "    metrics_df = pd.DataFrame([fine_tuner.metrics])\n",
    "    display(metrics_df.T.reset_index().rename(columns={'index': 'Metric', 0: 'Value'}))\n",
    "\n",
    "# Visualize training history if available\n",
    "if hasattr(fine_tuner.trainer, 'history') and fine_tuner.trainer.history:\n",
    "    history = fine_tuner.trainer.history\n",
    "\n",
    "    if history.get('train_loss') and history.get('val_loss'):\n",
    "        # Create figure\n",
    "        plt.figure(figsize=(14, 6))\n",
    "\n",
    "        # Plot training and validation loss\n",
    "        plt.subplot(1, 2, 1)\n",
    "        plt.plot(history['train_loss'], 'b-o', label='Training Loss')\n",
    "        plt.plot(history['val_loss'], 'r-o', label='Validation Loss')\n",
    "        plt.title('Loss During Training')\n",
    "        plt.xlabel('Epoch')\n",
    "        plt.ylabel('Loss')\n",
    "        plt.legend()\n",
    "        plt.grid(True, alpha=0.3)\n",
    "\n",
    "        # Plot performance metrics\n",
    "        plt.subplot(1, 2, 2)\n",
    "        if 'val_accuracy' in history:\n",
    "            plt.plot(history['val_accuracy'], 'g-o', label='Validation Accuracy')\n",
    "        if 'val_f1' in history:\n",
    "            plt.plot(history['val_f1'], 'p-o', label='Validation F1')\n",
    "        plt.title('Metrics During Training')\n",
    "        plt.xlabel('Epoch')\n",
    "        plt.ylabel('Score')\n",
    "        plt.legend()\n",
    "        plt.grid(True, alpha=0.3)\n",
    "\n",
    "        plt.tight_layout()\n",
    "        plt.show()\n",
    "else:\n",
    "    print(\"No training history available.\")\n",
    "    \n"
   ]
  },
  {
   "cell_type": "code",
   "execution_count": 7,
   "metadata": {},
   "outputs": [
    {
     "data": {
      "text/html": [
       "<div class='section-header'>Model Evaluation</div>"
      ],
      "text/plain": [
       "<IPython.core.display.HTML object>"
      ]
     },
     "metadata": {},
     "output_type": "display_data"
    },
    {
     "name": "stderr",
     "output_type": "stream",
     "text": [
      "2025-03-10 14:52:04,269 - INFO - Dataset loaded with 7512 samples.\n"
     ]
    },
    {
     "name": "stdout",
     "output_type": "stream",
     "text": [
      "Loading test dataset...\n",
      "Test dataset loaded with 752 samples.\n",
      "Running comprehensive evaluation...\n",
      "[INFO] Evaluating model on 47 batches...\n",
      "[INFO] Evaluation complete. Processed 752 samples.\n",
      "[INFO] Calculating metrics...\n",
      "[INFO] Metrics calculated. Overall accuracy: 0.9189\n"
     ]
    },
    {
     "data": {
      "image/png": "[encoded data removed]",
      "text/plain": [
       "<Figure size 1000x800 with 2 Axes>"
      ]
     },
     "metadata": {},
     "output_type": "display_data"
    },
    {
     "name": "stdout",
     "output_type": "stream",
     "text": [
      "\n",
      "Classification Report:\n"
     ]
    },
    {
     "data": {
      "text/html": [
       "<div>\n",
       "<style scoped>\n",
       "    .dataframe tbody tr th:only-of-type {\n",
       "        vertical-align: middle;\n",
       "    }\n",
       "\n",
       "    .dataframe tbody tr th {\n",
       "        vertical-align: top;\n",
       "    }\n",
       "\n",
       "    .dataframe thead th {\n",
       "        text-align: right;\n",
       "    }\n",
       "</style>\n",
       "<table border=\"1\" class=\"dataframe\">\n",
       "  <thead>\n",
       "    <tr style=\"text-align: right;\">\n",
       "      <th></th>\n",
       "      <th>Precision</th>\n",
       "      <th>Recall</th>\n",
       "      <th>F1 Score</th>\n",
       "      <th>Accuracy</th>\n",
       "    </tr>\n",
       "  </thead>\n",
       "  <tbody>\n",
       "    <tr>\n",
       "      <th>0</th>\n",
       "      <td>0.913386</td>\n",
       "      <td>0.925532</td>\n",
       "      <td>0.919419</td>\n",
       "      <td>0.918883</td>\n",
       "    </tr>\n",
       "  </tbody>\n",
       "</table>\n",
       "</div>"
      ],
      "text/plain": [
       "   Precision    Recall  F1 Score  Accuracy\n",
       "0   0.913386  0.925532  0.919419  0.918883"
      ]
     },
     "metadata": {},
     "output_type": "display_data"
    },
    {
     "name": "stdout",
     "output_type": "stream",
     "text": [
      "\n",
      "Per-Class Performance:\n"
     ]
    },
    {
     "data": {
      "text/html": [
       "<div>\n",
       "<style scoped>\n",
       "    .dataframe tbody tr th:only-of-type {\n",
       "        vertical-align: middle;\n",
       "    }\n",
       "\n",
       "    .dataframe tbody tr th {\n",
       "        vertical-align: top;\n",
       "    }\n",
       "\n",
       "    .dataframe thead th {\n",
       "        text-align: right;\n",
       "    }\n",
       "</style>\n",
       "<table border=\"1\" class=\"dataframe\">\n",
       "  <thead>\n",
       "    <tr style=\"text-align: right;\">\n",
       "      <th></th>\n",
       "      <th>precision</th>\n",
       "      <th>recall</th>\n",
       "      <th>f1-score</th>\n",
       "      <th>support</th>\n",
       "    </tr>\n",
       "  </thead>\n",
       "  <tbody>\n",
       "    <tr>\n",
       "      <th>Positive</th>\n",
       "      <td>0.924528</td>\n",
       "      <td>0.912234</td>\n",
       "      <td>0.918340</td>\n",
       "      <td>376.0</td>\n",
       "    </tr>\n",
       "    <tr>\n",
       "      <th>Negative</th>\n",
       "      <td>0.913386</td>\n",
       "      <td>0.925532</td>\n",
       "      <td>0.919419</td>\n",
       "      <td>376.0</td>\n",
       "    </tr>\n",
       "  </tbody>\n",
       "</table>\n",
       "</div>"
      ],
      "text/plain": [
       "          precision    recall  f1-score  support\n",
       "Positive   0.924528  0.912234  0.918340    376.0\n",
       "Negative   0.913386  0.925532  0.919419    376.0"
      ]
     },
     "metadata": {},
     "output_type": "display_data"
    }
   ],
   "source": [
    "# Cell 5: Run Comprehensive Evaluation\n",
    "try:\n",
    "    # Display header\n",
    "    display(HTML(\"<div class='section-header'>Model Evaluation</div>\"))\n",
    "    \n",
    "    # Import evaluator\n",
    "    from src.training.model_evaluator import ModelEvaluator\n",
    "    \n",
    "    # Get test data\n",
    "    print(\"Loading test dataset...\")\n",
    "    texts, labels = fine_tuner.data_module.load_dataset()\n",
    "    _, _, test_loader = fine_tuner.data_module.create_dataloaders(texts, labels)\n",
    "    print(f\"Test dataset loaded with {len(test_loader.dataset)} samples.\")\n",
    "    \n",
    "    # Create evaluator and run evaluation\n",
    "    print(\"Running comprehensive evaluation...\")\n",
    "    evaluator = ModelEvaluator(\n",
    "        model=fine_tuner.model,\n",
    "        device=fine_tuner.device,\n",
    "        model_name=\"DistilBERT Sentiment Classifier\",\n",
    "        class_names=fine_tuner.class_names\n",
    "    )\n",
    "    \n",
    "    # Evaluate model (get raw results for custom visualizations)\n",
    "    all_labels, all_preds, all_probs = evaluator.evaluate(test_loader)\n",
    "    metrics = evaluator.calculate_metrics(all_labels, all_preds, all_probs)\n",
    "    \n",
    "    # Display confusion matrix\n",
    "    plt.figure(figsize=(10, 8))\n",
    "    cm = metrics[\"confusion_matrix\"]\n",
    "    sns.heatmap(cm, annot=True, fmt=\"d\", cmap=\"Blues\", \n",
    "               xticklabels=fine_tuner.class_names, \n",
    "               yticklabels=fine_tuner.class_names)\n",
    "    plt.title(\"Confusion Matrix\")\n",
    "    plt.ylabel(\"True Label\")\n",
    "    plt.xlabel(\"Predicted Label\")\n",
    "    plt.tight_layout()\n",
    "    plt.show()\n",
    "    \n",
    "    # Display classification metrics\n",
    "    print(\"\\nClassification Report:\")\n",
    "    metrics_df = pd.DataFrame({\n",
    "        'Precision': [metrics['precision']],\n",
    "        'Recall': [metrics['recall']],\n",
    "        'F1 Score': [metrics['f1']],\n",
    "        'Accuracy': [metrics['accuracy']]\n",
    "    })\n",
    "    display(metrics_df)\n",
    "    \n",
    "    # Display per-class metrics if available\n",
    "    if 'per_class' in metrics:\n",
    "        print(\"\\nPer-Class Performance:\")\n",
    "        per_class_df = pd.DataFrame(metrics['per_class']).T\n",
    "        display(per_class_df)\n",
    "    \n",
    "except Exception as e:\n",
    "    print(f\"An error occurred: {e}\")\n",
    "    import traceback\n",
    "    traceback.print_exc()"
   ]
  },
  {
   "cell_type": "code",
   "execution_count": 8,
   "metadata": {},
   "outputs": [
    {
     "data": {
      "text/html": [
       "<div class='section-header'>Generate Evaluation Report</div>"
      ],
      "text/plain": [
       "<IPython.core.display.HTML object>"
      ]
     },
     "metadata": {},
     "output_type": "display_data"
    },
    {
     "name": "stdout",
     "output_type": "stream",
     "text": [
      "Generating comprehensive PDF report at evaluation_results/distilbert-base-uncased_evaluation_report.pdf...\n",
      "[INFO] Calculating metrics...\n",
      "[INFO] Metrics calculated. Overall accuracy: 0.9189\n",
      "[INFO] Generating evaluation report at evaluation_results/distilbert-base-uncased_evaluation_report.pdf...\n"
     ]
    },
    {
     "name": "stderr",
     "output_type": "stream",
     "text": [
      "2025-03-10 14:55:43,353 - INFO - Evaluation report saved as 'evaluation_results/distilbert-base-uncased_evaluation_report.pdf'\n"
     ]
    },
    {
     "name": "stdout",
     "output_type": "stream",
     "text": [
      "[INFO] Evaluation report saved as 'evaluation_results/distilbert-base-uncased_evaluation_report.pdf'\n",
      "PDF report generated successfully at: evaluation_results/distilbert-base-uncased_evaluation_report.pdf\n"
     ]
    }
   ],
   "source": [
    "# Cell 6: Generate PDF Report (Optional)\n",
    "try:\n",
    "    # Display header\n",
    "    display(HTML(\"<div class='section-header'>Generate Evaluation Report</div>\"))\n",
    "    \n",
    "    # Generate PDF report\n",
    "    report_path = f\"evaluation_results/{CONFIG['models']['distilbert']['pretrained_model_name']}_evaluation_report.pdf\"\n",
    "    os.makedirs(os.path.dirname(report_path), exist_ok=True)\n",
    "    \n",
    "    print(f\"Generating comprehensive PDF report at {report_path}...\")\n",
    "    evaluator.generate_pdf_report(all_labels, all_preds, all_probs, output_path=report_path)\n",
    "    print(f\"PDF report generated successfully at: {report_path}\")\n",
    "    \n",
    "except Exception as e:\n",
    "    print(f\"An error occurred: {e}\")\n",
    "    import traceback\n",
    "    traceback.print_exc()\n"
   ]
  },
  {
   "cell_type": "code",
   "execution_count": 10,
   "metadata": {},
   "outputs": [
    {
     "data": {
      "text/html": [
       "<div class='section-header'>Test with Custom Inputs</div>"
      ],
      "text/plain": [
       "<IPython.core.display.HTML object>"
      ]
     },
     "metadata": {},
     "output_type": "display_data"
    },
    {
     "name": "stdout",
     "output_type": "stream",
     "text": [
      "Try your own examples:\n"
     ]
    },
    {
     "data": {
      "application/vnd.jupyter.widget-view+json": {
       "model_id": "53b530b232e1400bad69d2e73095ab23",
       "version_major": 2,
       "version_minor": 0
      },
      "text/plain": [
       "Textarea(value='', layout=Layout(height='100px', width='100%'), placeholder='Enter text to analyze...')"
      ]
     },
     "metadata": {},
     "output_type": "display_data"
    },
    {
     "data": {
      "application/vnd.jupyter.widget-view+json": {
       "model_id": "3a3cd950915448bc9ccb1188cb745efd",
       "version_major": 2,
       "version_minor": 0
      },
      "text/plain": [
       "Button(button_style='primary', description='Analyze Sentiment', layout=Layout(width='200px'), style=ButtonStyl…"
      ]
     },
     "metadata": {},
     "output_type": "display_data"
    },
    {
     "data": {
      "application/vnd.jupyter.widget-view+json": {
       "model_id": "0da3a2518b954cc7892f9d110091765d",
       "version_major": 2,
       "version_minor": 0
      },
      "text/plain": [
       "Output()"
      ]
     },
     "metadata": {},
     "output_type": "display_data"
    }
   ],
   "source": [
    "import torch\n",
    "\n",
    "# Cell 7: Test with Custom Inputs (Optional)\n",
    "try:\n",
    "    # Display header\n",
    "    display(HTML(\"<div class='section-header'>Test with Custom Inputs</div>\"))\n",
    "    \n",
    "    def predict_sentiment(text):\n",
    "        \"\"\"Function to predict sentiment of a given text\"\"\"\n",
    "        # Tokenize input\n",
    "        inputs = fine_tuner.tokenizer(\n",
    "            text,\n",
    "            return_tensors=\"pt\",\n",
    "            truncation=True,\n",
    "            padding=\"max_length\",\n",
    "            max_length=CONFIG[\"training\"][\"max_length\"]\n",
    "        )\n",
    "        \n",
    "        # Move inputs to device\n",
    "        inputs = {key: val.to(fine_tuner.device) for key, val in inputs.items()}\n",
    "        \n",
    "        # Set model to evaluation mode\n",
    "        fine_tuner.model.eval()\n",
    "        \n",
    "        # Get prediction\n",
    "        with torch.no_grad():\n",
    "            outputs = fine_tuner.model(**inputs)\n",
    "            logits = outputs.logits\n",
    "            probabilities = torch.nn.functional.softmax(logits, dim=1)\n",
    "            prediction = torch.argmax(logits, dim=1)\n",
    "        \n",
    "        # Get predicted class\n",
    "        predicted_class = fine_tuner.class_names[prediction.item()]\n",
    "        confidence = probabilities[0][prediction.item()].item() * 100\n",
    "        \n",
    "        # Get probabilities for all classes\n",
    "        class_probs = {\n",
    "            fine_tuner.class_names[i]: prob.item() * 100 \n",
    "            for i, prob in enumerate(probabilities[0])\n",
    "        }\n",
    "        \n",
    "        return predicted_class, confidence, class_probs\n",
    "    \n",
    "    # Create a simple UI for testing\n",
    "    from ipywidgets import widgets, Layout\n",
    "    from IPython.display import display, clear_output\n",
    "    \n",
    "    # Create text input\n",
    "    text_input = widgets.Textarea(\n",
    "        placeholder='Enter text to analyze...',\n",
    "        layout=Layout(width='100%', height='100px')\n",
    "    )\n",
    "    \n",
    "    # Create button\n",
    "    button = widgets.Button(\n",
    "        description='Analyze Sentiment',\n",
    "        button_style='primary',\n",
    "        layout=Layout(width='200px')\n",
    "    )\n",
    "    \n",
    "    # Create output area\n",
    "    output = widgets.Output()\n",
    "    \n",
    "    # Define button click event\n",
    "    def on_button_click(b):\n",
    "        with output:\n",
    "            clear_output()\n",
    "            if not text_input.value.strip():\n",
    "                print(\"Please enter some text to analyze.\")\n",
    "                return\n",
    "            \n",
    "            print(f\"Analyzing: \\\"{text_input.value}\\\"\")\n",
    "            predicted_class, confidence, class_probs = predict_sentiment(text_input.value)\n",
    "            \n",
    "            print(f\"\\nPredicted sentiment: {predicted_class} (Confidence: {confidence:.2f}%)\")\n",
    "            print(\"\\nProbabilities for all classes:\")\n",
    "            for cls, prob in class_probs.items():\n",
    "                print(f\"  - {cls}: {prob:.2f}%\")\n",
    "    \n",
    "    button.on_click(on_button_click)\n",
    "    \n",
    "    # Display widgets\n",
    "    print(\"Try your own examples:\")\n",
    "    display(text_input)\n",
    "    display(button)\n",
    "    display(output)\n",
    "    \n",
    "except Exception as e:\n",
    "    print(f\"An error occurred: {e}\")\n",
    "    import traceback\n",
    "    traceback.print_exc()"
   ]
  },
  {
   "cell_type": "code",
   "execution_count": 14,
   "metadata": {},
   "outputs": [],
   "source": [
    "import torch\n",
    "import os\n",
    "import json\n",
    "\n",
    "\n",
    "def save_model(fine_tuner, save_dir=\"saved_model\"):\n",
    "    \"\"\"\n",
    "    Save the model architecture, tokenizer, weights, and related configurations.\n",
    "    \"\"\"\n",
    "    os.makedirs(save_dir, exist_ok=True)\n",
    "    \n",
    "    # Save model weights\n",
    "    model_path = os.path.join(save_dir, \"model.pth\")\n",
    "    torch.save(fine_tuner.model.state_dict(), model_path)\n",
    "    print(f\"Model weights saved at: {model_path}\")\n",
    "    \n",
    "    # Save tokenizer\n",
    "    tokenizer_path = os.path.join(save_dir, \"tokenizer\")\n",
    "    fine_tuner.tokenizer.save_pretrained(tokenizer_path)\n",
    "    print(f\"Tokenizer saved at: {tokenizer_path}\")\n",
    "    \n",
    "    # Save training history if available\n",
    "    history_path = os.path.join(save_dir, \"history.json\")\n",
    "    if hasattr(fine_tuner.trainer, 'history') and fine_tuner.trainer.history:\n",
    "        with open(history_path, \"w\") as f:\n",
    "            json.dump(fine_tuner.trainer.history, f, indent=4)\n",
    "        print(f\"Training history saved at: {history_path}\")\n",
    "    \n",
    "    # Save model configuration\n",
    "    config_path = os.path.join(save_dir, \"config.json\")\n",
    "    config_data = {\n",
    "        \"model_name\": \"DistilBERT Sentiment Classifier\",\n",
    "        \"class_names\": fine_tuner.class_names,\n",
    "        \"device\": fine_tuner.device,\n",
    "        \"pretrained_model\": CONFIG[\"models\"][\"distilbert\"][\"pretrained_model_name\"],\n",
    "        \"max_length\": CONFIG[\"training\"][\"max_length\"]\n",
    "    }\n",
    "    \n",
    "    with open(config_path, \"w\") as f:\n",
    "        json.dump(config_data, f, indent=4)\n",
    "    print(f\"Model configuration saved at: {config_path}\")\n",
    "    \n",
    "    print(\"Model save process completed!\")\n"
   ]
  },
  {
   "cell_type": "code",
   "execution_count": 15,
   "metadata": {},
   "outputs": [
    {
     "name": "stdout",
     "output_type": "stream",
     "text": [
      "Model weights saved at: saved_model/model.pth\n",
      "Tokenizer saved at: saved_model/tokenizer\n",
      "Training history saved at: saved_model/history.json\n",
      "Model configuration saved at: saved_model/config.json\n",
      "Model save process completed!\n"
     ]
    }
   ],
   "source": [
    "save_model(fine_tuner)\n"
   ]
  }
 ],
 "metadata": {
  "kernelspec": {
   "display_name": "Python 3 (ipykernel)",
   "language": "python",
   "name": "python3"
  },
  "language_info": {
   "codemirror_mode": {
    "name": "ipython",
    "version": 3
   },
   "file_extension": ".py",
   "mimetype": "text/x-python",
   "name": "python",
   "nbconvert_exporter": "python",
   "pygments_lexer": "ipython3",
   "version": "3.7.9"
  }
 },
 "nbformat": 4,
 "nbformat_minor": 4
}
