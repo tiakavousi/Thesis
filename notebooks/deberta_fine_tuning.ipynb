{
 "cells": [
  {
   "cell_type": "code",
   "execution_count": 1,
   "id": "1044442e",
   "metadata": {},
   "outputs": [],
   "source": [
    "import os\n",
    "import sys\n",
    "import matplotlib.pyplot as plt\n",
    "import pandas as pd\n",
    "import numpy as np\n",
    "import seaborn as sns\n",
    "from IPython.display import display, HTML, clear_output"
   ]
  },
  {
   "cell_type": "code",
   "execution_count": 2,
   "id": "1e44ee5b",
   "metadata": {},
   "outputs": [
    {
     "name": "stdout",
     "output_type": "stream",
     "text": [
      "Environment setup complete!\n"
     ]
    }
   ],
   "source": [
    "project_root = \"/Users/tayebekavousi/Desktop/github_sa\"\n",
    "# Save the original directory to go back to it later if needed\n",
    "original_dir = os.getcwd()\n",
    "# Change to the project root directory\n",
    "os.chdir(project_root)\n",
    "# Ensure the project root is in the Python path\n",
    "if project_root not in sys.path:\n",
    "    sys.path.insert(0, project_root)\n",
    "sys.path.insert(0, '')  # Add current directory (empty string) to path\n",
    "\n",
    "\n",
    "print(\"Environment setup complete!\")"
   ]
  },
  {
   "cell_type": "code",
   "execution_count": 3,
   "id": "16d266d2",
   "metadata": {},
   "outputs": [],
   "source": [
    "from src.models.deberta.train_deberta import main\n",
    "from src.config import CONFIG"
   ]
  },
  {
   "cell_type": "code",
   "execution_count": 4,
   "id": "fa397fc3",
   "metadata": {},
   "outputs": [
    {
     "name": "stdout",
     "output_type": "stream",
     "text": [
      "Starting fine-tuning process...\n",
      "[INFO] Initializing DeBERTa fine-tuner with model: microsoft/deberta-base\n",
      "[INFO] Tokenizer loaded successfully.\n"
     ]
    },
    {
     "name": "stderr",
     "output_type": "stream",
     "text": [
      "Some weights of the model checkpoint at microsoft/deberta-base were not used when initializing DebertaForSequenceClassification: ['lm_predictions.lm_head.dense.bias', 'lm_predictions.lm_head.LayerNorm.weight', 'lm_predictions.lm_head.LayerNorm.bias', 'lm_predictions.lm_head.bias', 'lm_predictions.lm_head.dense.weight']\n",
      "- This IS expected if you are initializing DebertaForSequenceClassification from the checkpoint of a model trained on another task or with another architecture (e.g. initializing a BertForSequenceClassification model from a BertForPreTraining model).\n",
      "- This IS NOT expected if you are initializing DebertaForSequenceClassification from the checkpoint of a model that you expect to be exactly identical (initializing a BertForSequenceClassification model from a BertForSequenceClassification model).\n",
      "Some weights of DebertaForSequenceClassification were not initialized from the model checkpoint at microsoft/deberta-base and are newly initialized: ['pooler.dense.bias', 'classifier.bias', 'classifier.weight', 'pooler.dense.weight']\n",
      "You should probably TRAIN this model on a down-stream task to be able to use it for predictions and inference.\n",
      "2025-03-19 20:56:08,664 - INFO - Froze embeddings and first 2 layers. Trainable: 84,053,762 params (60.4%)\n",
      "/Library/Frameworks/Python.framework/Versions/3.7/lib/python3.7/site-packages/transformers/optimization.py:415: FutureWarning: This implementation of AdamW is deprecated and will be removed in a future version. Use the PyTorch implementation torch.optim.AdamW instead, or set `no_deprecation_warning=True` to disable this warning\n",
      "  FutureWarning,\n",
      "2025-03-19 20:56:08,677 - INFO - Initialized DeBERTaFineTuner with model 'microsoft/deberta-base'\n",
      "2025-03-19 20:56:08,678 - INFO - Starting DeBERTa fine-tuning process.\n",
      "2025-03-19 20:56:08,710 - INFO - Dataset loaded with 3238 samples.\n"
     ]
    },
    {
     "name": "stdout",
     "output_type": "stream",
     "text": [
      "[INFO] Model microsoft/deberta-base initialized with 2 labels and dropout 0.1.\n",
      "[INFO] Froze embeddings and first 2 transformer layers\n",
      "[INFO] Trainable parameters: 84,053,762 (60.4% of total)\n",
      "[INFO] Model moved to device: cpu\n",
      "[INFO] Data module initialized.\n",
      "[INFO] Model initialized on device: cpu\n",
      "[INFO] Optimizer: AdamW with learning rate 1e-05\n",
      "[INFO] ModelTrainer initialized.\n",
      "\n",
      "[INFO] Starting DeBERTa fine-tuning process.\n",
      "[INFO] Loading dataset...\n",
      "[INFO] Loaded dataset with 3238 samples.\n",
      "[INFO] Creating dataloaders...\n",
      "[INFO] Dataloaders created.\n",
      "\n",
      "[INFO] Starting training...\n",
      "[INFO] Training started for 5 epochs.\n",
      "Batch 0 - Input Shape: torch.Size([32, 128]), Labels Shape: torch.Size([32])\n",
      "Batch 1 - Input Shape: torch.Size([32, 128]), Labels Shape: torch.Size([32])\n",
      "Batch 2 - Input Shape: torch.Size([32, 128]), Labels Shape: torch.Size([32])\n",
      "Batch 3 - Input Shape: torch.Size([32, 128]), Labels Shape: torch.Size([32])\n",
      "Batch 4 - Input Shape: torch.Size([32, 128]), Labels Shape: torch.Size([32])\n",
      "Batch 5 - Input Shape: torch.Size([32, 128]), Labels Shape: torch.Size([32])\n"
     ]
    },
    {
     "data": {
      "application/vnd.jupyter.widget-view+json": {
       "model_id": "6779efc9816442e3bc1bde042a1412a5",
       "version_major": 2,
       "version_minor": 0
      },
      "text/plain": [
       "Epochs:   0%|          | 0/5 [00:00<?, ?it/s]"
      ]
     },
     "metadata": {},
     "output_type": "display_data"
    },
    {
     "name": "stderr",
     "output_type": "stream",
     "text": [
      "2025-03-19 20:56:08,829 - INFO - Epoch 1/5\n"
     ]
    },
    {
     "data": {
      "application/vnd.jupyter.widget-view+json": {
       "model_id": "",
       "version_major": 2,
       "version_minor": 0
      },
      "text/plain": [
       "Training Batches:   0%|          | 0/76 [00:00<?, ?it/s]"
      ]
     },
     "metadata": {},
     "output_type": "display_data"
    },
    {
     "data": {
      "application/vnd.jupyter.widget-view+json": {
       "model_id": "",
       "version_major": 2,
       "version_minor": 0
      },
      "text/plain": [
       "Evaluating:   0%|          | 0/16 [00:00<?, ?it/s]"
      ]
     },
     "metadata": {},
     "output_type": "display_data"
    },
    {
     "name": "stdout",
     "output_type": "stream",
     "text": [
      "\n",
      "================================================================================\n",
      "⏱️  Epoch: 1/5\n",
      "================================================================================\n",
      "📊 Training   | Loss: 1.3848\n",
      "📊 Validation | Loss: 0.6705 | Accuracy: 0.5103 | F1 Score: 0.3605\n",
      "================================================================================\n",
      "\n"
     ]
    },
    {
     "name": "stderr",
     "output_type": "stream",
     "text": [
      "2025-03-19 21:33:43,747 - INFO - Checkpoint saved to ./saved_models/model_best_f1_0.3605.pt\n",
      "2025-03-19 21:33:43,750 - INFO - Epoch 2/5\n"
     ]
    },
    {
     "name": "stdout",
     "output_type": "stream",
     "text": [
      "📈 New best model saved!\n"
     ]
    },
    {
     "data": {
      "application/vnd.jupyter.widget-view+json": {
       "model_id": "",
       "version_major": 2,
       "version_minor": 0
      },
      "text/plain": [
       "Training Batches:   0%|          | 0/76 [00:00<?, ?it/s]"
      ]
     },
     "metadata": {},
     "output_type": "display_data"
    },
    {
     "data": {
      "application/vnd.jupyter.widget-view+json": {
       "model_id": "",
       "version_major": 2,
       "version_minor": 0
      },
      "text/plain": [
       "Evaluating:   0%|          | 0/16 [00:00<?, ?it/s]"
      ]
     },
     "metadata": {},
     "output_type": "display_data"
    },
    {
     "name": "stdout",
     "output_type": "stream",
     "text": [
      "\n",
      "================================================================================\n",
      "⏱️  Epoch: 2/5\n",
      "================================================================================\n",
      "📊 Training   | Loss: 0.9754\n",
      "📊 Validation | Loss: 0.2506 | Accuracy: 0.9074 | F1 Score: 0.9074\n",
      "================================================================================\n",
      "\n"
     ]
    },
    {
     "name": "stderr",
     "output_type": "stream",
     "text": [
      "2025-03-19 22:12:26,068 - INFO - Checkpoint saved to ./saved_models/model_best_f1_0.9074.pt\n",
      "2025-03-19 22:12:26,070 - INFO - Epoch 3/5\n"
     ]
    },
    {
     "name": "stdout",
     "output_type": "stream",
     "text": [
      "📈 New best model saved!\n"
     ]
    },
    {
     "data": {
      "application/vnd.jupyter.widget-view+json": {
       "model_id": "",
       "version_major": 2,
       "version_minor": 0
      },
      "text/plain": [
       "Training Batches:   0%|          | 0/76 [00:00<?, ?it/s]"
      ]
     },
     "metadata": {},
     "output_type": "display_data"
    },
    {
     "data": {
      "application/vnd.jupyter.widget-view+json": {
       "model_id": "",
       "version_major": 2,
       "version_minor": 0
      },
      "text/plain": [
       "Evaluating:   0%|          | 0/16 [00:00<?, ?it/s]"
      ]
     },
     "metadata": {},
     "output_type": "display_data"
    },
    {
     "name": "stdout",
     "output_type": "stream",
     "text": [
      "\n",
      "================================================================================\n",
      "⏱️  Epoch: 3/5\n",
      "================================================================================\n",
      "📊 Training   | Loss: 0.5417\n",
      "📊 Validation | Loss: 0.2075 | Accuracy: 0.9239 | F1 Score: 0.9239\n",
      "================================================================================\n",
      "\n"
     ]
    },
    {
     "name": "stderr",
     "output_type": "stream",
     "text": [
      "2025-03-19 22:53:51,950 - INFO - Checkpoint saved to ./saved_models/model_best_f1_0.9239.pt\n",
      "2025-03-19 22:53:51,968 - INFO - Epoch 4/5\n"
     ]
    },
    {
     "name": "stdout",
     "output_type": "stream",
     "text": [
      "📈 New best model saved!\n"
     ]
    },
    {
     "data": {
      "application/vnd.jupyter.widget-view+json": {
       "model_id": "",
       "version_major": 2,
       "version_minor": 0
      },
      "text/plain": [
       "Training Batches:   0%|          | 0/76 [00:00<?, ?it/s]"
      ]
     },
     "metadata": {},
     "output_type": "display_data"
    },
    {
     "data": {
      "application/vnd.jupyter.widget-view+json": {
       "model_id": "",
       "version_major": 2,
       "version_minor": 0
      },
      "text/plain": [
       "Evaluating:   0%|          | 0/16 [00:00<?, ?it/s]"
      ]
     },
     "metadata": {},
     "output_type": "display_data"
    },
    {
     "name": "stderr",
     "output_type": "stream",
     "text": [
      "2025-03-19 23:33:59,600 - INFO - Epoch 5/5\n"
     ]
    },
    {
     "name": "stdout",
     "output_type": "stream",
     "text": [
      "\n",
      "================================================================================\n",
      "⏱️  Epoch: 4/5\n",
      "================================================================================\n",
      "📊 Training   | Loss: 0.4299\n",
      "📊 Validation | Loss: 0.2405 | Accuracy: 0.9136 | F1 Score: 0.9132\n",
      "================================================================================\n",
      "\n"
     ]
    },
    {
     "data": {
      "application/vnd.jupyter.widget-view+json": {
       "model_id": "",
       "version_major": 2,
       "version_minor": 0
      },
      "text/plain": [
       "Training Batches:   0%|          | 0/76 [00:00<?, ?it/s]"
      ]
     },
     "metadata": {},
     "output_type": "display_data"
    },
    {
     "data": {
      "application/vnd.jupyter.widget-view+json": {
       "model_id": "",
       "version_major": 2,
       "version_minor": 0
      },
      "text/plain": [
       "Evaluating:   0%|          | 0/16 [00:00<?, ?it/s]"
      ]
     },
     "metadata": {},
     "output_type": "display_data"
    },
    {
     "name": "stdout",
     "output_type": "stream",
     "text": [
      "\n",
      "================================================================================\n",
      "⏱️  Epoch: 5/5\n",
      "================================================================================\n",
      "📊 Training   | Loss: 0.3437\n",
      "📊 Validation | Loss: 0.1794 | Accuracy: 0.9321 | F1 Score: 0.9321\n",
      "================================================================================\n",
      "\n"
     ]
    },
    {
     "name": "stderr",
     "output_type": "stream",
     "text": [
      "2025-03-20 00:13:22,960 - INFO - Checkpoint saved to ./saved_models/model_best_f1_0.9321.pt\n"
     ]
    },
    {
     "name": "stdout",
     "output_type": "stream",
     "text": [
      "📈 New best model saved!\n",
      "✅ Training complete!\n"
     ]
    },
    {
     "data": {
      "image/png": "[encoded data removed]",
      "text/plain": [
       "<Figure size 1500x1000 with 2 Axes>"
      ]
     },
     "metadata": {},
     "output_type": "display_data"
    },
    {
     "name": "stdout",
     "output_type": "stream",
     "text": [
      "[INFO] Training complete.\n",
      "[INFO] Evaluating model...\n",
      "[INFO] Initializing model evaluator...\n",
      "[INFO] Running evaluation...\n",
      "[INFO] Evaluating model on 11 batches...\n",
      "[INFO] Evaluation complete. Processed 324 samples.\n",
      "[INFO] Calculating metrics...\n",
      "[INFO] Metrics calculated. Overall accuracy: 0.9198\n",
      "[INFO] Generating evaluation report at evaluation_results/microsoft/deberta-base_evaluation_report.pdf...\n"
     ]
    },
    {
     "name": "stderr",
     "output_type": "stream",
     "text": [
      "2025-03-20 00:15:00,165 - INFO - Evaluation report saved as 'evaluation_results/microsoft/deberta-base_evaluation_report.pdf'\n",
      "2025-03-20 00:15:00,178 - INFO - Evaluation report generated at evaluation_results/microsoft/deberta-base_evaluation_report.pdf\n",
      "2025-03-20 00:15:00,185 - INFO - Completed DeBERTa fine-tuning process.\n"
     ]
    },
    {
     "name": "stdout",
     "output_type": "stream",
     "text": [
      "[INFO] Evaluation report saved as 'evaluation_results/microsoft/deberta-base_evaluation_report.pdf'\n",
      "[INFO] Calculating metrics...\n",
      "[INFO] Metrics calculated. Overall accuracy: 0.9198\n",
      "[INFO] Evaluation report generated at evaluation_results/microsoft/deberta-base_evaluation_report.pdf\n",
      "[INFO] Model evaluation metrics: {'accuracy': 0.9197530864197531, 'precision': 0.930379746835443, 'recall': 0.9074074074074074, 'f1': 0.91875, 'per_class': {'Negative': {'precision': 0.9096385542168675, 'recall': 0.9320987654320988, 'f1-score': 0.9207317073170733, 'support': 162}, 'Positive': {'precision': 0.930379746835443, 'recall': 0.9074074074074074, 'f1-score': 0.91875, 'support': 162}}, 'confusion_matrix': array([[151,  11],\n",
      "       [ 15, 147]]), 'roc_auc': 0.9730986130163085, 'roc_curve': {'fpr': array([0.        , 0.        , 0.        , 0.00617284, 0.00617284,\n",
      "       0.01234568, 0.01234568, 0.01851852, 0.01851852, 0.02469136,\n",
      "       0.02469136, 0.0308642 , 0.0308642 , 0.03703704, 0.03703704,\n",
      "       0.05555556, 0.05555556, 0.0617284 , 0.0617284 , 0.06790123,\n",
      "       0.06790123, 0.07407407, 0.07407407, 0.08641975, 0.08641975,\n",
      "       0.10493827, 0.10493827, 0.12345679, 0.12345679, 0.12962963,\n",
      "       0.12962963, 0.16049383, 0.16049383, 0.19135802, 0.19135802,\n",
      "       0.24074074, 0.24074074, 0.32716049, 0.32716049, 0.36419753,\n",
      "       0.36419753, 0.59259259, 0.59259259, 0.59876543, 0.59876543,\n",
      "       1.        ]), 'tpr': array([0.        , 0.00617284, 0.57407407, 0.57407407, 0.69753086,\n",
      "       0.69753086, 0.77777778, 0.77777778, 0.7962963 , 0.7962963 ,\n",
      "       0.83333333, 0.83333333, 0.83950617, 0.83950617, 0.86419753,\n",
      "       0.86419753, 0.88271605, 0.88271605, 0.88888889, 0.88888889,\n",
      "       0.91975309, 0.91975309, 0.92592593, 0.92592593, 0.93209877,\n",
      "       0.93209877, 0.9382716 , 0.9382716 , 0.94444444, 0.94444444,\n",
      "       0.95679012, 0.95679012, 0.96296296, 0.96296296, 0.9691358 ,\n",
      "       0.9691358 , 0.97530864, 0.97530864, 0.98148148, 0.98148148,\n",
      "       0.98765432, 0.98765432, 0.99382716, 0.99382716, 1.        ,\n",
      "       1.        ])}, 'average_precision': 0.9763524176836115, 'pr_curve': {'precision': array([0.62548263, 0.62403101, 0.62645914, 0.625     , 0.62745098,\n",
      "       0.62992126, 0.63241107, 0.63492063, 0.6374502 , 0.64      ,\n",
      "       0.64257028, 0.64516129, 0.64777328, 0.6504065 , 0.65306122,\n",
      "       0.6557377 , 0.65843621, 0.66115702, 0.66390041, 0.66666667,\n",
      "       0.66945607, 0.67226891, 0.67510549, 0.6779661 , 0.68085106,\n",
      "       0.68376068, 0.68669528, 0.68965517, 0.69264069, 0.69565217,\n",
      "       0.69868996, 0.70175439, 0.70484581, 0.7079646 , 0.71111111,\n",
      "       0.71428571, 0.71748879, 0.72072072, 0.7239819 , 0.72727273,\n",
      "       0.73059361, 0.7293578 , 0.73271889, 0.73611111, 0.73953488,\n",
      "       0.74299065, 0.74647887, 0.75      , 0.74881517, 0.75238095,\n",
      "       0.75598086, 0.75961538, 0.76328502, 0.76699029, 0.77073171,\n",
      "       0.7745098 , 0.77832512, 0.78217822, 0.78606965, 0.79      ,\n",
      "       0.79396985, 0.7979798 , 0.80203046, 0.80102041, 0.80512821,\n",
      "       0.80927835, 0.8134715 , 0.81770833, 0.82198953, 0.82631579,\n",
      "       0.83068783, 0.83510638, 0.8342246 , 0.83870968, 0.84324324,\n",
      "       0.84782609, 0.85245902, 0.85714286, 0.85635359, 0.86111111,\n",
      "       0.86592179, 0.87078652, 0.87570621, 0.88068182, 0.88      ,\n",
      "       0.87931034, 0.88439306, 0.88372093, 0.88888889, 0.89411765,\n",
      "       0.89940828, 0.89880952, 0.90419162, 0.90963855, 0.91515152,\n",
      "       0.91463415, 0.9202454 , 0.92592593, 0.92546584, 0.93125   ,\n",
      "       0.93081761, 0.93037975, 0.92993631, 0.92948718, 0.92903226,\n",
      "       0.93506494, 0.93464052, 0.94078947, 0.94039735, 0.94      ,\n",
      "       0.93959732, 0.94594595, 0.95238095, 0.95890411, 0.95862069,\n",
      "       0.95833333, 0.95804196, 0.95774648, 0.96453901, 0.96428571,\n",
      "       0.97122302, 0.97101449, 0.97080292, 0.97058824, 0.97037037,\n",
      "       0.97014925, 0.96992481, 0.97727273, 0.97709924, 0.97692308,\n",
      "       0.97674419, 0.984375  , 0.98425197, 0.98412698, 0.984     ,\n",
      "       0.98387097, 0.98373984, 0.98360656, 0.98347107, 0.98333333,\n",
      "       0.98319328, 0.98305085, 0.98290598, 0.98275862, 0.9826087 ,\n",
      "       0.99122807, 0.99115044, 0.99107143, 0.99099099, 0.99090909,\n",
      "       0.99082569, 0.99074074, 0.99065421, 0.99056604, 0.99047619,\n",
      "       0.99038462, 0.99029126, 0.99019608, 0.99009901, 0.99      ,\n",
      "       0.98989899, 0.98979592, 0.98969072, 0.98958333, 0.98947368,\n",
      "       0.9893617 , 1.        , 1.        , 1.        , 1.        ,\n",
      "       1.        , 1.        , 1.        , 1.        , 1.        ,\n",
      "       1.        , 1.        , 1.        , 1.        , 1.        ,\n",
      "       1.        , 1.        , 1.        , 1.        , 1.        ,\n",
      "       1.        , 1.        , 1.        , 1.        , 1.        ,\n",
      "       1.        , 1.        , 1.        , 1.        , 1.        ,\n",
      "       1.        , 1.        , 1.        , 1.        , 1.        ,\n",
      "       1.        , 1.        , 1.        , 1.        , 1.        ,\n",
      "       1.        , 1.        , 1.        , 1.        , 1.        ,\n",
      "       1.        , 1.        , 1.        , 1.        , 1.        ,\n",
      "       1.        , 1.        , 1.        , 1.        , 1.        ,\n",
      "       1.        , 1.        , 1.        , 1.        , 1.        ,\n",
      "       1.        , 1.        , 1.        , 1.        , 1.        ,\n",
      "       1.        , 1.        , 1.        , 1.        , 1.        ,\n",
      "       1.        , 1.        , 1.        , 1.        , 1.        ,\n",
      "       1.        , 1.        , 1.        , 1.        , 1.        ,\n",
      "       1.        , 1.        , 1.        , 1.        , 1.        ,\n",
      "       1.        , 1.        , 1.        , 1.        , 1.        ,\n",
      "       1.        , 1.        , 1.        , 1.        , 1.        ]), 'recall': array([1.        , 0.99382716, 0.99382716, 0.98765432, 0.98765432,\n",
      "       0.98765432, 0.98765432, 0.98765432, 0.98765432, 0.98765432,\n",
      "       0.98765432, 0.98765432, 0.98765432, 0.98765432, 0.98765432,\n",
      "       0.98765432, 0.98765432, 0.98765432, 0.98765432, 0.98765432,\n",
      "       0.98765432, 0.98765432, 0.98765432, 0.98765432, 0.98765432,\n",
      "       0.98765432, 0.98765432, 0.98765432, 0.98765432, 0.98765432,\n",
      "       0.98765432, 0.98765432, 0.98765432, 0.98765432, 0.98765432,\n",
      "       0.98765432, 0.98765432, 0.98765432, 0.98765432, 0.98765432,\n",
      "       0.98765432, 0.98148148, 0.98148148, 0.98148148, 0.98148148,\n",
      "       0.98148148, 0.98148148, 0.98148148, 0.97530864, 0.97530864,\n",
      "       0.97530864, 0.97530864, 0.97530864, 0.97530864, 0.97530864,\n",
      "       0.97530864, 0.97530864, 0.97530864, 0.97530864, 0.97530864,\n",
      "       0.97530864, 0.97530864, 0.97530864, 0.9691358 , 0.9691358 ,\n",
      "       0.9691358 , 0.9691358 , 0.9691358 , 0.9691358 , 0.9691358 ,\n",
      "       0.9691358 , 0.9691358 , 0.96296296, 0.96296296, 0.96296296,\n",
      "       0.96296296, 0.96296296, 0.96296296, 0.95679012, 0.95679012,\n",
      "       0.95679012, 0.95679012, 0.95679012, 0.95679012, 0.95061728,\n",
      "       0.94444444, 0.94444444, 0.9382716 , 0.9382716 , 0.9382716 ,\n",
      "       0.9382716 , 0.93209877, 0.93209877, 0.93209877, 0.93209877,\n",
      "       0.92592593, 0.92592593, 0.92592593, 0.91975309, 0.91975309,\n",
      "       0.91358025, 0.90740741, 0.90123457, 0.89506173, 0.88888889,\n",
      "       0.88888889, 0.88271605, 0.88271605, 0.87654321, 0.87037037,\n",
      "       0.86419753, 0.86419753, 0.86419753, 0.86419753, 0.85802469,\n",
      "       0.85185185, 0.84567901, 0.83950617, 0.83950617, 0.83333333,\n",
      "       0.83333333, 0.82716049, 0.82098765, 0.81481481, 0.80864198,\n",
      "       0.80246914, 0.7962963 , 0.7962963 , 0.79012346, 0.78395062,\n",
      "       0.77777778, 0.77777778, 0.77160494, 0.7654321 , 0.75925926,\n",
      "       0.75308642, 0.74691358, 0.74074074, 0.7345679 , 0.72839506,\n",
      "       0.72222222, 0.71604938, 0.70987654, 0.7037037 , 0.69753086,\n",
      "       0.69753086, 0.69135802, 0.68518519, 0.67901235, 0.67283951,\n",
      "       0.66666667, 0.66049383, 0.65432099, 0.64814815, 0.64197531,\n",
      "       0.63580247, 0.62962963, 0.62345679, 0.61728395, 0.61111111,\n",
      "       0.60493827, 0.59876543, 0.59259259, 0.58641975, 0.58024691,\n",
      "       0.57407407, 0.57407407, 0.56790123, 0.5617284 , 0.55555556,\n",
      "       0.54938272, 0.54320988, 0.53703704, 0.5308642 , 0.52469136,\n",
      "       0.51851852, 0.51234568, 0.50617284, 0.5       , 0.49382716,\n",
      "       0.48765432, 0.48148148, 0.47530864, 0.4691358 , 0.46296296,\n",
      "       0.45679012, 0.45061728, 0.44444444, 0.4382716 , 0.43209877,\n",
      "       0.42592593, 0.41975309, 0.41358025, 0.40740741, 0.40123457,\n",
      "       0.39506173, 0.38888889, 0.38271605, 0.37654321, 0.37037037,\n",
      "       0.36419753, 0.35802469, 0.35185185, 0.34567901, 0.33950617,\n",
      "       0.33333333, 0.32716049, 0.32098765, 0.31481481, 0.30864198,\n",
      "       0.30246914, 0.2962963 , 0.29012346, 0.28395062, 0.27777778,\n",
      "       0.27160494, 0.2654321 , 0.25925926, 0.25308642, 0.24691358,\n",
      "       0.24074074, 0.2345679 , 0.22839506, 0.22222222, 0.21604938,\n",
      "       0.20987654, 0.2037037 , 0.19753086, 0.19135802, 0.18518519,\n",
      "       0.17901235, 0.17283951, 0.16666667, 0.16049383, 0.15432099,\n",
      "       0.14814815, 0.14197531, 0.13580247, 0.12962963, 0.12345679,\n",
      "       0.11728395, 0.11111111, 0.10493827, 0.09876543, 0.09259259,\n",
      "       0.08641975, 0.08024691, 0.07407407, 0.06790123, 0.0617284 ,\n",
      "       0.05555556, 0.04938272, 0.04320988, 0.03703704, 0.0308642 ,\n",
      "       0.02469136, 0.01851852, 0.01234568, 0.00617284, 0.        ])}}\n",
      "[INFO] Fine-tuning process completed.\n",
      "\n",
      "Fine-tuning completed with metrics: {'accuracy': 0.9197530864197531, 'precision': 0.930379746835443, 'recall': 0.9074074074074074, 'f1': 0.91875, 'per_class': {'Negative': {'precision': 0.9096385542168675, 'recall': 0.9320987654320988, 'f1-score': 0.9207317073170733, 'support': 162}, 'Positive': {'precision': 0.930379746835443, 'recall': 0.9074074074074074, 'f1-score': 0.91875, 'support': 162}}, 'confusion_matrix': array([[151,  11],\n",
      "       [ 15, 147]]), 'roc_auc': 0.9730986130163085, 'roc_curve': {'fpr': array([0.        , 0.        , 0.        , 0.00617284, 0.00617284,\n",
      "       0.01234568, 0.01234568, 0.01851852, 0.01851852, 0.02469136,\n",
      "       0.02469136, 0.0308642 , 0.0308642 , 0.03703704, 0.03703704,\n",
      "       0.05555556, 0.05555556, 0.0617284 , 0.0617284 , 0.06790123,\n",
      "       0.06790123, 0.07407407, 0.07407407, 0.08641975, 0.08641975,\n",
      "       0.10493827, 0.10493827, 0.12345679, 0.12345679, 0.12962963,\n",
      "       0.12962963, 0.16049383, 0.16049383, 0.19135802, 0.19135802,\n",
      "       0.24074074, 0.24074074, 0.32716049, 0.32716049, 0.36419753,\n",
      "       0.36419753, 0.59259259, 0.59259259, 0.59876543, 0.59876543,\n",
      "       1.        ]), 'tpr': array([0.        , 0.00617284, 0.57407407, 0.57407407, 0.69753086,\n",
      "       0.69753086, 0.77777778, 0.77777778, 0.7962963 , 0.7962963 ,\n",
      "       0.83333333, 0.83333333, 0.83950617, 0.83950617, 0.86419753,\n",
      "       0.86419753, 0.88271605, 0.88271605, 0.88888889, 0.88888889,\n",
      "       0.91975309, 0.91975309, 0.92592593, 0.92592593, 0.93209877,\n",
      "       0.93209877, 0.9382716 , 0.9382716 , 0.94444444, 0.94444444,\n",
      "       0.95679012, 0.95679012, 0.96296296, 0.96296296, 0.9691358 ,\n",
      "       0.9691358 , 0.97530864, 0.97530864, 0.98148148, 0.98148148,\n",
      "       0.98765432, 0.98765432, 0.99382716, 0.99382716, 1.        ,\n",
      "       1.        ])}, 'average_precision': 0.9763524176836115, 'pr_curve': {'precision': array([0.62548263, 0.62403101, 0.62645914, 0.625     , 0.62745098,\n",
      "       0.62992126, 0.63241107, 0.63492063, 0.6374502 , 0.64      ,\n",
      "       0.64257028, 0.64516129, 0.64777328, 0.6504065 , 0.65306122,\n",
      "       0.6557377 , 0.65843621, 0.66115702, 0.66390041, 0.66666667,\n",
      "       0.66945607, 0.67226891, 0.67510549, 0.6779661 , 0.68085106,\n",
      "       0.68376068, 0.68669528, 0.68965517, 0.69264069, 0.69565217,\n",
      "       0.69868996, 0.70175439, 0.70484581, 0.7079646 , 0.71111111,\n",
      "       0.71428571, 0.71748879, 0.72072072, 0.7239819 , 0.72727273,\n",
      "       0.73059361, 0.7293578 , 0.73271889, 0.73611111, 0.73953488,\n",
      "       0.74299065, 0.74647887, 0.75      , 0.74881517, 0.75238095,\n",
      "       0.75598086, 0.75961538, 0.76328502, 0.76699029, 0.77073171,\n",
      "       0.7745098 , 0.77832512, 0.78217822, 0.78606965, 0.79      ,\n",
      "       0.79396985, 0.7979798 , 0.80203046, 0.80102041, 0.80512821,\n",
      "       0.80927835, 0.8134715 , 0.81770833, 0.82198953, 0.82631579,\n",
      "       0.83068783, 0.83510638, 0.8342246 , 0.83870968, 0.84324324,\n",
      "       0.84782609, 0.85245902, 0.85714286, 0.85635359, 0.86111111,\n",
      "       0.86592179, 0.87078652, 0.87570621, 0.88068182, 0.88      ,\n",
      "       0.87931034, 0.88439306, 0.88372093, 0.88888889, 0.89411765,\n",
      "       0.89940828, 0.89880952, 0.90419162, 0.90963855, 0.91515152,\n",
      "       0.91463415, 0.9202454 , 0.92592593, 0.92546584, 0.93125   ,\n",
      "       0.93081761, 0.93037975, 0.92993631, 0.92948718, 0.92903226,\n",
      "       0.93506494, 0.93464052, 0.94078947, 0.94039735, 0.94      ,\n",
      "       0.93959732, 0.94594595, 0.95238095, 0.95890411, 0.95862069,\n",
      "       0.95833333, 0.95804196, 0.95774648, 0.96453901, 0.96428571,\n",
      "       0.97122302, 0.97101449, 0.97080292, 0.97058824, 0.97037037,\n",
      "       0.97014925, 0.96992481, 0.97727273, 0.97709924, 0.97692308,\n",
      "       0.97674419, 0.984375  , 0.98425197, 0.98412698, 0.984     ,\n",
      "       0.98387097, 0.98373984, 0.98360656, 0.98347107, 0.98333333,\n",
      "       0.98319328, 0.98305085, 0.98290598, 0.98275862, 0.9826087 ,\n",
      "       0.99122807, 0.99115044, 0.99107143, 0.99099099, 0.99090909,\n",
      "       0.99082569, 0.99074074, 0.99065421, 0.99056604, 0.99047619,\n",
      "       0.99038462, 0.99029126, 0.99019608, 0.99009901, 0.99      ,\n",
      "       0.98989899, 0.98979592, 0.98969072, 0.98958333, 0.98947368,\n",
      "       0.9893617 , 1.        , 1.        , 1.        , 1.        ,\n",
      "       1.        , 1.        , 1.        , 1.        , 1.        ,\n",
      "       1.        , 1.        , 1.        , 1.        , 1.        ,\n",
      "       1.        , 1.        , 1.        , 1.        , 1.        ,\n",
      "       1.        , 1.        , 1.        , 1.        , 1.        ,\n",
      "       1.        , 1.        , 1.        , 1.        , 1.        ,\n",
      "       1.        , 1.        , 1.        , 1.        , 1.        ,\n",
      "       1.        , 1.        , 1.        , 1.        , 1.        ,\n",
      "       1.        , 1.        , 1.        , 1.        , 1.        ,\n",
      "       1.        , 1.        , 1.        , 1.        , 1.        ,\n",
      "       1.        , 1.        , 1.        , 1.        , 1.        ,\n",
      "       1.        , 1.        , 1.        , 1.        , 1.        ,\n",
      "       1.        , 1.        , 1.        , 1.        , 1.        ,\n",
      "       1.        , 1.        , 1.        , 1.        , 1.        ,\n",
      "       1.        , 1.        , 1.        , 1.        , 1.        ,\n",
      "       1.        , 1.        , 1.        , 1.        , 1.        ,\n",
      "       1.        , 1.        , 1.        , 1.        , 1.        ,\n",
      "       1.        , 1.        , 1.        , 1.        , 1.        ,\n",
      "       1.        , 1.        , 1.        , 1.        , 1.        ]), 'recall': array([1.        , 0.99382716, 0.99382716, 0.98765432, 0.98765432,\n",
      "       0.98765432, 0.98765432, 0.98765432, 0.98765432, 0.98765432,\n",
      "       0.98765432, 0.98765432, 0.98765432, 0.98765432, 0.98765432,\n",
      "       0.98765432, 0.98765432, 0.98765432, 0.98765432, 0.98765432,\n",
      "       0.98765432, 0.98765432, 0.98765432, 0.98765432, 0.98765432,\n",
      "       0.98765432, 0.98765432, 0.98765432, 0.98765432, 0.98765432,\n",
      "       0.98765432, 0.98765432, 0.98765432, 0.98765432, 0.98765432,\n",
      "       0.98765432, 0.98765432, 0.98765432, 0.98765432, 0.98765432,\n",
      "       0.98765432, 0.98148148, 0.98148148, 0.98148148, 0.98148148,\n",
      "       0.98148148, 0.98148148, 0.98148148, 0.97530864, 0.97530864,\n",
      "       0.97530864, 0.97530864, 0.97530864, 0.97530864, 0.97530864,\n",
      "       0.97530864, 0.97530864, 0.97530864, 0.97530864, 0.97530864,\n",
      "       0.97530864, 0.97530864, 0.97530864, 0.9691358 , 0.9691358 ,\n",
      "       0.9691358 , 0.9691358 , 0.9691358 , 0.9691358 , 0.9691358 ,\n",
      "       0.9691358 , 0.9691358 , 0.96296296, 0.96296296, 0.96296296,\n",
      "       0.96296296, 0.96296296, 0.96296296, 0.95679012, 0.95679012,\n",
      "       0.95679012, 0.95679012, 0.95679012, 0.95679012, 0.95061728,\n",
      "       0.94444444, 0.94444444, 0.9382716 , 0.9382716 , 0.9382716 ,\n",
      "       0.9382716 , 0.93209877, 0.93209877, 0.93209877, 0.93209877,\n",
      "       0.92592593, 0.92592593, 0.92592593, 0.91975309, 0.91975309,\n",
      "       0.91358025, 0.90740741, 0.90123457, 0.89506173, 0.88888889,\n",
      "       0.88888889, 0.88271605, 0.88271605, 0.87654321, 0.87037037,\n",
      "       0.86419753, 0.86419753, 0.86419753, 0.86419753, 0.85802469,\n",
      "       0.85185185, 0.84567901, 0.83950617, 0.83950617, 0.83333333,\n",
      "       0.83333333, 0.82716049, 0.82098765, 0.81481481, 0.80864198,\n",
      "       0.80246914, 0.7962963 , 0.7962963 , 0.79012346, 0.78395062,\n",
      "       0.77777778, 0.77777778, 0.77160494, 0.7654321 , 0.75925926,\n",
      "       0.75308642, 0.74691358, 0.74074074, 0.7345679 , 0.72839506,\n",
      "       0.72222222, 0.71604938, 0.70987654, 0.7037037 , 0.69753086,\n",
      "       0.69753086, 0.69135802, 0.68518519, 0.67901235, 0.67283951,\n",
      "       0.66666667, 0.66049383, 0.65432099, 0.64814815, 0.64197531,\n",
      "       0.63580247, 0.62962963, 0.62345679, 0.61728395, 0.61111111,\n",
      "       0.60493827, 0.59876543, 0.59259259, 0.58641975, 0.58024691,\n",
      "       0.57407407, 0.57407407, 0.56790123, 0.5617284 , 0.55555556,\n",
      "       0.54938272, 0.54320988, 0.53703704, 0.5308642 , 0.52469136,\n",
      "       0.51851852, 0.51234568, 0.50617284, 0.5       , 0.49382716,\n",
      "       0.48765432, 0.48148148, 0.47530864, 0.4691358 , 0.46296296,\n",
      "       0.45679012, 0.45061728, 0.44444444, 0.4382716 , 0.43209877,\n",
      "       0.42592593, 0.41975309, 0.41358025, 0.40740741, 0.40123457,\n",
      "       0.39506173, 0.38888889, 0.38271605, 0.37654321, 0.37037037,\n",
      "       0.36419753, 0.35802469, 0.35185185, 0.34567901, 0.33950617,\n",
      "       0.33333333, 0.32716049, 0.32098765, 0.31481481, 0.30864198,\n",
      "       0.30246914, 0.2962963 , 0.29012346, 0.28395062, 0.27777778,\n",
      "       0.27160494, 0.2654321 , 0.25925926, 0.25308642, 0.24691358,\n",
      "       0.24074074, 0.2345679 , 0.22839506, 0.22222222, 0.21604938,\n",
      "       0.20987654, 0.2037037 , 0.19753086, 0.19135802, 0.18518519,\n",
      "       0.17901235, 0.17283951, 0.16666667, 0.16049383, 0.15432099,\n",
      "       0.14814815, 0.14197531, 0.13580247, 0.12962963, 0.12345679,\n",
      "       0.11728395, 0.11111111, 0.10493827, 0.09876543, 0.09259259,\n",
      "       0.08641975, 0.08024691, 0.07407407, 0.06790123, 0.0617284 ,\n",
      "       0.05555556, 0.04938272, 0.04320988, 0.03703704, 0.0308642 ,\n",
      "       0.02469136, 0.01851852, 0.01234568, 0.00617284, 0.        ])}}\n",
      "Fine-tuning process completed!\n"
     ]
    }
   ],
   "source": [
    "# Run the main function and capture the returned fine_tuner instance\n",
    "print(\"Starting fine-tuning process...\")\n",
    "fine_tuner = main()\n",
    "print(\"Fine-tuning process completed!\")   "
   ]
  },
  {
   "cell_type": "code",
   "execution_count": 5,
   "id": "23d33f4b",
   "metadata": {},
   "outputs": [
    {
     "name": "stdout",
     "output_type": "stream",
     "text": [
      "Final Evaluation Metrics:\n"
     ]
    },
    {
     "data": {
      "text/html": [
       "<div>\n",
       "<style scoped>\n",
       "    .dataframe tbody tr th:only-of-type {\n",
       "        vertical-align: middle;\n",
       "    }\n",
       "\n",
       "    .dataframe tbody tr th {\n",
       "        vertical-align: top;\n",
       "    }\n",
       "\n",
       "    .dataframe thead th {\n",
       "        text-align: right;\n",
       "    }\n",
       "</style>\n",
       "<table border=\"1\" class=\"dataframe\">\n",
       "  <thead>\n",
       "    <tr style=\"text-align: right;\">\n",
       "      <th></th>\n",
       "      <th>Metric</th>\n",
       "      <th>Value</th>\n",
       "    </tr>\n",
       "  </thead>\n",
       "  <tbody>\n",
       "    <tr>\n",
       "      <th>0</th>\n",
       "      <td>accuracy</td>\n",
       "      <td>0.919753</td>\n",
       "    </tr>\n",
       "    <tr>\n",
       "      <th>1</th>\n",
       "      <td>precision</td>\n",
       "      <td>0.93038</td>\n",
       "    </tr>\n",
       "    <tr>\n",
       "      <th>2</th>\n",
       "      <td>recall</td>\n",
       "      <td>0.907407</td>\n",
       "    </tr>\n",
       "    <tr>\n",
       "      <th>3</th>\n",
       "      <td>f1</td>\n",
       "      <td>0.91875</td>\n",
       "    </tr>\n",
       "    <tr>\n",
       "      <th>4</th>\n",
       "      <td>per_class</td>\n",
       "      <td>{'Negative': {'precision': 0.9096385542168675,...</td>\n",
       "    </tr>\n",
       "    <tr>\n",
       "      <th>5</th>\n",
       "      <td>confusion_matrix</td>\n",
       "      <td>[[151, 11], [15, 147]]</td>\n",
       "    </tr>\n",
       "    <tr>\n",
       "      <th>6</th>\n",
       "      <td>roc_auc</td>\n",
       "      <td>0.973099</td>\n",
       "    </tr>\n",
       "    <tr>\n",
       "      <th>7</th>\n",
       "      <td>roc_curve</td>\n",
       "      <td>{'fpr': [0.0, 0.0, 0.0, 0.006172839506172839, ...</td>\n",
       "    </tr>\n",
       "    <tr>\n",
       "      <th>8</th>\n",
       "      <td>average_precision</td>\n",
       "      <td>0.976352</td>\n",
       "    </tr>\n",
       "    <tr>\n",
       "      <th>9</th>\n",
       "      <td>pr_curve</td>\n",
       "      <td>{'precision': [0.6254826254826255, 0.624031007...</td>\n",
       "    </tr>\n",
       "  </tbody>\n",
       "</table>\n",
       "</div>"
      ],
      "text/plain": [
       "              Metric                                              Value\n",
       "0           accuracy                                           0.919753\n",
       "1          precision                                            0.93038\n",
       "2             recall                                           0.907407\n",
       "3                 f1                                            0.91875\n",
       "4          per_class  {'Negative': {'precision': 0.9096385542168675,...\n",
       "5   confusion_matrix                             [[151, 11], [15, 147]]\n",
       "6            roc_auc                                           0.973099\n",
       "7          roc_curve  {'fpr': [0.0, 0.0, 0.0, 0.006172839506172839, ...\n",
       "8  average_precision                                           0.976352\n",
       "9           pr_curve  {'precision': [0.6254826254826255, 0.624031007..."
      ]
     },
     "metadata": {},
     "output_type": "display_data"
    },
    {
     "data": {
      "image/png": "[encoded data removed]",
      "text/plain": [
       "<Figure size 1400x600 with 2 Axes>"
      ]
     },
     "metadata": {},
     "output_type": "display_data"
    }
   ],
   "source": [
    "# Cell 4: View Training Results\n",
    "    \n",
    "# Display metrics if available\n",
    "if hasattr(fine_tuner, 'metrics'):\n",
    "    print(\"Final Evaluation Metrics:\")\n",
    "    metrics_df = pd.DataFrame([fine_tuner.metrics])\n",
    "    display(metrics_df.T.reset_index().rename(columns={'index': 'Metric', 0: 'Value'}))\n",
    "# Visualize training history if available\n",
    "if hasattr(fine_tuner.trainer, 'history') and fine_tuner.trainer.history:\n",
    "    history = fine_tuner.trainer.history\n",
    "    if history.get('train_loss') and history.get('val_loss'):\n",
    "        # Create figure\n",
    "        plt.figure(figsize=(14, 6))\n",
    "        # Plot training and validation loss\n",
    "        plt.subplot(1, 2, 1)\n",
    "        plt.plot(history['train_loss'], 'b-o', label='Training Loss')\n",
    "        plt.plot(history['val_loss'], 'r-o', label='Validation Loss')\n",
    "        plt.title('Loss During Training')\n",
    "        plt.xlabel('Epoch')\n",
    "        plt.ylabel('Loss')\n",
    "        plt.legend()\n",
    "        plt.grid(True, alpha=0.3)\n",
    "        # Plot performance metrics\n",
    "        plt.subplot(1, 2, 2)\n",
    "        if 'val_accuracy' in history:\n",
    "            plt.plot(history['val_accuracy'], 'g-o', label='Validation Accuracy')\n",
    "        if 'val_f1' in history:\n",
    "            # Fix: Change 'p-o' to 'm-o' (magenta instead of purple)\n",
    "            plt.plot(history['val_f1'], 'm-o', label='Validation F1')\n",
    "        plt.title('Metrics During Training')\n",
    "        plt.xlabel('Epoch')\n",
    "        plt.ylabel('Score')\n",
    "        plt.legend()\n",
    "        plt.grid(True, alpha=0.3)\n",
    "        plt.tight_layout()\n",
    "        plt.show()\n",
    "else:\n",
    "    print(\"No training history available.\")"
   ]
  },
  {
   "cell_type": "code",
   "execution_count": 7,
   "id": "8c7cc08c",
   "metadata": {},
   "outputs": [
    {
     "data": {
      "text/html": [
       "<div class='section-header'>Model Evaluation</div>"
      ],
      "text/plain": [
       "<IPython.core.display.HTML object>"
      ]
     },
     "metadata": {},
     "output_type": "display_data"
    },
    {
     "name": "stderr",
     "output_type": "stream",
     "text": [
      "2025-03-15 18:04:13,009 - INFO - Dataset loaded with 3238 samples.\n"
     ]
    },
    {
     "name": "stdout",
     "output_type": "stream",
     "text": [
      "Loading test dataset...\n",
      "Test dataset loaded with 324 samples.\n",
      "Running comprehensive evaluation...\n",
      "[INFO] Evaluating model on 21 batches...\n",
      "[INFO] Evaluation complete. Processed 324 samples.\n",
      "[INFO] Calculating metrics...\n",
      "[INFO] Metrics calculated. Overall accuracy: 0.9414\n"
     ]
    },
    {
     "data": {
      "image/png": "[encoded data removed]",
      "text/plain": [
       "<Figure size 1000x800 with 2 Axes>"
      ]
     },
     "metadata": {},
     "output_type": "display_data"
    },
    {
     "name": "stdout",
     "output_type": "stream",
     "text": [
      "\n",
      "Classification Report:\n"
     ]
    },
    {
     "data": {
      "text/html": [
       "<div>\n",
       "<style scoped>\n",
       "    .dataframe tbody tr th:only-of-type {\n",
       "        vertical-align: middle;\n",
       "    }\n",
       "\n",
       "    .dataframe tbody tr th {\n",
       "        vertical-align: top;\n",
       "    }\n",
       "\n",
       "    .dataframe thead th {\n",
       "        text-align: right;\n",
       "    }\n",
       "</style>\n",
       "<table border=\"1\" class=\"dataframe\">\n",
       "  <thead>\n",
       "    <tr style=\"text-align: right;\">\n",
       "      <th></th>\n",
       "      <th>Precision</th>\n",
       "      <th>Recall</th>\n",
       "      <th>F1 Score</th>\n",
       "      <th>Accuracy</th>\n",
       "    </tr>\n",
       "  </thead>\n",
       "  <tbody>\n",
       "    <tr>\n",
       "      <th>0</th>\n",
       "      <td>0.949686</td>\n",
       "      <td>0.932099</td>\n",
       "      <td>0.94081</td>\n",
       "      <td>0.941358</td>\n",
       "    </tr>\n",
       "  </tbody>\n",
       "</table>\n",
       "</div>"
      ],
      "text/plain": [
       "   Precision    Recall  F1 Score  Accuracy\n",
       "0   0.949686  0.932099   0.94081  0.941358"
      ]
     },
     "metadata": {},
     "output_type": "display_data"
    },
    {
     "name": "stdout",
     "output_type": "stream",
     "text": [
      "\n",
      "Per-Class Performance:\n"
     ]
    },
    {
     "data": {
      "text/html": [
       "<div>\n",
       "<style scoped>\n",
       "    .dataframe tbody tr th:only-of-type {\n",
       "        vertical-align: middle;\n",
       "    }\n",
       "\n",
       "    .dataframe tbody tr th {\n",
       "        vertical-align: top;\n",
       "    }\n",
       "\n",
       "    .dataframe thead th {\n",
       "        text-align: right;\n",
       "    }\n",
       "</style>\n",
       "<table border=\"1\" class=\"dataframe\">\n",
       "  <thead>\n",
       "    <tr style=\"text-align: right;\">\n",
       "      <th></th>\n",
       "      <th>precision</th>\n",
       "      <th>recall</th>\n",
       "      <th>f1-score</th>\n",
       "      <th>support</th>\n",
       "    </tr>\n",
       "  </thead>\n",
       "  <tbody>\n",
       "    <tr>\n",
       "      <th>Negative</th>\n",
       "      <td>0.933333</td>\n",
       "      <td>0.950617</td>\n",
       "      <td>0.941896</td>\n",
       "      <td>162.0</td>\n",
       "    </tr>\n",
       "    <tr>\n",
       "      <th>Positive</th>\n",
       "      <td>0.949686</td>\n",
       "      <td>0.932099</td>\n",
       "      <td>0.940810</td>\n",
       "      <td>162.0</td>\n",
       "    </tr>\n",
       "  </tbody>\n",
       "</table>\n",
       "</div>"
      ],
      "text/plain": [
       "          precision    recall  f1-score  support\n",
       "Negative   0.933333  0.950617  0.941896    162.0\n",
       "Positive   0.949686  0.932099  0.940810    162.0"
      ]
     },
     "metadata": {},
     "output_type": "display_data"
    }
   ],
   "source": [
    "# Cell 5: Run Comprehensive Evaluation\n",
    "try:\n",
    "    # Display header\n",
    "    display(HTML(\"<div class='section-header'>Model Evaluation</div>\"))\n",
    "    \n",
    "    # Import evaluator\n",
    "    from src.training.model_evaluator import ModelEvaluator\n",
    "    \n",
    "    # Get test data\n",
    "    print(\"Loading test dataset...\")\n",
    "    texts, labels = fine_tuner.data_module.load_dataset()\n",
    "    _, _, test_loader = fine_tuner.data_module.create_dataloaders(texts, labels)\n",
    "    print(f\"Test dataset loaded with {len(test_loader.dataset)} samples.\")\n",
    "    \n",
    "    # Create evaluator and run evaluation\n",
    "    print(\"Running comprehensive evaluation...\")\n",
    "    evaluator = ModelEvaluator(\n",
    "        model=fine_tuner.model,\n",
    "        device=fine_tuner.device,\n",
    "        model_name=\"Deverta Sentiment Classifier\",\n",
    "        class_names=fine_tuner.class_names\n",
    "    )\n",
    "    \n",
    "    # Evaluate model (get raw results for custom visualizations)\n",
    "    all_labels, all_preds, all_probs = evaluator.evaluate(test_loader)\n",
    "    metrics = evaluator.calculate_metrics(all_labels, all_preds, all_probs)\n",
    "    \n",
    "    # Display confusion matrix\n",
    "    plt.figure(figsize=(10, 8))\n",
    "    cm = metrics[\"confusion_matrix\"]\n",
    "    sns.heatmap(cm, annot=True, fmt=\"d\", cmap=\"Blues\", \n",
    "               xticklabels=fine_tuner.class_names, \n",
    "               yticklabels=fine_tuner.class_names)\n",
    "    plt.title(\"Confusion Matrix\")\n",
    "    plt.ylabel(\"True Label\")\n",
    "    plt.xlabel(\"Predicted Label\")\n",
    "    plt.tight_layout()\n",
    "    plt.show()\n",
    "    \n",
    "    # Display classification metrics\n",
    "    print(\"\\nClassification Report:\")\n",
    "    metrics_df = pd.DataFrame({\n",
    "        'Precision': [metrics['precision']],\n",
    "        'Recall': [metrics['recall']],\n",
    "        'F1 Score': [metrics['f1']],\n",
    "        'Accuracy': [metrics['accuracy']]\n",
    "    })\n",
    "    display(metrics_df)\n",
    "    \n",
    "    # Display per-class metrics if available\n",
    "    if 'per_class' in metrics:\n",
    "        print(\"\\nPer-Class Performance:\")\n",
    "        per_class_df = pd.DataFrame(metrics['per_class']).T\n",
    "        display(per_class_df)\n",
    "    \n",
    "except Exception as e:\n",
    "    print(f\"An error occurred: {e}\")\n",
    "    import traceback\n",
    "    traceback.print_exc()"
   ]
  },
  {
   "cell_type": "code",
   "execution_count": 6,
   "id": "3b15284e",
   "metadata": {},
   "outputs": [
    {
     "data": {
      "text/html": [
       "<div class='section-header'>Generate Evaluation Report</div>"
      ],
      "text/plain": [
       "<IPython.core.display.HTML object>"
      ]
     },
     "metadata": {},
     "output_type": "display_data"
    },
    {
     "name": "stdout",
     "output_type": "stream",
     "text": [
      "Generating comprehensive PDF report at evaluation_results/microsoft/deberta-base_evaluation_report_v02.pdf...\n",
      "An error occurred: name 'evaluator' is not defined\n"
     ]
    },
    {
     "name": "stderr",
     "output_type": "stream",
     "text": [
      "Traceback (most recent call last):\n",
      "  File \"/var/folders/xc/qkmv0r456dn4gsy6rfgnpns80000gn/T/ipykernel_55516/1800118396.py\", line 11, in <module>\n",
      "    evaluator.generate_pdf_report(all_labels, all_preds, all_probs, output_path=report_path)\n",
      "NameError: name 'evaluator' is not defined\n"
     ]
    }
   ],
   "source": [
    "# Cell 6: Generate PDF Report (Optional)\n",
    "try:\n",
    "    # Display header\n",
    "    display(HTML(\"<div class='section-header'>Generate Evaluation Report</div>\"))\n",
    "    \n",
    "    # Generate PDF report\n",
    "    report_path = f\"evaluation_results/{CONFIG['models']['deberta']['pretrained_model_name']}_evaluation_report_v02.pdf\"\n",
    "    os.makedirs(os.path.dirname(report_path), exist_ok=True)\n",
    "    \n",
    "    print(f\"Generating comprehensive PDF report at {report_path}...\")\n",
    "    evaluator.generate_pdf_report(all_labels, all_preds, all_probs, output_path=report_path)\n",
    "    print(f\"PDF report generated successfully at: {report_path}\")\n",
    "    \n",
    "except Exception as e:\n",
    "    print(f\"An error occurred: {e}\")\n",
    "    import traceback\n",
    "    traceback.print_exc()\n"
   ]
  },
  {
   "cell_type": "code",
   "execution_count": 7,
   "id": "f426ff25",
   "metadata": {},
   "outputs": [
    {
     "data": {
      "text/html": [
       "<div class='section-header'>Test with Custom Inputs</div>"
      ],
      "text/plain": [
       "<IPython.core.display.HTML object>"
      ]
     },
     "metadata": {},
     "output_type": "display_data"
    },
    {
     "name": "stdout",
     "output_type": "stream",
     "text": [
      "Try your own examples:\n"
     ]
    },
    {
     "data": {
      "application/vnd.jupyter.widget-view+json": {
       "model_id": "a8fbea30d5914c8cb3578377bfb2bf37",
       "version_major": 2,
       "version_minor": 0
      },
      "text/plain": [
       "Textarea(value='', layout=Layout(height='100px', width='100%'), placeholder='Enter text to analyze...')"
      ]
     },
     "metadata": {},
     "output_type": "display_data"
    },
    {
     "data": {
      "application/vnd.jupyter.widget-view+json": {
       "model_id": "c2c31a4e8795430298499e6939218db0",
       "version_major": 2,
       "version_minor": 0
      },
      "text/plain": [
       "Button(button_style='primary', description='Analyze Sentiment', layout=Layout(width='200px'), style=ButtonStyl…"
      ]
     },
     "metadata": {},
     "output_type": "display_data"
    },
    {
     "data": {
      "application/vnd.jupyter.widget-view+json": {
       "model_id": "c5033f8b31154b6994b9f5ffc5071dc3",
       "version_major": 2,
       "version_minor": 0
      },
      "text/plain": [
       "Output()"
      ]
     },
     "metadata": {},
     "output_type": "display_data"
    }
   ],
   "source": [
    "import torch\n",
    "\n",
    "# Cell 7: Test with Custom Inputs (Optional)\n",
    "try:\n",
    "    # Display header\n",
    "    display(HTML(\"<div class='section-header'>Test with Custom Inputs</div>\"))\n",
    "    \n",
    "    def predict_sentiment(text):\n",
    "        \"\"\"Function to predict sentiment of a given text\"\"\"\n",
    "        # Tokenize input\n",
    "        inputs = fine_tuner.tokenizer(\n",
    "            text,\n",
    "            return_tensors=\"pt\",\n",
    "            truncation=True,\n",
    "            padding=\"max_length\",\n",
    "            max_length=CONFIG[\"training\"][\"max_length\"]\n",
    "        )\n",
    "        \n",
    "        # Move inputs to device\n",
    "        inputs = {key: val.to(fine_tuner.device) for key, val in inputs.items()}\n",
    "        \n",
    "        # Set model to evaluation mode\n",
    "        fine_tuner.model.eval()\n",
    "        \n",
    "        # Get prediction\n",
    "        with torch.no_grad():\n",
    "            outputs = fine_tuner.model(**inputs)\n",
    "            logits = outputs.logits\n",
    "            probabilities = torch.nn.functional.softmax(logits, dim=1)\n",
    "            prediction = torch.argmax(logits, dim=1)\n",
    "        \n",
    "        # Get predicted class\n",
    "        predicted_class = fine_tuner.class_names[prediction.item()]\n",
    "        confidence = probabilities[0][prediction.item()].item() * 100\n",
    "        \n",
    "        # Get probabilities for all classes\n",
    "        class_probs = {\n",
    "            fine_tuner.class_names[i]: prob.item() * 100 \n",
    "            for i, prob in enumerate(probabilities[0])\n",
    "        }\n",
    "        \n",
    "        return predicted_class, confidence, class_probs\n",
    "    \n",
    "    # Create a simple UI for testing\n",
    "    from ipywidgets import widgets, Layout\n",
    "    from IPython.display import display, clear_output\n",
    "    \n",
    "    # Create text input\n",
    "    text_input = widgets.Textarea(\n",
    "        placeholder='Enter text to analyze...',\n",
    "        layout=Layout(width='100%', height='100px')\n",
    "    )\n",
    "    \n",
    "    # Create button\n",
    "    button = widgets.Button(\n",
    "        description='Analyze Sentiment',\n",
    "        button_style='primary',\n",
    "        layout=Layout(width='200px')\n",
    "    )\n",
    "    \n",
    "    # Create output area\n",
    "    output = widgets.Output()\n",
    "    \n",
    "    # Define button click event\n",
    "    def on_button_click(b):\n",
    "        with output:\n",
    "            clear_output()\n",
    "            if not text_input.value.strip():\n",
    "                print(\"Please enter some text to analyze.\")\n",
    "                return\n",
    "            \n",
    "            print(f\"Analyzing: \\\"{text_input.value}\\\"\")\n",
    "            predicted_class, confidence, class_probs = predict_sentiment(text_input.value)\n",
    "            \n",
    "            print(f\"\\nPredicted sentiment: {predicted_class} (Confidence: {confidence:.2f}%)\")\n",
    "            print(\"\\nProbabilities for all classes:\")\n",
    "            for cls, prob in class_probs.items():\n",
    "                print(f\"  - {cls}: {prob:.2f}%\")\n",
    "    \n",
    "    button.on_click(on_button_click)\n",
    "    \n",
    "    # Display widgets\n",
    "    print(\"Try your own examples:\")\n",
    "    display(text_input)\n",
    "    display(button)\n",
    "    display(output)\n",
    "    \n",
    "except Exception as e:\n",
    "    print(f\"An error occurred: {e}\")\n",
    "    import traceback\n",
    "    traceback.print_exc()"
   ]
  },
  {
   "cell_type": "code",
   "execution_count": 10,
   "id": "dde176d6",
   "metadata": {},
   "outputs": [],
   "source": [
    "# import torch\n",
    "# import os\n",
    "# import json\n",
    "\n",
    "\n",
    "# def save_model(fine_tuner, save_dir=\"saved_model\"):\n",
    "#     \"\"\"\n",
    "#     Save the model architecture, tokenizer, weights, and related configurations.\n",
    "#     \"\"\"\n",
    "#     os.makedirs(save_dir, exist_ok=True)\n",
    "    \n",
    "#     # Save model weights\n",
    "#     model_path = os.path.join(save_dir, \"model.pth\")\n",
    "#     torch.save(fine_tuner.model.state_dict(), model_path)\n",
    "#     print(f\"Model weights saved at: {model_path}\")\n",
    "    \n",
    "#     # Save tokenizer\n",
    "#     tokenizer_path = os.path.join(save_dir, \"tokenizer\")\n",
    "#     fine_tuner.tokenizer.save_pretrained(tokenizer_path)\n",
    "#     print(f\"Tokenizer saved at: {tokenizer_path}\")\n",
    "    \n",
    "#     # Save training history if available\n",
    "#     history_path = os.path.join(save_dir, \"history.json\")\n",
    "#     if hasattr(fine_tuner.trainer, 'history') and fine_tuner.trainer.history:\n",
    "#         with open(history_path, \"w\") as f:\n",
    "#             json.dump(fine_tuner.trainer.history, f, indent=4)\n",
    "#         print(f\"Training history saved at: {history_path}\")\n",
    "    \n",
    "#     # Save model configuration\n",
    "#     config_path = os.path.join(save_dir, \"config.json\")\n",
    "#     config_data = {\n",
    "#         \"model_name\": \"DeBERTa Sentiment Classifier\",\n",
    "#         \"class_names\": fine_tuner.class_names,\n",
    "#         \"device\": fine_tuner.device,\n",
    "#         \"pretrained_model\": CONFIG[\"models\"][\"deberta\"][\"pretrained_model_name\"],\n",
    "#         \"max_length\": CONFIG[\"training\"][\"max_length\"]\n",
    "#     }\n",
    "    \n",
    "#     with open(config_path, \"w\") as f:\n",
    "#         json.dump(config_data, f, indent=4)\n",
    "#     print(f\"Model configuration saved at: {config_path}\")\n",
    "    \n",
    "#     print(\"Model save process completed!\")\n"
   ]
  },
  {
   "cell_type": "code",
   "execution_count": 11,
   "id": "b5d52df8",
   "metadata": {},
   "outputs": [
    {
     "name": "stdout",
     "output_type": "stream",
     "text": [
      "Model weights saved at: saved_model/model.pth\n",
      "Tokenizer saved at: saved_model/tokenizer\n",
      "Training history saved at: saved_model/history.json\n",
      "Model configuration saved at: saved_model/config.json\n",
      "Model save process completed!\n"
     ]
    }
   ],
   "source": [
    "# save_model(fine_tuner)\n"
   ]
  },
  {
   "cell_type": "code",
   "execution_count": 9,
   "id": "14f44b79",
   "metadata": {},
   "outputs": [],
   "source": [
    "import torch\n",
    "import os\n",
    "import json\n",
    "from datetime import datetime\n",
    "from src.config import CONFIG\n",
    "\n",
    "def save_model(fine_tuner, version=\"v02\", base_dir=\"saved_models\"):\n",
    "    \"\"\"\n",
    "    Save the complete model architecture, tokenizer, weights, and related configurations\n",
    "    with version control to prevent overwriting previous models.\n",
    "    \n",
    "    Args:\n",
    "        fine_tuner: The fine-tuned model object\n",
    "        version: Version string to append to the directory name\n",
    "        base_dir: Base directory for saved models\n",
    "    \"\"\"\n",
    "    # Create model type specific directory with version\n",
    "    model_type = fine_tuner.model_type if hasattr(fine_tuner, 'model_type') else \"deberta\"\n",
    "    save_dir = os.path.join(base_dir, f\"{model_type}_{version}\")\n",
    "    os.makedirs(save_dir, exist_ok=True)\n",
    "    \n",
    "    # Get timestamp for model identification\n",
    "    timestamp = datetime.now().strftime(\"%Y%m%d_%H%M%S\")\n",
    "    \n",
    "    # Save complete model (architecture + weights)\n",
    "    model_path = os.path.join(save_dir, f\"model_full_{timestamp}.pt\")\n",
    "    torch.save(fine_tuner.model, model_path)\n",
    "    print(f\"Complete model saved at: {model_path}\")\n",
    "    \n",
    "    # Save model weights separately for flexibility\n",
    "    weights_path = os.path.join(save_dir, f\"model_weights_{timestamp}.pt\")\n",
    "    torch.save(fine_tuner.model.state_dict(), weights_path)\n",
    "    print(f\"Model weights saved at: {weights_path}\")\n",
    "    \n",
    "    # Save tokenizer\n",
    "    tokenizer_path = os.path.join(save_dir, \"tokenizer\")\n",
    "    fine_tuner.tokenizer.save_pretrained(tokenizer_path)\n",
    "    print(f\"Tokenizer saved at: {tokenizer_path}\")\n",
    "    \n",
    "    # Save training history if available\n",
    "    if hasattr(fine_tuner.trainer, 'history') and fine_tuner.trainer.history:\n",
    "        history_path = os.path.join(save_dir, f\"history_{timestamp}.json\")\n",
    "        with open(history_path, \"w\") as f:\n",
    "            json.dump(fine_tuner.trainer.history, f, indent=4)\n",
    "        print(f\"Training history saved at: {history_path}\")\n",
    "    \n",
    "    # Save metrics if available\n",
    "    if hasattr(fine_tuner, 'metrics'):\n",
    "        metrics_path = os.path.join(save_dir, f\"metrics_{timestamp}.json\")\n",
    "        with open(metrics_path, \"w\") as f:\n",
    "            # Convert numpy types to native Python types for JSON serialization\n",
    "            metrics_dict = {}\n",
    "            for k, v in fine_tuner.metrics.items():\n",
    "                if hasattr(v, 'tolist'):  # For numpy arrays\n",
    "                    metrics_dict[k] = v.tolist()\n",
    "                elif isinstance(v, dict):  # For nested dictionaries (like confusion matrix)\n",
    "                    metrics_dict[k] = {k2: v2.tolist() if hasattr(v2, 'tolist') else v2 \n",
    "                                      for k2, v2 in v.items()}\n",
    "                else:\n",
    "                    metrics_dict[k] = v\n",
    "            json.dump(metrics_dict, f, indent=4)\n",
    "        print(f\"Evaluation metrics saved at: {metrics_path}\")\n",
    "    \n",
    "    # Save comprehensive model configuration\n",
    "    config_path = os.path.join(save_dir, f\"config_{timestamp}.json\")\n",
    "    config_data = {\n",
    "        \"model_name\": f\"{model_type.capitalize()} Sentiment Classifier\",\n",
    "        \"version\": version,\n",
    "        \"timestamp\": timestamp,\n",
    "        \"class_names\": fine_tuner.class_names,\n",
    "        \"device_trained_on\": fine_tuner.device,\n",
    "        \"pretrained_model\": CONFIG[\"models\"][model_type][\"pretrained_model_name\"],\n",
    "        \"training_config\": {k: v for k, v in CONFIG[\"training\"].items()},\n",
    "        \"dataset_config\": {k: v for k, v in CONFIG[\"dataset\"].items() \n",
    "                           if k not in [\"raw_combined_dataset\", \"raw_toxiCR_dataset\"]}\n",
    "    }\n",
    "    \n",
    "    with open(config_path, \"w\") as f:\n",
    "        json.dump(config_data, f, indent=4)\n",
    "    print(f\"Comprehensive configuration saved at: {config_path}\")\n"
   ]
  },
  {
   "cell_type": "code",
   "execution_count": 10,
   "id": "4d412fb4",
   "metadata": {},
   "outputs": [
    {
     "name": "stdout",
     "output_type": "stream",
     "text": [
      "Complete model saved at: saved_models/deberta_v02/model_full_20250320_001843.pt\n",
      "Model weights saved at: saved_models/deberta_v02/model_weights_20250320_001843.pt\n",
      "Tokenizer saved at: saved_models/deberta_v02/tokenizer\n",
      "Training history saved at: saved_models/deberta_v02/history_20250320_001843.json\n",
      "Evaluation metrics saved at: saved_models/deberta_v02/metrics_20250320_001843.json\n",
      "Comprehensive configuration saved at: saved_models/deberta_v02/config_20250320_001843.json\n"
     ]
    }
   ],
   "source": [
    "save_model(fine_tuner)"
   ]
  },
  {
   "cell_type": "code",
   "execution_count": null,
   "id": "27c151c5",
   "metadata": {},
   "outputs": [],
   "source": [
    "import torch\n",
    "from transformers import AutoTokenizer, AutoModelForSequenceClassification\n",
    "\n",
    "def load_model(model_path=\"{model_path}\", tokenizer_path=\"{tokenizer_path}\"):\n",
    "    '''Load the saved model and tokenizer'''\n",
    "    # Load the full model\n",
    "    model = torch.load(model_path)\n",
    "    \n",
    "    # Load tokenizer\n",
    "    tokenizer = AutoTokenizer.from_pretrained(tokenizer_path)\n",
    "    \n",
    "    return model, tokenizer\n",
    "\n",
    "def predict(text, model, tokenizer, device='cpu'):\n",
    "    '''Make predictions with the loaded model'''\n",
    "    model.to(device)\n",
    "    model.eval()\n",
    "    \n",
    "    # Tokenize input\n",
    "    inputs = tokenizer(text, return_tensors=\"pt\", padding=True, truncation=True, \n",
    "                      max_length={CONFIG[\"training\"][\"max_length\"]})\n",
    "    inputs = {{k: v.to(device) for k, v in inputs.items()}}\n",
    "    \n",
    "    # Get predictions\n",
    "    with torch.no_grad():\n",
    "        outputs = model(**inputs)\n",
    "    \n",
    "    # Process outputs\n",
    "    logits = outputs.logits\n",
    "    probabilities = torch.nn.functional.softmax(logits, dim=1)\n",
    "    predicted_class = torch.argmax(logits, dim=1).item()\n",
    "    \n",
    "    # Map to class names\n",
    "    class_names = {fine_tuner.class_names}\n",
    "    prediction = class_names[predicted_class]\n",
    "    \n",
    "    return {{\n",
    "        'prediction': prediction,\n",
    "        'predicted_class': predicted_class,\n",
    "        'probabilities': probabilities[0].tolist(),\n",
    "        'class_names': class_names\n",
    "    }}"
   ]
  },
  {
   "cell_type": "code",
   "execution_count": null,
   "id": "4b63deaf",
   "metadata": {},
   "outputs": [],
   "source": [
    "model, tokenizer = load_model()\n",
    "result = predict(\"This is a test comment.\", model, tokenizer)\n",
    "print(f\"Prediction: {{result['prediction']}}\")\n",
    "print(f\"Confidence: {{result['probabilities'][result['predicted_class']]:.2f}}\")\n",
    "print(f\"Model loading script created at: {loader_script}\")\n",
    "print(f\"✅ Model save process completed! Model saved in: {save_dir}\")"
   ]
  }
 ],
 "metadata": {
  "kernelspec": {
   "display_name": "Python 3 (ipykernel)",
   "language": "python",
   "name": "python3"
  },
  "language_info": {
   "codemirror_mode": {
    "name": "ipython",
    "version": 3
   },
   "file_extension": ".py",
   "mimetype": "text/x-python",
   "name": "python",
   "nbconvert_exporter": "python",
   "pygments_lexer": "ipython3",
   "version": "3.7.9"
  }
 },
 "nbformat": 4,
 "nbformat_minor": 5
}
